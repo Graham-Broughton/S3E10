{
 "cells": [
  {
   "cell_type": "code",
   "execution_count": 12,
   "metadata": {},
   "outputs": [
    {
     "name": "stdout",
     "output_type": "stream",
     "text": [
      "The autoreload extension is already loaded. To reload it, use:\n",
      "  %reload_ext autoreload\n"
     ]
    }
   ],
   "source": [
    "%load_ext autoreload\n",
    "%autoreload 2"
   ]
  },
  {
   "cell_type": "code",
   "execution_count": 75,
   "metadata": {},
   "outputs": [],
   "source": [
    "import pandas as pd\n",
    "from pandas.io.formats.style import Styler\n",
    "import numpy as np\n",
    "import matplotlib.pyplot as plt\n",
    "import seaborn as sns\n",
    "import plotly.express as px\n",
    "import plotly.graph_objects as go\n",
    "%matplotlib inline\n",
    "\n",
    "import os\n",
    "import sys\n",
    "import datetime\n",
    "from tqdm import tqdm\n",
    "import copy\n",
    "\n",
    "import optuna\n",
    "import wandb\n",
    "from wandb.lightgbm import wandb_callback, log_summary\n",
    "\n",
    "import xgboost as xgb\n",
    "from xgboost.callback import EarlyStopping\n",
    "import lightgbm as lgbm\n",
    "\n",
    "from sklearn.decomposition import PCA\n",
    "from sklearn.manifold import TSNE\n",
    "from sklearn.preprocessing import StandardScaler, RobustScaler\n",
    "from sklearn.model_selection import StratifiedKFold, RepeatedStratifiedKFold\n",
    "from sklearn.metrics import mean_squared_error, log_loss\n",
    "from sklearn.ensemble import RandomForestRegressor, RandomForestClassifier\n",
    "from sklearn.linear_model import LogisticRegression, RidgeClassifier, Ridge, BayesianRidge\n",
    "from sklearn.calibration import CalibratedClassifierCV\n",
    "\n",
    "from umap import UMAP\n",
    "\n",
    "import warnings; warnings.filterwarnings('ignore')\n",
    "\n",
    "sys.path.append('..')\n",
    "from config import CFG\n",
    "from src.data_processing.fi import get_fi\n",
    "CFG = CFG()\n",
    "pd.options.display.float_format = '{:,.2f}'.format\n",
    "pd.set_option('display.max_columns', CFG.NCOLS)\n",
    "pd.set_option('display.max_rows', CFG.NROWS)"
   ]
  },
  {
   "cell_type": "code",
   "execution_count": 14,
   "metadata": {},
   "outputs": [],
   "source": [
    "from colorama import Style, Fore\n",
    "red = Style.BRIGHT + Fore.RED\n",
    "blu = Style.BRIGHT + Fore.BLUE\n",
    "mgt = Style.BRIGHT + Fore.MAGENTA\n",
    "grn = Style.BRIGHT + Fore.GREEN\n",
    "gld = Style.BRIGHT + Fore.YELLOW\n",
    "res = Style.RESET_ALL\n",
    "\n",
    "rc = {\n",
    "    \"axes.facecolor\": \"#FFFEF8\",\n",
    "    \"figure.facecolor\": \"#FFFEF8\",\n",
    "    \"axes.edgecolor\": \"#000000\",\n",
    "    \"grid.color\": \"#EBEBE7\" + \"30\",\n",
    "    \"font.family\": \"serif\",\n",
    "    \"axes.labelcolor\": \"#000000\",\n",
    "    \"xtick.color\": \"#000000\",\n",
    "    \"ytick.color\": \"#000000\",\n",
    "    \"grid.alpha\": 0.4\n",
    "}\n",
    "sns.set(rc=rc)\n",
    "palette = ['#302c36', '#037d97', '#E4591E', '#C09741',\n",
    "           '#EC5B6D', '#90A6B1', '#6ca957', '#D8E3E2']"
   ]
  },
  {
   "cell_type": "code",
   "execution_count": 15,
   "metadata": {},
   "outputs": [],
   "source": [
    "orig = pd.read_csv(os.path.join(CFG.RAW_DATA, 'Pulsar.csv'))\n",
    "train = pd.read_csv(os.path.join(CFG.RAW_DATA, 'train.csv')).drop(columns='id')\n",
    "test = pd.read_csv(os.path.join(CFG.RAW_DATA, 'test.csv')).drop(columns='id')\n",
    "\n",
    "config = {}"
   ]
  },
  {
   "cell_type": "code",
   "execution_count": 36,
   "metadata": {},
   "outputs": [],
   "source": [
    "scaler = StandardScaler()\n",
    "config['scaler'] = \"standard\"\n",
    "\n",
    "scaled_tr = pd.DataFrame(scaler.fit_transform(train.drop(\"Class\", axis=1)), columns=train.drop(\"Class\", axis=1).columns)\n",
    "scaled_tr[\"Class\"] = train[\"Class\"]\n",
    "\n",
    "scaled_orig = pd.DataFrame(scaler.fit_transform(orig.drop(\"Class\", axis=1)), columns=orig.drop(\"Class\", axis=1).columns)\n",
    "scaled_orig[\"Class\"] = orig[\"Class\"]\n",
    "\n",
    "scaled_tst = pd.DataFrame(scaler.transform(test), columns=test.columns)"
   ]
  },
  {
   "cell_type": "code",
   "execution_count": 37,
   "metadata": {},
   "outputs": [],
   "source": [
    "def get_n_components(df):\n",
    "    n_components = df.shape[1]\n",
    "    pca = PCA(n_components=n_components, random_state=CFG.SEED)\n",
    "    \n",
    "    components = pca.fit_transform(df)\n",
    "    components = pd.DataFrame(components, columns=[f'PC{i}' for i in range(n_components)])\n",
    "    components['Class'] = df['Class']\n",
    "    exp_var = pca.explained_variance_ratio_\n",
    "    exp_var_cumsum = np.cumsum(exp_var)\n",
    "    return components, exp_var, exp_var_cumsum"
   ]
  },
  {
   "cell_type": "code",
   "execution_count": 38,
   "metadata": {},
   "outputs": [
    {
     "data": {
      "application/vnd.plotly.v1+json": {
       "config": {
        "plotlyServerURL": "https://plot.ly"
       },
       "data": [
        {
         "line": {
          "color": "#302c36",
          "width": 2
         },
         "name": "Cumulative Explained Variance",
         "type": "scatter",
         "x": [
          0,
          1,
          2,
          3,
          4,
          5,
          6,
          7,
          8
         ],
         "y": [
          0.5834717140043426,
          0.8240452707069856,
          0.9083329095141839,
          0.958652896928117,
          0.9810090586211202,
          0.9941768802009632,
          0.9973298431668948,
          0.9988665506773926,
          0.9999999999999999
         ]
        },
        {
         "marker": {
          "color": "#037d97"
         },
         "name": "Explained Variance",
         "type": "bar",
         "width": 0.7,
         "x": [
          0,
          1,
          2,
          3,
          4,
          5,
          6,
          7,
          8
         ],
         "y": [
          0.5834717140043426,
          0.24057355670264302,
          0.0842876388071983,
          0.050319987413933044,
          0.022356161693003297,
          0.01316782157984294,
          0.0031529629659316416,
          0.0015367075104978586,
          0.0011334493226072898
         ]
        }
       ],
       "layout": {
        "height": 500,
        "template": {
         "data": {
          "bar": [
           {
            "error_x": {
             "color": "#2a3f5f"
            },
            "error_y": {
             "color": "#2a3f5f"
            },
            "marker": {
             "line": {
              "color": "#E5ECF6",
              "width": 0.5
             },
             "pattern": {
              "fillmode": "overlay",
              "size": 10,
              "solidity": 0.2
             }
            },
            "type": "bar"
           }
          ],
          "barpolar": [
           {
            "marker": {
             "line": {
              "color": "#E5ECF6",
              "width": 0.5
             },
             "pattern": {
              "fillmode": "overlay",
              "size": 10,
              "solidity": 0.2
             }
            },
            "type": "barpolar"
           }
          ],
          "carpet": [
           {
            "aaxis": {
             "endlinecolor": "#2a3f5f",
             "gridcolor": "white",
             "linecolor": "white",
             "minorgridcolor": "white",
             "startlinecolor": "#2a3f5f"
            },
            "baxis": {
             "endlinecolor": "#2a3f5f",
             "gridcolor": "white",
             "linecolor": "white",
             "minorgridcolor": "white",
             "startlinecolor": "#2a3f5f"
            },
            "type": "carpet"
           }
          ],
          "choropleth": [
           {
            "colorbar": {
             "outlinewidth": 0,
             "ticks": ""
            },
            "type": "choropleth"
           }
          ],
          "contour": [
           {
            "colorbar": {
             "outlinewidth": 0,
             "ticks": ""
            },
            "colorscale": [
             [
              0,
              "#0d0887"
             ],
             [
              0.1111111111111111,
              "#46039f"
             ],
             [
              0.2222222222222222,
              "#7201a8"
             ],
             [
              0.3333333333333333,
              "#9c179e"
             ],
             [
              0.4444444444444444,
              "#bd3786"
             ],
             [
              0.5555555555555556,
              "#d8576b"
             ],
             [
              0.6666666666666666,
              "#ed7953"
             ],
             [
              0.7777777777777778,
              "#fb9f3a"
             ],
             [
              0.8888888888888888,
              "#fdca26"
             ],
             [
              1,
              "#f0f921"
             ]
            ],
            "type": "contour"
           }
          ],
          "contourcarpet": [
           {
            "colorbar": {
             "outlinewidth": 0,
             "ticks": ""
            },
            "type": "contourcarpet"
           }
          ],
          "heatmap": [
           {
            "colorbar": {
             "outlinewidth": 0,
             "ticks": ""
            },
            "colorscale": [
             [
              0,
              "#0d0887"
             ],
             [
              0.1111111111111111,
              "#46039f"
             ],
             [
              0.2222222222222222,
              "#7201a8"
             ],
             [
              0.3333333333333333,
              "#9c179e"
             ],
             [
              0.4444444444444444,
              "#bd3786"
             ],
             [
              0.5555555555555556,
              "#d8576b"
             ],
             [
              0.6666666666666666,
              "#ed7953"
             ],
             [
              0.7777777777777778,
              "#fb9f3a"
             ],
             [
              0.8888888888888888,
              "#fdca26"
             ],
             [
              1,
              "#f0f921"
             ]
            ],
            "type": "heatmap"
           }
          ],
          "heatmapgl": [
           {
            "colorbar": {
             "outlinewidth": 0,
             "ticks": ""
            },
            "colorscale": [
             [
              0,
              "#0d0887"
             ],
             [
              0.1111111111111111,
              "#46039f"
             ],
             [
              0.2222222222222222,
              "#7201a8"
             ],
             [
              0.3333333333333333,
              "#9c179e"
             ],
             [
              0.4444444444444444,
              "#bd3786"
             ],
             [
              0.5555555555555556,
              "#d8576b"
             ],
             [
              0.6666666666666666,
              "#ed7953"
             ],
             [
              0.7777777777777778,
              "#fb9f3a"
             ],
             [
              0.8888888888888888,
              "#fdca26"
             ],
             [
              1,
              "#f0f921"
             ]
            ],
            "type": "heatmapgl"
           }
          ],
          "histogram": [
           {
            "marker": {
             "pattern": {
              "fillmode": "overlay",
              "size": 10,
              "solidity": 0.2
             }
            },
            "type": "histogram"
           }
          ],
          "histogram2d": [
           {
            "colorbar": {
             "outlinewidth": 0,
             "ticks": ""
            },
            "colorscale": [
             [
              0,
              "#0d0887"
             ],
             [
              0.1111111111111111,
              "#46039f"
             ],
             [
              0.2222222222222222,
              "#7201a8"
             ],
             [
              0.3333333333333333,
              "#9c179e"
             ],
             [
              0.4444444444444444,
              "#bd3786"
             ],
             [
              0.5555555555555556,
              "#d8576b"
             ],
             [
              0.6666666666666666,
              "#ed7953"
             ],
             [
              0.7777777777777778,
              "#fb9f3a"
             ],
             [
              0.8888888888888888,
              "#fdca26"
             ],
             [
              1,
              "#f0f921"
             ]
            ],
            "type": "histogram2d"
           }
          ],
          "histogram2dcontour": [
           {
            "colorbar": {
             "outlinewidth": 0,
             "ticks": ""
            },
            "colorscale": [
             [
              0,
              "#0d0887"
             ],
             [
              0.1111111111111111,
              "#46039f"
             ],
             [
              0.2222222222222222,
              "#7201a8"
             ],
             [
              0.3333333333333333,
              "#9c179e"
             ],
             [
              0.4444444444444444,
              "#bd3786"
             ],
             [
              0.5555555555555556,
              "#d8576b"
             ],
             [
              0.6666666666666666,
              "#ed7953"
             ],
             [
              0.7777777777777778,
              "#fb9f3a"
             ],
             [
              0.8888888888888888,
              "#fdca26"
             ],
             [
              1,
              "#f0f921"
             ]
            ],
            "type": "histogram2dcontour"
           }
          ],
          "mesh3d": [
           {
            "colorbar": {
             "outlinewidth": 0,
             "ticks": ""
            },
            "type": "mesh3d"
           }
          ],
          "parcoords": [
           {
            "line": {
             "colorbar": {
              "outlinewidth": 0,
              "ticks": ""
             }
            },
            "type": "parcoords"
           }
          ],
          "pie": [
           {
            "automargin": true,
            "type": "pie"
           }
          ],
          "scatter": [
           {
            "fillpattern": {
             "fillmode": "overlay",
             "size": 10,
             "solidity": 0.2
            },
            "type": "scatter"
           }
          ],
          "scatter3d": [
           {
            "line": {
             "colorbar": {
              "outlinewidth": 0,
              "ticks": ""
             }
            },
            "marker": {
             "colorbar": {
              "outlinewidth": 0,
              "ticks": ""
             }
            },
            "type": "scatter3d"
           }
          ],
          "scattercarpet": [
           {
            "marker": {
             "colorbar": {
              "outlinewidth": 0,
              "ticks": ""
             }
            },
            "type": "scattercarpet"
           }
          ],
          "scattergeo": [
           {
            "marker": {
             "colorbar": {
              "outlinewidth": 0,
              "ticks": ""
             }
            },
            "type": "scattergeo"
           }
          ],
          "scattergl": [
           {
            "marker": {
             "colorbar": {
              "outlinewidth": 0,
              "ticks": ""
             }
            },
            "type": "scattergl"
           }
          ],
          "scattermapbox": [
           {
            "marker": {
             "colorbar": {
              "outlinewidth": 0,
              "ticks": ""
             }
            },
            "type": "scattermapbox"
           }
          ],
          "scatterpolar": [
           {
            "marker": {
             "colorbar": {
              "outlinewidth": 0,
              "ticks": ""
             }
            },
            "type": "scatterpolar"
           }
          ],
          "scatterpolargl": [
           {
            "marker": {
             "colorbar": {
              "outlinewidth": 0,
              "ticks": ""
             }
            },
            "type": "scatterpolargl"
           }
          ],
          "scatterternary": [
           {
            "marker": {
             "colorbar": {
              "outlinewidth": 0,
              "ticks": ""
             }
            },
            "type": "scatterternary"
           }
          ],
          "surface": [
           {
            "colorbar": {
             "outlinewidth": 0,
             "ticks": ""
            },
            "colorscale": [
             [
              0,
              "#0d0887"
             ],
             [
              0.1111111111111111,
              "#46039f"
             ],
             [
              0.2222222222222222,
              "#7201a8"
             ],
             [
              0.3333333333333333,
              "#9c179e"
             ],
             [
              0.4444444444444444,
              "#bd3786"
             ],
             [
              0.5555555555555556,
              "#d8576b"
             ],
             [
              0.6666666666666666,
              "#ed7953"
             ],
             [
              0.7777777777777778,
              "#fb9f3a"
             ],
             [
              0.8888888888888888,
              "#fdca26"
             ],
             [
              1,
              "#f0f921"
             ]
            ],
            "type": "surface"
           }
          ],
          "table": [
           {
            "cells": {
             "fill": {
              "color": "#EBF0F8"
             },
             "line": {
              "color": "white"
             }
            },
            "header": {
             "fill": {
              "color": "#C8D4E3"
             },
             "line": {
              "color": "white"
             }
            },
            "type": "table"
           }
          ]
         },
         "layout": {
          "annotationdefaults": {
           "arrowcolor": "#2a3f5f",
           "arrowhead": 0,
           "arrowwidth": 1
          },
          "autotypenumbers": "strict",
          "coloraxis": {
           "colorbar": {
            "outlinewidth": 0,
            "ticks": ""
           }
          },
          "colorscale": {
           "diverging": [
            [
             0,
             "#8e0152"
            ],
            [
             0.1,
             "#c51b7d"
            ],
            [
             0.2,
             "#de77ae"
            ],
            [
             0.3,
             "#f1b6da"
            ],
            [
             0.4,
             "#fde0ef"
            ],
            [
             0.5,
             "#f7f7f7"
            ],
            [
             0.6,
             "#e6f5d0"
            ],
            [
             0.7,
             "#b8e186"
            ],
            [
             0.8,
             "#7fbc41"
            ],
            [
             0.9,
             "#4d9221"
            ],
            [
             1,
             "#276419"
            ]
           ],
           "sequential": [
            [
             0,
             "#0d0887"
            ],
            [
             0.1111111111111111,
             "#46039f"
            ],
            [
             0.2222222222222222,
             "#7201a8"
            ],
            [
             0.3333333333333333,
             "#9c179e"
            ],
            [
             0.4444444444444444,
             "#bd3786"
            ],
            [
             0.5555555555555556,
             "#d8576b"
            ],
            [
             0.6666666666666666,
             "#ed7953"
            ],
            [
             0.7777777777777778,
             "#fb9f3a"
            ],
            [
             0.8888888888888888,
             "#fdca26"
            ],
            [
             1,
             "#f0f921"
            ]
           ],
           "sequentialminus": [
            [
             0,
             "#0d0887"
            ],
            [
             0.1111111111111111,
             "#46039f"
            ],
            [
             0.2222222222222222,
             "#7201a8"
            ],
            [
             0.3333333333333333,
             "#9c179e"
            ],
            [
             0.4444444444444444,
             "#bd3786"
            ],
            [
             0.5555555555555556,
             "#d8576b"
            ],
            [
             0.6666666666666666,
             "#ed7953"
            ],
            [
             0.7777777777777778,
             "#fb9f3a"
            ],
            [
             0.8888888888888888,
             "#fdca26"
            ],
            [
             1,
             "#f0f921"
            ]
           ]
          },
          "colorway": [
           "#636efa",
           "#EF553B",
           "#00cc96",
           "#ab63fa",
           "#FFA15A",
           "#19d3f3",
           "#FF6692",
           "#B6E880",
           "#FF97FF",
           "#FECB52"
          ],
          "font": {
           "color": "#2a3f5f"
          },
          "geo": {
           "bgcolor": "white",
           "lakecolor": "white",
           "landcolor": "#E5ECF6",
           "showlakes": true,
           "showland": true,
           "subunitcolor": "white"
          },
          "hoverlabel": {
           "align": "left"
          },
          "hovermode": "closest",
          "mapbox": {
           "style": "light"
          },
          "paper_bgcolor": "white",
          "plot_bgcolor": "#E5ECF6",
          "polar": {
           "angularaxis": {
            "gridcolor": "white",
            "linecolor": "white",
            "ticks": ""
           },
           "bgcolor": "#E5ECF6",
           "radialaxis": {
            "gridcolor": "white",
            "linecolor": "white",
            "ticks": ""
           }
          },
          "scene": {
           "xaxis": {
            "backgroundcolor": "#E5ECF6",
            "gridcolor": "white",
            "gridwidth": 2,
            "linecolor": "white",
            "showbackground": true,
            "ticks": "",
            "zerolinecolor": "white"
           },
           "yaxis": {
            "backgroundcolor": "#E5ECF6",
            "gridcolor": "white",
            "gridwidth": 2,
            "linecolor": "white",
            "showbackground": true,
            "ticks": "",
            "zerolinecolor": "white"
           },
           "zaxis": {
            "backgroundcolor": "#E5ECF6",
            "gridcolor": "white",
            "gridwidth": 2,
            "linecolor": "white",
            "showbackground": true,
            "ticks": "",
            "zerolinecolor": "white"
           }
          },
          "shapedefaults": {
           "line": {
            "color": "#2a3f5f"
           }
          },
          "ternary": {
           "aaxis": {
            "gridcolor": "white",
            "linecolor": "white",
            "ticks": ""
           },
           "baxis": {
            "gridcolor": "white",
            "linecolor": "white",
            "ticks": ""
           },
           "bgcolor": "#E5ECF6",
           "caxis": {
            "gridcolor": "white",
            "linecolor": "white",
            "ticks": ""
           }
          },
          "title": {
           "x": 0.05
          },
          "xaxis": {
           "automargin": true,
           "gridcolor": "white",
           "linecolor": "white",
           "ticks": "",
           "title": {
            "standoff": 15
           },
           "zerolinecolor": "white",
           "zerolinewidth": 2
          },
          "yaxis": {
           "automargin": true,
           "gridcolor": "white",
           "linecolor": "white",
           "ticks": "",
           "title": {
            "standoff": 15
           },
           "zerolinecolor": "white",
           "zerolinewidth": 2
          }
         }
        },
        "title": {
         "font": {
          "size": 24
         },
         "text": "Explained Variance by Principal Components",
         "x": 0.5
        },
        "width": 1000,
        "xaxis": {
         "tickfont": {
          "size": 16
         },
         "title": {
          "font": {
           "size": 20
          },
          "text": "Principal Components"
         }
        },
        "yaxis": {
         "tickfont": {
          "size": 16
         },
         "title": {
          "font": {
           "size": 20
          },
          "text": "Explained Variance"
         }
        }
       }
      }
     },
     "metadata": {},
     "output_type": "display_data"
    }
   ],
   "source": [
    "components, exp_var, exp_var_cumsum = get_n_components(scaled_tr)\n",
    "\n",
    "fig = go.Figure()\n",
    "\n",
    "fig.add_trace(\n",
    "    go.Scatter(\n",
    "        x=list(range(len(exp_var_cumsum))),\n",
    "        y=exp_var_cumsum,\n",
    "        name='Cumulative Explained Variance',\n",
    "        line=dict(color=palette[0], width=2),\n",
    "    )\n",
    ")\n",
    "fig.add_trace(\n",
    "    go.Bar(\n",
    "        x=list(range(len(exp_var_cumsum))),\n",
    "        y=exp_var,\n",
    "        name='Explained Variance',\n",
    "        marker_color=palette[1],\n",
    "        width=0.7,\n",
    "    )\n",
    ")\n",
    "\n",
    "fig.update_layout(\n",
    "    xaxis=dict(title='Principal Components', titlefont_size=20, tickfont_size=16),\n",
    "    yaxis=dict(title='Explained Variance', titlefont_size=20, tickfont_size=16),\n",
    "    height=500, width=1000, title_text='Explained Variance by Principal Components', title_x=0.5, titlefont_size=24,\n",
    ")"
   ]
  },
  {
   "attachments": {},
   "cell_type": "markdown",
   "metadata": {},
   "source": [
    "- I will try using 3 components first, then maybe 4"
   ]
  },
  {
   "cell_type": "code",
   "execution_count": 39,
   "metadata": {},
   "outputs": [],
   "source": [
    "def pca_transform(train, test, N):\n",
    "    pca = PCA(n_components=N, random_state=CFG.SEED)\n",
    "    X = pca.fit_transform(train.drop(\"Class\", axis=1))\n",
    "    X = pd.DataFrame(X, columns=[f'PC{i}' for i in range(N)])\n",
    "    y = train['Class']\n",
    "    return pca.transform(test), X, y"
   ]
  },
  {
   "cell_type": "code",
   "execution_count": 44,
   "metadata": {},
   "outputs": [],
   "source": [
    "N = 3\n",
    "config['n_components'] = N\n",
    "\n",
    "X_test, X, y = pca_transform(scaled_tr, scaled_tst, N)"
   ]
  },
  {
   "cell_type": "code",
   "execution_count": 21,
   "metadata": {},
   "outputs": [
    {
     "data": {
      "text/html": [
       "Finishing last run (ID:55w3txgk) before initializing another..."
      ],
      "text/plain": [
       "<IPython.core.display.HTML object>"
      ]
     },
     "metadata": {},
     "output_type": "display_data"
    },
    {
     "data": {
      "text/html": [
       "Waiting for W&B process to finish... <strong style=\"color:green\">(success).</strong>"
      ],
      "text/plain": [
       "<IPython.core.display.HTML object>"
      ]
     },
     "metadata": {},
     "output_type": "display_data"
    },
    {
     "data": {
      "application/vnd.jupyter.widget-view+json": {
       "model_id": "e65337aa3fbb415e8a9e1b8426abffd2",
       "version_major": 2,
       "version_minor": 0
      },
      "text/plain": [
       "VBox(children=(Label(value='0.094 MB of 0.094 MB uploaded (0.000 MB deduped)\\r'), FloatProgress(value=1.0, max…"
      ]
     },
     "metadata": {},
     "output_type": "display_data"
    },
    {
     "data": {
      "text/html": [
       "<style>\n",
       "    table.wandb td:nth-child(1) { padding: 0 10px; text-align: left ; width: auto;} td:nth-child(2) {text-align: left ; width: 100%}\n",
       "    .wandb-row { display: flex; flex-direction: row; flex-wrap: wrap; justify-content: flex-start; width: 100% }\n",
       "    .wandb-col { display: flex; flex-direction: column; flex-basis: 100%; flex: 1; padding: 10px; }\n",
       "    </style>\n",
       "<div class=\"wandb-row\"><div class=\"wandb-col\"><h3>Run history:</h3><br/><table class=\"wandb\"><tr><td>best_iteration</td><td>▃▅▄▂█▂▄▁</td></tr><tr><td>best_score</td><td>▁▇▇▄▄█▃█</td></tr><tr><td>epoch</td><td>▁▃▄▅▇▂▃▅▆▇▂▄▅▆▁▃▄▅▁▂▄▅▇█▂▃▅▆▂▃▅▆▇▂▄▅▆▂▃▅</td></tr><tr><td>validation_0-logloss</td><td>▁▁▁▁▁▁▁▁▁▁▁▁▁▁▁▁▁▁█▁▁▁▁▁▁▁▁▁▁▁▁▁▁▁▁▁▁▁▁▁</td></tr></table><br/></div><div class=\"wandb-col\"><h3>Run summary:</h3><br/><table class=\"wandb\"><tr><td>best_iteration</td><td>733</td></tr><tr><td>best_score</td><td>0.0409</td></tr><tr><td>epoch</td><td>628</td></tr></table><br/></div></div>"
      ],
      "text/plain": [
       "<IPython.core.display.HTML object>"
      ]
     },
     "metadata": {},
     "output_type": "display_data"
    },
    {
     "data": {
      "text/html": [
       " View run <strong style=\"color:#cdcd00\">XGBoost</strong> at: <a href='https://wandb.ai/g-broughton/S3E10/runs/55w3txgk' target=\"_blank\">https://wandb.ai/g-broughton/S3E10/runs/55w3txgk</a><br/>Synced 7 W&B file(s), 8 media file(s), 8 artifact file(s) and 1 other file(s)"
      ],
      "text/plain": [
       "<IPython.core.display.HTML object>"
      ]
     },
     "metadata": {},
     "output_type": "display_data"
    },
    {
     "data": {
      "text/html": [
       "Find logs at: <code>./wandb/run-20230318_223022-55w3txgk/logs</code>"
      ],
      "text/plain": [
       "<IPython.core.display.HTML object>"
      ]
     },
     "metadata": {},
     "output_type": "display_data"
    },
    {
     "data": {
      "text/html": [
       "Successfully finished last run (ID:55w3txgk). Initializing new run:<br/>"
      ],
      "text/plain": [
       "<IPython.core.display.HTML object>"
      ]
     },
     "metadata": {},
     "output_type": "display_data"
    },
    {
     "data": {
      "application/vnd.jupyter.widget-view+json": {
       "model_id": "87101e273bcc49d5b4e67844a933a60c",
       "version_major": 2,
       "version_minor": 0
      },
      "text/plain": [
       "VBox(children=(Label(value='Waiting for wandb.init()...\\r'), FloatProgress(value=0.016669582516669834, max=1.0…"
      ]
     },
     "metadata": {},
     "output_type": "display_data"
    },
    {
     "data": {
      "text/html": [
       "Tracking run with wandb version 0.14.0"
      ],
      "text/plain": [
       "<IPython.core.display.HTML object>"
      ]
     },
     "metadata": {},
     "output_type": "display_data"
    },
    {
     "data": {
      "text/html": [
       "Run data is saved locally in <code>/home/broug/Desktop/S3E10/notebooks/wandb/run-20230318_224133-yppomagn</code>"
      ],
      "text/plain": [
       "<IPython.core.display.HTML object>"
      ]
     },
     "metadata": {},
     "output_type": "display_data"
    },
    {
     "data": {
      "text/html": [
       "Syncing run <strong><a href='https://wandb.ai/g-broughton/S3E10/runs/yppomagn' target=\"_blank\">XGBoost</a></strong> to <a href='https://wandb.ai/g-broughton/S3E10' target=\"_blank\">Weights & Biases</a> (<a href='https://wandb.me/run' target=\"_blank\">docs</a>)<br/>"
      ],
      "text/plain": [
       "<IPython.core.display.HTML object>"
      ]
     },
     "metadata": {},
     "output_type": "display_data"
    },
    {
     "data": {
      "text/html": [
       " View project at <a href='https://wandb.ai/g-broughton/S3E10' target=\"_blank\">https://wandb.ai/g-broughton/S3E10</a>"
      ],
      "text/plain": [
       "<IPython.core.display.HTML object>"
      ]
     },
     "metadata": {},
     "output_type": "display_data"
    },
    {
     "data": {
      "text/html": [
       " View run at <a href='https://wandb.ai/g-broughton/S3E10/runs/yppomagn' target=\"_blank\">https://wandb.ai/g-broughton/S3E10/runs/yppomagn</a>"
      ],
      "text/plain": [
       "<IPython.core.display.HTML object>"
      ]
     },
     "metadata": {},
     "output_type": "display_data"
    },
    {
     "name": "stdout",
     "output_type": "stream",
     "text": [
      "[0]\tvalidation_0-logloss:0.64366\n",
      "[100]\tvalidation_0-logloss:0.04621\n",
      "[200]\tvalidation_0-logloss:0.04008\n",
      "[300]\tvalidation_0-logloss:0.03861\n",
      "[400]\tvalidation_0-logloss:0.03781\n",
      "[500]\tvalidation_0-logloss:0.03729\n",
      "[600]\tvalidation_0-logloss:0.03690\n",
      "[700]\tvalidation_0-logloss:0.03683\n",
      "[800]\tvalidation_0-logloss:0.03670\n",
      "[868]\tvalidation_0-logloss:0.03672\n",
      "[0]\tvalidation_0-logloss:0.64369\n",
      "[100]\tvalidation_0-logloss:0.04943\n",
      "[200]\tvalidation_0-logloss:0.04405\n",
      "[300]\tvalidation_0-logloss:0.04289\n",
      "[400]\tvalidation_0-logloss:0.04201\n",
      "[500]\tvalidation_0-logloss:0.04154\n",
      "[600]\tvalidation_0-logloss:0.04116\n",
      "[700]\tvalidation_0-logloss:0.04085\n",
      "[800]\tvalidation_0-logloss:0.04070\n",
      "[900]\tvalidation_0-logloss:0.04051\n",
      "[933]\tvalidation_0-logloss:0.04051\n",
      "[0]\tvalidation_0-logloss:0.64362\n",
      "[100]\tvalidation_0-logloss:0.04864\n",
      "[200]\tvalidation_0-logloss:0.04367\n",
      "[300]\tvalidation_0-logloss:0.04260\n",
      "[400]\tvalidation_0-logloss:0.04177\n",
      "[500]\tvalidation_0-logloss:0.04137\n",
      "[600]\tvalidation_0-logloss:0.04116\n",
      "[700]\tvalidation_0-logloss:0.04083\n",
      "[800]\tvalidation_0-logloss:0.04068\n",
      "[885]\tvalidation_0-logloss:0.04066\n",
      "[0]\tvalidation_0-logloss:0.64357\n",
      "[100]\tvalidation_0-logloss:0.04731\n",
      "[200]\tvalidation_0-logloss:0.04194\n",
      "[300]\tvalidation_0-logloss:0.04066\n",
      "[400]\tvalidation_0-logloss:0.04009\n",
      "[500]\tvalidation_0-logloss:0.03941\n",
      "[600]\tvalidation_0-logloss:0.03912\n",
      "[700]\tvalidation_0-logloss:0.03882\n",
      "[800]\tvalidation_0-logloss:0.03860\n",
      "[825]\tvalidation_0-logloss:0.03864\n",
      "[0]\tvalidation_0-logloss:0.64366\n",
      "[100]\tvalidation_0-logloss:0.04691\n",
      "[200]\tvalidation_0-logloss:0.04117\n",
      "[300]\tvalidation_0-logloss:0.04010\n",
      "[400]\tvalidation_0-logloss:0.03965\n",
      "[500]\tvalidation_0-logloss:0.03923\n",
      "[600]\tvalidation_0-logloss:0.03895\n",
      "[700]\tvalidation_0-logloss:0.03875\n",
      "[800]\tvalidation_0-logloss:0.03863\n",
      "[900]\tvalidation_0-logloss:0.03852\n",
      "[1000]\tvalidation_0-logloss:0.03841\n",
      "[1042]\tvalidation_0-logloss:0.03850\n",
      "[0]\tvalidation_0-logloss:0.64373\n",
      "[100]\tvalidation_0-logloss:0.04986\n",
      "[200]\tvalidation_0-logloss:0.04439\n",
      "[300]\tvalidation_0-logloss:0.04290\n",
      "[400]\tvalidation_0-logloss:0.04212\n",
      "[500]\tvalidation_0-logloss:0.04176\n",
      "[600]\tvalidation_0-logloss:0.04148\n",
      "[700]\tvalidation_0-logloss:0.04111\n",
      "[800]\tvalidation_0-logloss:0.04104\n",
      "[802]\tvalidation_0-logloss:0.04104\n",
      "[0]\tvalidation_0-logloss:0.64360\n",
      "[100]\tvalidation_0-logloss:0.04737\n",
      "[200]\tvalidation_0-logloss:0.04161\n",
      "[300]\tvalidation_0-logloss:0.04012\n",
      "[400]\tvalidation_0-logloss:0.03929\n",
      "[500]\tvalidation_0-logloss:0.03905\n",
      "[600]\tvalidation_0-logloss:0.03883\n",
      "[700]\tvalidation_0-logloss:0.03860\n",
      "[800]\tvalidation_0-logloss:0.03828\n",
      "[900]\tvalidation_0-logloss:0.03817\n",
      "[910]\tvalidation_0-logloss:0.03818\n",
      "[0]\tvalidation_0-logloss:0.64365\n",
      "[100]\tvalidation_0-logloss:0.04894\n",
      "[200]\tvalidation_0-logloss:0.04357\n",
      "[300]\tvalidation_0-logloss:0.04241\n",
      "[400]\tvalidation_0-logloss:0.04175\n",
      "[500]\tvalidation_0-logloss:0.04141\n",
      "[600]\tvalidation_0-logloss:0.04109\n",
      "[700]\tvalidation_0-logloss:0.04102\n",
      "[782]\tvalidation_0-logloss:0.04096\n",
      "[0]\tvalidation_0-logloss:0.64355\n",
      "[100]\tvalidation_0-logloss:0.04801\n",
      "[200]\tvalidation_0-logloss:0.04265\n",
      "[300]\tvalidation_0-logloss:0.04137\n",
      "[400]\tvalidation_0-logloss:0.04060\n",
      "[500]\tvalidation_0-logloss:0.04012\n",
      "[600]\tvalidation_0-logloss:0.03977\n",
      "[700]\tvalidation_0-logloss:0.03947\n",
      "[800]\tvalidation_0-logloss:0.03926\n",
      "[900]\tvalidation_0-logloss:0.03901\n",
      "[1000]\tvalidation_0-logloss:0.03889\n",
      "[1043]\tvalidation_0-logloss:0.03890\n"
     ]
    }
   ],
   "source": [
    "k_fold = RepeatedStratifiedKFold(n_splits=CFG.NFOLDS, n_repeats=CFG.REPEATS, random_state=CFG.SEED)\n",
    "\n",
    "modelsXB = []\n",
    "predsXB = []\n",
    "\n",
    "# gpu_params = {'tree_method' : \"gpu_hist\", 'gpu_id' : 0}\n",
    "xgbr_params = {\n",
    "            'n_estimators':9999,\n",
    "            'max_depth': 4,\n",
    "            'learning_rate': 0.05333221939055333,\n",
    "            'min_child_weight': 4,\n",
    "            'gamma': 5.301218558776368e-08,\n",
    "            'subsample': 0.41010429946197946,\n",
    "            'colsample_bytree': 0.8298539920447499,\n",
    "            'reg_alpha': 0.000517878113716743,\n",
    "            'reg_lambda': 0.00030121415155097723,\n",
    "            'n_jobs': -1,\n",
    "            'objective': 'binary:logistic',\n",
    "            'verbosity': 0,\n",
    "            'eval_metric': 'logloss',\n",
    "            'random_state': CFG.SEED}\n",
    "\n",
    "config.update({key:val for key, val in xgbr_params.items() if key not in ['random_state', 'eval_metric', 'verbosity', 'objective', 'n_jobs']})\n",
    "wandb.init(project='S3E10', name='XGBoost', group='XGBoost', config=config, dir=CFG.BASE_PATH)\n",
    "\n",
    "for train_index, test_index in k_fold.split(X, y):\n",
    "    X_train, X_valid = X.iloc[train_index], X.iloc[test_index]\n",
    "    y_train, y_valid = y.iloc[train_index], y.iloc[test_index]\n",
    "    \n",
    "    model = xgb.XGBClassifier(**xgbr_params)\n",
    "    \n",
    "    model.fit(X=X_train, y=y_train,\n",
    "          eval_set=[(X_valid, y_valid)],\n",
    "          early_stopping_rounds = CFG.XG_PATIENCE,\n",
    "          verbose = 100, callbacks=[wandb.xgboost.WandbCallback(log_model=False)]\n",
    "         )\n",
    "    modelsXB.append(model)\n",
    "    predsXB.append(model.predict_proba(X_test)[:, 1])"
   ]
  },
  {
   "cell_type": "code",
   "execution_count": 26,
   "metadata": {},
   "outputs": [],
   "source": [
    "feature_importance =  [modelsXB[x].feature_importances_ for x in range(CFG.NFOLDS*CFG.REPEATS)]\n",
    "feature_importance = np.average(feature_importance,axis=0)\n",
    "data = [[label, value] for (label, value) in zip(X.columns, feature_importance)]\n",
    "\n",
    "table = wandb.Table(data=data, columns=['label', 'value'])\n",
    "wandb.log({'XGBoost_Feature_Importance': wandb.plot.bar(table, 'label', 'value', title=\"Feature Importance\")})\n",
    "# feature_df = pd.DataFrame(feature_importance, index=X.columns)\n",
    "# feature_df\n",
    "# wandb.Table\n",
    "\n",
    "# fig, ax = plt.subplots(figsize=(12, 4))\n",
    "# sns.barplot(x=feature_df.values.squeeze(), y=feature_df.index,\n",
    "#             color=palette[-3], linestyle=\"-\", width=0.5, errorbar='sd',\n",
    "#             linewidth=0.5, edgecolor=\"black\", ax=ax)\n",
    "# ax.set_title('Feature Importance', fontdict={'fontweight': 'bold'})\n",
    "# ax.set(xlabel=None)\n",
    "\n",
    "# for s in ['right', 'top']:\n",
    "#     ax.spines[s].set_visible(False)"
   ]
  },
  {
   "cell_type": "code",
   "execution_count": 11,
   "metadata": {},
   "outputs": [
    {
     "data": {
      "image/png": "[encoded data removed]",
      "text/plain": [
       "<Figure size 1200x400 with 1 Axes>"
      ]
     },
     "metadata": {},
     "output_type": "display_data"
    }
   ],
   "source": [
    "get_fi(modelsXB, X, CFG)"
   ]
  },
  {
   "cell_type": "code",
   "execution_count": 33,
   "metadata": {},
   "outputs": [
    {
     "data": {
      "text/html": [
       "Finishing last run (ID:8ztskvnf) before initializing another..."
      ],
      "text/plain": [
       "<IPython.core.display.HTML object>"
      ]
     },
     "metadata": {},
     "output_type": "display_data"
    },
    {
     "data": {
      "text/html": [
       "Waiting for W&B process to finish... <strong style=\"color:green\">(success).</strong>"
      ],
      "text/plain": [
       "<IPython.core.display.HTML object>"
      ]
     },
     "metadata": {},
     "output_type": "display_data"
    },
    {
     "data": {
      "text/html": [
       " View run <strong style=\"color:#cdcd00\">LightGBM</strong> at: <a href='https://wandb.ai/g-broughton/S3E10/runs/8ztskvnf' target=\"_blank\">https://wandb.ai/g-broughton/S3E10/runs/8ztskvnf</a><br/>Synced 6 W&B file(s), 0 media file(s), 0 artifact file(s) and 1 other file(s)"
      ],
      "text/plain": [
       "<IPython.core.display.HTML object>"
      ]
     },
     "metadata": {},
     "output_type": "display_data"
    },
    {
     "data": {
      "text/html": [
       "Find logs at: <code>./wandb/run-20230318_230701-8ztskvnf/logs</code>"
      ],
      "text/plain": [
       "<IPython.core.display.HTML object>"
      ]
     },
     "metadata": {},
     "output_type": "display_data"
    },
    {
     "data": {
      "text/html": [
       "Successfully finished last run (ID:8ztskvnf). Initializing new run:<br/>"
      ],
      "text/plain": [
       "<IPython.core.display.HTML object>"
      ]
     },
     "metadata": {},
     "output_type": "display_data"
    },
    {
     "data": {
      "application/vnd.jupyter.widget-view+json": {
       "model_id": "274b9cf3a51347ee9891243745a4420c",
       "version_major": 2,
       "version_minor": 0
      },
      "text/plain": [
       "VBox(children=(Label(value='Waiting for wandb.init()...\\r'), FloatProgress(value=0.016669023666660603, max=1.0…"
      ]
     },
     "metadata": {},
     "output_type": "display_data"
    },
    {
     "data": {
      "text/html": [
       "Tracking run with wandb version 0.14.0"
      ],
      "text/plain": [
       "<IPython.core.display.HTML object>"
      ]
     },
     "metadata": {},
     "output_type": "display_data"
    },
    {
     "data": {
      "text/html": [
       "Run data is saved locally in <code>/home/broug/Desktop/S3E10/notebooks/wandb/run-20230318_230741-l7bw1ih0</code>"
      ],
      "text/plain": [
       "<IPython.core.display.HTML object>"
      ]
     },
     "metadata": {},
     "output_type": "display_data"
    },
    {
     "data": {
      "text/html": [
       "Syncing run <strong><a href='https://wandb.ai/g-broughton/S3E10/runs/l7bw1ih0' target=\"_blank\">LightGBM</a></strong> to <a href='https://wandb.ai/g-broughton/S3E10' target=\"_blank\">Weights & Biases</a> (<a href='https://wandb.me/run' target=\"_blank\">docs</a>)<br/>"
      ],
      "text/plain": [
       "<IPython.core.display.HTML object>"
      ]
     },
     "metadata": {},
     "output_type": "display_data"
    },
    {
     "data": {
      "text/html": [
       " View project at <a href='https://wandb.ai/g-broughton/S3E10' target=\"_blank\">https://wandb.ai/g-broughton/S3E10</a>"
      ],
      "text/plain": [
       "<IPython.core.display.HTML object>"
      ]
     },
     "metadata": {},
     "output_type": "display_data"
    },
    {
     "data": {
      "text/html": [
       " View run at <a href='https://wandb.ai/g-broughton/S3E10/runs/l7bw1ih0' target=\"_blank\">https://wandb.ai/g-broughton/S3E10/runs/l7bw1ih0</a>"
      ],
      "text/plain": [
       "<IPython.core.display.HTML object>"
      ]
     },
     "metadata": {},
     "output_type": "display_data"
    },
    {
     "name": "stdout",
     "output_type": "stream",
     "text": [
      "[150]\tvalid_0's binary_logloss: 0.0953115\n",
      "[300]\tvalid_0's binary_logloss: 0.0578285\n",
      "[450]\tvalid_0's binary_logloss: 0.0465859\n",
      "[600]\tvalid_0's binary_logloss: 0.0429607\n",
      "[750]\tvalid_0's binary_logloss: 0.0417193\n",
      "[900]\tvalid_0's binary_logloss: 0.0412125\n",
      "[1050]\tvalid_0's binary_logloss: 0.0408657\n",
      "[1200]\tvalid_0's binary_logloss: 0.0406281\n",
      "[1350]\tvalid_0's binary_logloss: 0.0404454\n",
      "[1500]\tvalid_0's binary_logloss: 0.0403004\n",
      "[1650]\tvalid_0's binary_logloss: 0.040134\n",
      "[1800]\tvalid_0's binary_logloss: 0.039977\n",
      "[1950]\tvalid_0's binary_logloss: 0.0398348\n",
      "[2100]\tvalid_0's binary_logloss: 0.0397093\n",
      "[2250]\tvalid_0's binary_logloss: 0.0396199\n",
      "[2400]\tvalid_0's binary_logloss: 0.0395487\n",
      "[2550]\tvalid_0's binary_logloss: 0.0394833\n",
      "[2700]\tvalid_0's binary_logloss: 0.0393988\n",
      "[2850]\tvalid_0's binary_logloss: 0.0393578\n",
      "[3000]\tvalid_0's binary_logloss: 0.0393198\n",
      "[3150]\tvalid_0's binary_logloss: 0.0392504\n",
      "[150]\tvalid_0's binary_logloss: 0.0974361\n",
      "[300]\tvalid_0's binary_logloss: 0.0609198\n",
      "[450]\tvalid_0's binary_logloss: 0.0504399\n",
      "[600]\tvalid_0's binary_logloss: 0.0471976\n",
      "[750]\tvalid_0's binary_logloss: 0.0461932\n",
      "[900]\tvalid_0's binary_logloss: 0.0458815\n",
      "[1050]\tvalid_0's binary_logloss: 0.0457063\n",
      "[1200]\tvalid_0's binary_logloss: 0.0455999\n",
      "[1350]\tvalid_0's binary_logloss: 0.0455374\n",
      "[1500]\tvalid_0's binary_logloss: 0.0454223\n",
      "[1650]\tvalid_0's binary_logloss: 0.045354\n",
      "[1800]\tvalid_0's binary_logloss: 0.0452869\n",
      "[150]\tvalid_0's binary_logloss: 0.0967318\n",
      "[300]\tvalid_0's binary_logloss: 0.0602258\n",
      "[450]\tvalid_0's binary_logloss: 0.0495236\n",
      "[600]\tvalid_0's binary_logloss: 0.0464229\n",
      "[750]\tvalid_0's binary_logloss: 0.0454533\n",
      "[900]\tvalid_0's binary_logloss: 0.0451307\n",
      "[1050]\tvalid_0's binary_logloss: 0.0448799\n",
      "[1200]\tvalid_0's binary_logloss: 0.0447199\n",
      "[1350]\tvalid_0's binary_logloss: 0.0446035\n",
      "[1500]\tvalid_0's binary_logloss: 0.0445153\n",
      "[1650]\tvalid_0's binary_logloss: 0.0444743\n",
      "[1800]\tvalid_0's binary_logloss: 0.0444384\n",
      "[150]\tvalid_0's binary_logloss: 0.0958859\n",
      "[300]\tvalid_0's binary_logloss: 0.0590208\n",
      "[450]\tvalid_0's binary_logloss: 0.048187\n",
      "[600]\tvalid_0's binary_logloss: 0.0448998\n",
      "[750]\tvalid_0's binary_logloss: 0.043834\n",
      "[900]\tvalid_0's binary_logloss: 0.0435314\n",
      "[1050]\tvalid_0's binary_logloss: 0.0433134\n",
      "[1200]\tvalid_0's binary_logloss: 0.0431404\n",
      "[1350]\tvalid_0's binary_logloss: 0.0429727\n",
      "[1500]\tvalid_0's binary_logloss: 0.0428223\n",
      "[1650]\tvalid_0's binary_logloss: 0.0426725\n",
      "[1800]\tvalid_0's binary_logloss: 0.0425403\n",
      "[1950]\tvalid_0's binary_logloss: 0.0424394\n",
      "[2100]\tvalid_0's binary_logloss: 0.0423679\n",
      "[2250]\tvalid_0's binary_logloss: 0.0423352\n",
      "[2400]\tvalid_0's binary_logloss: 0.0423191\n",
      "[150]\tvalid_0's binary_logloss: 0.0957902\n",
      "[300]\tvalid_0's binary_logloss: 0.0586745\n",
      "[450]\tvalid_0's binary_logloss: 0.0477712\n",
      "[600]\tvalid_0's binary_logloss: 0.0443834\n",
      "[750]\tvalid_0's binary_logloss: 0.0431842\n",
      "[900]\tvalid_0's binary_logloss: 0.0427418\n",
      "[1050]\tvalid_0's binary_logloss: 0.0424984\n",
      "[1200]\tvalid_0's binary_logloss: 0.0423001\n",
      "[1350]\tvalid_0's binary_logloss: 0.0421263\n",
      "[1500]\tvalid_0's binary_logloss: 0.0420089\n",
      "[1650]\tvalid_0's binary_logloss: 0.041933\n",
      "[1800]\tvalid_0's binary_logloss: 0.0418636\n",
      "[1950]\tvalid_0's binary_logloss: 0.0418177\n",
      "[2100]\tvalid_0's binary_logloss: 0.0417807\n",
      "[2250]\tvalid_0's binary_logloss: 0.0417507\n",
      "[150]\tvalid_0's binary_logloss: 0.0976631\n",
      "[300]\tvalid_0's binary_logloss: 0.0612745\n",
      "[450]\tvalid_0's binary_logloss: 0.050758\n",
      "[600]\tvalid_0's binary_logloss: 0.0475686\n",
      "[750]\tvalid_0's binary_logloss: 0.0465338\n",
      "[900]\tvalid_0's binary_logloss: 0.0460578\n",
      "[1050]\tvalid_0's binary_logloss: 0.045788\n",
      "[1200]\tvalid_0's binary_logloss: 0.0456355\n",
      "[1350]\tvalid_0's binary_logloss: 0.0455341\n",
      "[1500]\tvalid_0's binary_logloss: 0.045468\n",
      "[150]\tvalid_0's binary_logloss: 0.0961729\n",
      "[300]\tvalid_0's binary_logloss: 0.0592529\n",
      "[450]\tvalid_0's binary_logloss: 0.0483499\n",
      "[600]\tvalid_0's binary_logloss: 0.0448941\n",
      "[750]\tvalid_0's binary_logloss: 0.0436287\n",
      "[900]\tvalid_0's binary_logloss: 0.0430799\n",
      "[1050]\tvalid_0's binary_logloss: 0.042739\n",
      "[1200]\tvalid_0's binary_logloss: 0.0425077\n",
      "[1350]\tvalid_0's binary_logloss: 0.0423356\n",
      "[1500]\tvalid_0's binary_logloss: 0.042196\n",
      "[1650]\tvalid_0's binary_logloss: 0.0420934\n",
      "[1800]\tvalid_0's binary_logloss: 0.0420136\n",
      "[1950]\tvalid_0's binary_logloss: 0.0419501\n",
      "[2100]\tvalid_0's binary_logloss: 0.0419015\n",
      "[150]\tvalid_0's binary_logloss: 0.0968553\n",
      "[300]\tvalid_0's binary_logloss: 0.0603588\n",
      "[450]\tvalid_0's binary_logloss: 0.049717\n",
      "[600]\tvalid_0's binary_logloss: 0.0464687\n",
      "[750]\tvalid_0's binary_logloss: 0.0454297\n",
      "[900]\tvalid_0's binary_logloss: 0.0451313\n",
      "[1050]\tvalid_0's binary_logloss: 0.04491\n",
      "[1200]\tvalid_0's binary_logloss: 0.0447537\n",
      "[1350]\tvalid_0's binary_logloss: 0.0446334\n",
      "[1500]\tvalid_0's binary_logloss: 0.0445572\n",
      "[1650]\tvalid_0's binary_logloss: 0.0445016\n",
      "[1800]\tvalid_0's binary_logloss: 0.044468\n",
      "[150]\tvalid_0's binary_logloss: 0.0965871\n",
      "[300]\tvalid_0's binary_logloss: 0.0597409\n",
      "[450]\tvalid_0's binary_logloss: 0.048881\n",
      "[600]\tvalid_0's binary_logloss: 0.0453394\n",
      "[750]\tvalid_0's binary_logloss: 0.0440698\n",
      "[900]\tvalid_0's binary_logloss: 0.0435557\n",
      "[1050]\tvalid_0's binary_logloss: 0.0432693\n",
      "[1200]\tvalid_0's binary_logloss: 0.0430864\n",
      "[1350]\tvalid_0's binary_logloss: 0.0430167\n",
      "[1500]\tvalid_0's binary_logloss: 0.042946\n",
      "[1650]\tvalid_0's binary_logloss: 0.0428961\n",
      "[1800]\tvalid_0's binary_logloss: 0.042851\n",
      "[1950]\tvalid_0's binary_logloss: 0.0428034\n",
      "[2100]\tvalid_0's binary_logloss: 0.0427793\n"
     ]
    }
   ],
   "source": [
    "modelsLB = []\n",
    "predsLB = []\n",
    "\n",
    "lgbr_params = {\n",
    "            'n_estimators': 9999,\n",
    "            'max_depth': 5,\n",
    "            'learning_rate': 0.00693702575527996,\n",
    "            'subsample': 0.20851841295589477,\n",
    "            'colsample_bytree': 0.5784778854092203, \n",
    "            'reg_alpha': 0.2622912287429849,\n",
    "            'reg_lambda': 2.8702494234117617e-08,\n",
    "            'objective': 'binary',\n",
    "            'metric': 'logloss',\n",
    "            'boosting_type': 'gbdt',\n",
    "            'random_state': CFG.SEED\n",
    "        }\n",
    "config = {} | {\n",
    "    key: value for key, value in lgbr_params.items() if key not in ['']\n",
    "}\n",
    "wandb.init(project='S3E10', name='LightGBM', group='LightGBM', config=config, reinit=True)\n",
    "\n",
    "for train_index, test_index in k_fold.split(X, y):\n",
    "    X_train, X_valid = X.iloc[train_index], X.iloc[test_index]\n",
    "    y_train, y_valid = y.iloc[train_index], y.iloc[test_index]\n",
    "\n",
    "    model = lgbm.LGBMClassifier(**lgbr_params)\n",
    "\n",
    "    model.fit(X=X_train, y=y_train,\n",
    "          eval_set=[(X_valid, y_valid)],\n",
    "          eval_metric = 'logloss',\n",
    "          early_stopping_rounds = CFG.XG_PATIENCE,\n",
    "          verbose = 150,\n",
    "          callbacks=[wandb_callback()]\n",
    "         )\n",
    "    modelsLB.append(model)\n",
    "    predsLB.append(model.predict_proba(X_test)[:, 1])"
   ]
  },
  {
   "cell_type": "code",
   "execution_count": 34,
   "metadata": {},
   "outputs": [],
   "source": [
    "feature_importance =  [modelsLB[x].feature_importances_ for x in range(CFG.NFOLDS*CFG.REPEATS)]\n",
    "feature_importance = np.average(feature_importance,axis=0)\n",
    "data = [[label, value] for (label, value) in zip(X.columns, feature_importance)]\n",
    "\n",
    "table = wandb.Table(data=data, columns=['label', 'value'])\n",
    "wandb.log({'LGBM_Feature_Importance': wandb.plot.bar(table, 'label', 'value', title=\"Feature Importance\")})"
   ]
  },
  {
   "cell_type": "code",
   "execution_count": 13,
   "metadata": {},
   "outputs": [
    {
     "data": {
      "image/png": "[encoded data removed]",
      "text/plain": [
       "<Figure size 1200x400 with 1 Axes>"
      ]
     },
     "metadata": {},
     "output_type": "display_data"
    }
   ],
   "source": [
    "get_fi(modelsLB, X, CFG)"
   ]
  },
  {
   "cell_type": "code",
   "execution_count": 45,
   "metadata": {},
   "outputs": [
    {
     "data": {
      "text/html": [
       "Finishing last run (ID:4uz18tlz) before initializing another..."
      ],
      "text/plain": [
       "<IPython.core.display.HTML object>"
      ]
     },
     "metadata": {},
     "output_type": "display_data"
    },
    {
     "data": {
      "text/html": [
       "Waiting for W&B process to finish... <strong style=\"color:green\">(success).</strong>"
      ],
      "text/plain": [
       "<IPython.core.display.HTML object>"
      ]
     },
     "metadata": {},
     "output_type": "display_data"
    },
    {
     "data": {
      "application/vnd.jupyter.widget-view+json": {
       "model_id": "713e2349fcb54025bae66486058eaefc",
       "version_major": 2,
       "version_minor": 0
      },
      "text/plain": [
       "VBox(children=(Label(value='0.103 MB of 0.103 MB uploaded (0.000 MB deduped)\\r'), FloatProgress(value=1.0, max…"
      ]
     },
     "metadata": {},
     "output_type": "display_data"
    },
    {
     "data": {
      "text/html": [
       " View run <strong style=\"color:#cdcd00\">RandomForest</strong> at: <a href='https://wandb.ai/g-broughton/S3E10/runs/4uz18tlz' target=\"_blank\">https://wandb.ai/g-broughton/S3E10/runs/4uz18tlz</a><br/>Synced 7 W&B file(s), 0 media file(s), 0 artifact file(s) and 1 other file(s)"
      ],
      "text/plain": [
       "<IPython.core.display.HTML object>"
      ]
     },
     "metadata": {},
     "output_type": "display_data"
    },
    {
     "data": {
      "text/html": [
       "Find logs at: <code>./wandb/run-20230318_232307-4uz18tlz/logs</code>"
      ],
      "text/plain": [
       "<IPython.core.display.HTML object>"
      ]
     },
     "metadata": {},
     "output_type": "display_data"
    },
    {
     "data": {
      "text/html": [
       "Successfully finished last run (ID:4uz18tlz). Initializing new run:<br/>"
      ],
      "text/plain": [
       "<IPython.core.display.HTML object>"
      ]
     },
     "metadata": {},
     "output_type": "display_data"
    },
    {
     "data": {
      "application/vnd.jupyter.widget-view+json": {
       "model_id": "ace599a941cd4f8e899131d20aeb04d8",
       "version_major": 2,
       "version_minor": 0
      },
      "text/plain": [
       "VBox(children=(Label(value='Waiting for wandb.init()...\\r'), FloatProgress(value=0.016669370099983403, max=1.0…"
      ]
     },
     "metadata": {},
     "output_type": "display_data"
    },
    {
     "data": {
      "text/html": [
       "Tracking run with wandb version 0.14.0"
      ],
      "text/plain": [
       "<IPython.core.display.HTML object>"
      ]
     },
     "metadata": {},
     "output_type": "display_data"
    },
    {
     "data": {
      "text/html": [
       "Run data is saved locally in <code>/home/broug/Desktop/S3E10/notebooks/wandb/run-20230318_235359-ohyaaksl</code>"
      ],
      "text/plain": [
       "<IPython.core.display.HTML object>"
      ]
     },
     "metadata": {},
     "output_type": "display_data"
    },
    {
     "data": {
      "text/html": [
       "Syncing run <strong><a href='https://wandb.ai/g-broughton/S3E10/runs/ohyaaksl' target=\"_blank\">RandomForest</a></strong> to <a href='https://wandb.ai/g-broughton/S3E10' target=\"_blank\">Weights & Biases</a> (<a href='https://wandb.me/run' target=\"_blank\">docs</a>)<br/>"
      ],
      "text/plain": [
       "<IPython.core.display.HTML object>"
      ]
     },
     "metadata": {},
     "output_type": "display_data"
    },
    {
     "data": {
      "text/html": [
       " View project at <a href='https://wandb.ai/g-broughton/S3E10' target=\"_blank\">https://wandb.ai/g-broughton/S3E10</a>"
      ],
      "text/plain": [
       "<IPython.core.display.HTML object>"
      ]
     },
     "metadata": {},
     "output_type": "display_data"
    },
    {
     "data": {
      "text/html": [
       " View run at <a href='https://wandb.ai/g-broughton/S3E10/runs/ohyaaksl' target=\"_blank\">https://wandb.ai/g-broughton/S3E10/runs/ohyaaksl</a>"
      ],
      "text/plain": [
       "<IPython.core.display.HTML object>"
      ]
     },
     "metadata": {},
     "output_type": "display_data"
    },
    {
     "name": "stderr",
     "output_type": "stream",
     "text": [
      "\u001b[34m\u001b[1mwandb\u001b[0m: \n",
      "\u001b[34m\u001b[1mwandb\u001b[0m: Plotting RandomForest.\n",
      "\u001b[34m\u001b[1mwandb\u001b[0m: Logged feature importances.\n"
     ]
    },
    {
     "name": "stdout",
     "output_type": "stream",
     "text": [
      "Score: 0.38813978080553857\n"
     ]
    },
    {
     "name": "stderr",
     "output_type": "stream",
     "text": [
      "\u001b[34m\u001b[1mwandb\u001b[0m: Logged confusion matrix.\n",
      "\u001b[34m\u001b[1mwandb\u001b[0m: Logged summary metrics.\n",
      "\u001b[34m\u001b[1mwandb\u001b[0m: Logged class proportions.\n",
      "\u001b[34m\u001b[1mwandb\u001b[0m: Logged calibration curve.\n",
      "\u001b[34m\u001b[1mwandb\u001b[0m: \u001b[33mWARNING\u001b[0m wandb.plots.* functions are deprecated and will be removed in a future release. Please use wandb.plot.* instead.\n",
      "\u001b[34m\u001b[1mwandb\u001b[0m: Logged roc curve.\n",
      "\u001b[34m\u001b[1mwandb\u001b[0m: Logged precision-recall curve.\n",
      "\u001b[34m\u001b[1mwandb\u001b[0m: \n",
      "\u001b[34m\u001b[1mwandb\u001b[0m: Plotting RandomForest.\n",
      "\u001b[34m\u001b[1mwandb\u001b[0m: Logged feature importances.\n"
     ]
    },
    {
     "name": "stdout",
     "output_type": "stream",
     "text": [
      "Score: 0.4028559810256538\n"
     ]
    },
    {
     "name": "stderr",
     "output_type": "stream",
     "text": [
      "\u001b[34m\u001b[1mwandb\u001b[0m: Logged confusion matrix.\n",
      "\u001b[34m\u001b[1mwandb\u001b[0m: Logged summary metrics.\n",
      "\u001b[34m\u001b[1mwandb\u001b[0m: Logged class proportions.\n",
      "\u001b[34m\u001b[1mwandb\u001b[0m: Logged calibration curve.\n",
      "\u001b[34m\u001b[1mwandb\u001b[0m: Logged roc curve.\n",
      "\u001b[34m\u001b[1mwandb\u001b[0m: Logged precision-recall curve.\n",
      "\u001b[34m\u001b[1mwandb\u001b[0m: \n",
      "\u001b[34m\u001b[1mwandb\u001b[0m: Plotting RandomForest.\n",
      "\u001b[34m\u001b[1mwandb\u001b[0m: Logged feature importances.\n"
     ]
    },
    {
     "name": "stdout",
     "output_type": "stream",
     "text": [
      "Score: 0.4010164559981394\n"
     ]
    },
    {
     "name": "stderr",
     "output_type": "stream",
     "text": [
      "\u001b[34m\u001b[1mwandb\u001b[0m: Logged confusion matrix.\n",
      "\u001b[34m\u001b[1mwandb\u001b[0m: Logged summary metrics.\n",
      "\u001b[34m\u001b[1mwandb\u001b[0m: Logged class proportions.\n",
      "\u001b[34m\u001b[1mwandb\u001b[0m: Logged calibration curve.\n",
      "\u001b[34m\u001b[1mwandb\u001b[0m: Logged roc curve.\n",
      "\u001b[34m\u001b[1mwandb\u001b[0m: Logged precision-recall curve.\n",
      "\u001b[34m\u001b[1mwandb\u001b[0m: \n",
      "\u001b[34m\u001b[1mwandb\u001b[0m: Plotting RandomForest.\n",
      "\u001b[34m\u001b[1mwandb\u001b[0m: Logged feature importances.\n"
     ]
    },
    {
     "name": "stdout",
     "output_type": "stream",
     "text": [
      "Score: 0.3743433430991806\n"
     ]
    },
    {
     "name": "stderr",
     "output_type": "stream",
     "text": [
      "\u001b[34m\u001b[1mwandb\u001b[0m: Logged confusion matrix.\n",
      "\u001b[34m\u001b[1mwandb\u001b[0m: Logged summary metrics.\n",
      "\u001b[34m\u001b[1mwandb\u001b[0m: Logged class proportions.\n",
      "\u001b[34m\u001b[1mwandb\u001b[0m: Logged calibration curve.\n",
      "\u001b[34m\u001b[1mwandb\u001b[0m: Logged roc curve.\n",
      "\u001b[34m\u001b[1mwandb\u001b[0m: Logged precision-recall curve.\n",
      "\u001b[34m\u001b[1mwandb\u001b[0m: \n",
      "\u001b[34m\u001b[1mwandb\u001b[0m: Plotting RandomForest.\n",
      "\u001b[34m\u001b[1mwandb\u001b[0m: Logged feature importances.\n"
     ]
    },
    {
     "name": "stdout",
     "output_type": "stream",
     "text": [
      "Score: 0.38078168069548096\n"
     ]
    },
    {
     "name": "stderr",
     "output_type": "stream",
     "text": [
      "\u001b[34m\u001b[1mwandb\u001b[0m: Logged confusion matrix.\n",
      "\u001b[34m\u001b[1mwandb\u001b[0m: Logged summary metrics.\n",
      "\u001b[34m\u001b[1mwandb\u001b[0m: Logged class proportions.\n",
      "\u001b[34m\u001b[1mwandb\u001b[0m: Logged calibration curve.\n",
      "\u001b[34m\u001b[1mwandb\u001b[0m: Logged roc curve.\n",
      "\u001b[34m\u001b[1mwandb\u001b[0m: Logged precision-recall curve.\n",
      "\u001b[34m\u001b[1mwandb\u001b[0m: \n",
      "\u001b[34m\u001b[1mwandb\u001b[0m: Plotting RandomForest.\n",
      "\u001b[34m\u001b[1mwandb\u001b[0m: Logged feature importances.\n"
     ]
    },
    {
     "name": "stdout",
     "output_type": "stream",
     "text": [
      "Score: 0.4056152685669255\n"
     ]
    },
    {
     "name": "stderr",
     "output_type": "stream",
     "text": [
      "\u001b[34m\u001b[1mwandb\u001b[0m: Logged confusion matrix.\n",
      "\u001b[34m\u001b[1mwandb\u001b[0m: Logged summary metrics.\n",
      "\u001b[34m\u001b[1mwandb\u001b[0m: Logged class proportions.\n",
      "\u001b[34m\u001b[1mwandb\u001b[0m: Logged calibration curve.\n",
      "\u001b[34m\u001b[1mwandb\u001b[0m: Logged roc curve.\n",
      "\u001b[34m\u001b[1mwandb\u001b[0m: Logged precision-recall curve.\n",
      "\u001b[34m\u001b[1mwandb\u001b[0m: \n",
      "\u001b[34m\u001b[1mwandb\u001b[0m: Plotting RandomForest.\n",
      "\u001b[34m\u001b[1mwandb\u001b[0m: Logged feature importances.\n"
     ]
    },
    {
     "name": "stdout",
     "output_type": "stream",
     "text": [
      "Score: 0.3835409682367526\n"
     ]
    },
    {
     "name": "stderr",
     "output_type": "stream",
     "text": [
      "\u001b[34m\u001b[1mwandb\u001b[0m: Logged confusion matrix.\n",
      "\u001b[34m\u001b[1mwandb\u001b[0m: Logged summary metrics.\n",
      "\u001b[34m\u001b[1mwandb\u001b[0m: Logged class proportions.\n",
      "\u001b[34m\u001b[1mwandb\u001b[0m: Logged calibration curve.\n",
      "\u001b[34m\u001b[1mwandb\u001b[0m: Logged roc curve.\n",
      "\u001b[34m\u001b[1mwandb\u001b[0m: Logged precision-recall curve.\n",
      "\u001b[34m\u001b[1mwandb\u001b[0m: \n",
      "\u001b[34m\u001b[1mwandb\u001b[0m: Plotting RandomForest.\n",
      "\u001b[34m\u001b[1mwandb\u001b[0m: Logged feature importances.\n"
     ]
    },
    {
     "name": "stdout",
     "output_type": "stream",
     "text": [
      "Score: 0.41665241873201186\n"
     ]
    },
    {
     "name": "stderr",
     "output_type": "stream",
     "text": [
      "\u001b[34m\u001b[1mwandb\u001b[0m: Logged confusion matrix.\n",
      "\u001b[34m\u001b[1mwandb\u001b[0m: Logged summary metrics.\n",
      "\u001b[34m\u001b[1mwandb\u001b[0m: Logged class proportions.\n",
      "\u001b[34m\u001b[1mwandb\u001b[0m: Logged calibration curve.\n",
      "\u001b[34m\u001b[1mwandb\u001b[0m: Logged roc curve.\n",
      "\u001b[34m\u001b[1mwandb\u001b[0m: Logged precision-recall curve.\n",
      "\u001b[34m\u001b[1mwandb\u001b[0m: \n",
      "\u001b[34m\u001b[1mwandb\u001b[0m: Plotting RandomForest.\n",
      "\u001b[34m\u001b[1mwandb\u001b[0m: Logged feature importances.\n"
     ]
    },
    {
     "name": "stdout",
     "output_type": "stream",
     "text": [
      "Score: 0.3706642930441518\n"
     ]
    },
    {
     "name": "stderr",
     "output_type": "stream",
     "text": [
      "\u001b[34m\u001b[1mwandb\u001b[0m: Logged confusion matrix.\n",
      "\u001b[34m\u001b[1mwandb\u001b[0m: Logged summary metrics.\n",
      "\u001b[34m\u001b[1mwandb\u001b[0m: Logged class proportions.\n",
      "\u001b[34m\u001b[1mwandb\u001b[0m: Logged calibration curve.\n",
      "\u001b[34m\u001b[1mwandb\u001b[0m: Logged roc curve.\n",
      "\u001b[34m\u001b[1mwandb\u001b[0m: Logged precision-recall curve.\n"
     ]
    }
   ],
   "source": [
    "modelsRF = []\n",
    "predsRF = []\n",
    "\n",
    "params = {\n",
    "        'criterion': 'log_loss',\n",
    "        'n_jobs': -1,\n",
    "        'random_state': CFG.SEED,\n",
    "        'verbose': False,\n",
    "        'n_estimators': 100,\n",
    "        'max_depth': None,\n",
    "        'min_samples_split': 2,\n",
    "        'min_samples_leaf': 1,\n",
    "        'min_weight_fraction_leaf': 0.0,\n",
    "        'max_features': 'sqrt',\n",
    "        'max_leaf_nodes': None,\n",
    "        'min_impurity_decrease': 0.0,\n",
    "        'bootstrap': True,\n",
    "        'max_samples': None\n",
    "    }\n",
    "\n",
    "config = {} | {\n",
    "    key:value for key, value in params.items() if key not in ['criterion', 'n_jobs', 'random_state', 'verbose', 'bootstrap']\n",
    "}\n",
    "wandb.init(project='S3E10', name='RandomForest', group='RandomForest', config=config, reinit=True, dir=CFG.BASE_PATH)\n",
    "\n",
    "for train_index, test_index in k_fold.split(X, y):\n",
    "    X_train, X_valid = X.iloc[train_index], X.iloc[test_index]\n",
    "    y_train, y_valid = y.iloc[train_index], y.iloc[test_index]\n",
    "    \n",
    "    model = RandomForestClassifier(**params)\n",
    "    model.fit(X=X_train, y=y_train)\n",
    "    yprobas = model.predict_proba(X_valid)\n",
    "    ypred = model.predict(X_valid)\n",
    "    score = log_loss(y_valid, ypred)\n",
    "    print(f'Score: {score}')\n",
    "    \n",
    "    modelsRF.append(model)\n",
    "    predsRF.append(model.predict_proba(X_test)[:, 1])\n",
    "    wandb.sklearn.plot_classifier(model, \n",
    "                               X_train, X_valid, \n",
    "                               y_train, y_valid,\n",
    "                               ypred, yprobas,\n",
    "                               [0, 1],\n",
    "                               is_binary=True, \n",
    "                               model_name='RandomForest')"
   ]
  },
  {
   "cell_type": "code",
   "execution_count": 46,
   "metadata": {},
   "outputs": [
    {
     "data": {
      "text/html": [
       "Waiting for W&B process to finish... <strong style=\"color:green\">(success).</strong>"
      ],
      "text/plain": [
       "<IPython.core.display.HTML object>"
      ]
     },
     "metadata": {},
     "output_type": "display_data"
    },
    {
     "data": {
      "application/vnd.jupyter.widget-view+json": {
       "model_id": "74c6149372bc45dd8ebfa2502566ab0e",
       "version_major": 2,
       "version_minor": 0
      },
      "text/plain": [
       "VBox(children=(Label(value='0.199 MB of 0.199 MB uploaded (0.000 MB deduped)\\r'), FloatProgress(value=1.0, max…"
      ]
     },
     "metadata": {},
     "output_type": "display_data"
    },
    {
     "data": {
      "text/html": [
       " View run <strong style=\"color:#cdcd00\">RandomForest</strong> at: <a href='https://wandb.ai/g-broughton/S3E10/runs/ohyaaksl' target=\"_blank\">https://wandb.ai/g-broughton/S3E10/runs/ohyaaksl</a><br/>Synced 7 W&B file(s), 36 media file(s), 33 artifact file(s) and 0 other file(s)"
      ],
      "text/plain": [
       "<IPython.core.display.HTML object>"
      ]
     },
     "metadata": {},
     "output_type": "display_data"
    },
    {
     "data": {
      "text/html": [
       "Find logs at: <code>./wandb/run-20230318_235359-ohyaaksl/logs</code>"
      ],
      "text/plain": [
       "<IPython.core.display.HTML object>"
      ]
     },
     "metadata": {},
     "output_type": "display_data"
    }
   ],
   "source": [
    "wandb.finish()"
   ]
  },
  {
   "cell_type": "code",
   "execution_count": 47,
   "metadata": {},
   "outputs": [],
   "source": [
    "from sklearn.linear_model import LogisticRegression, RidgeClassifier"
   ]
  },
  {
   "cell_type": "code",
   "execution_count": 67,
   "metadata": {},
   "outputs": [],
   "source": [
    "def fit_linear(X, y, test, model, name):\n",
    "    models = []\n",
    "    preds = []\n",
    "\n",
    "    for train_index, test_index in k_fold.split(X, y):\n",
    "        X_train, X_valid = X.iloc[train_index], X.iloc[test_index]\n",
    "        y_train, y_valid = y.iloc[train_index], y.iloc[test_index]\n",
    "        \n",
    "        #model = model(**params)\n",
    "        model.fit(X=X_train, y=y_train)\n",
    "        yprobas = model.predict_proba(X_valid)\n",
    "        ypred = model.predict(X_valid)\n",
    "        score = log_loss(y_valid, ypred)\n",
    "        print(f'Score: {score}')\n",
    "        \n",
    "        models.append(model)\n",
    "        preds.append(model.predict_proba(test)[:, 1])\n",
    "        wandb.sklearn.plot_classifier(model, \n",
    "                                X_train, X_valid, \n",
    "                                y_train, y_valid,\n",
    "                                ypred, yprobas,\n",
    "                                [0, 1],\n",
    "                                is_binary=True, \n",
    "                                model_name=name)\n",
    "    return models, preds"
   ]
  },
  {
   "cell_type": "code",
   "execution_count": 73,
   "metadata": {},
   "outputs": [
    {
     "data": {
      "text/html": [
       "Finishing last run (ID:ffeahe9j) before initializing another..."
      ],
      "text/plain": [
       "<IPython.core.display.HTML object>"
      ]
     },
     "metadata": {},
     "output_type": "display_data"
    },
    {
     "data": {
      "text/html": [
       "Waiting for W&B process to finish... <strong style=\"color:green\">(success).</strong>"
      ],
      "text/plain": [
       "<IPython.core.display.HTML object>"
      ]
     },
     "metadata": {},
     "output_type": "display_data"
    },
    {
     "data": {
      "text/html": [
       " View run <strong style=\"color:#cdcd00\">RidgeClassifier</strong> at: <a href='https://wandb.ai/g-broughton/S3E10/runs/ffeahe9j' target=\"_blank\">https://wandb.ai/g-broughton/S3E10/runs/ffeahe9j</a><br/>Synced 6 W&B file(s), 0 media file(s), 0 artifact file(s) and 0 other file(s)"
      ],
      "text/plain": [
       "<IPython.core.display.HTML object>"
      ]
     },
     "metadata": {},
     "output_type": "display_data"
    },
    {
     "data": {
      "text/html": [
       "Find logs at: <code>./wandb/run-20230319_001852-ffeahe9j/logs</code>"
      ],
      "text/plain": [
       "<IPython.core.display.HTML object>"
      ]
     },
     "metadata": {},
     "output_type": "display_data"
    },
    {
     "data": {
      "text/html": [
       "Successfully finished last run (ID:ffeahe9j). Initializing new run:<br/>"
      ],
      "text/plain": [
       "<IPython.core.display.HTML object>"
      ]
     },
     "metadata": {},
     "output_type": "display_data"
    },
    {
     "data": {
      "application/vnd.jupyter.widget-view+json": {
       "model_id": "729f5347fede4d9d81ead5fe722da9d7",
       "version_major": 2,
       "version_minor": 0
      },
      "text/plain": [
       "VBox(children=(Label(value='Waiting for wandb.init()...\\r'), FloatProgress(value=0.016669899633355575, max=1.0…"
      ]
     },
     "metadata": {},
     "output_type": "display_data"
    },
    {
     "data": {
      "text/html": [
       "Tracking run with wandb version 0.14.0"
      ],
      "text/plain": [
       "<IPython.core.display.HTML object>"
      ]
     },
     "metadata": {},
     "output_type": "display_data"
    },
    {
     "data": {
      "text/html": [
       "Run data is saved locally in <code>/home/broug/Desktop/S3E10/notebooks/wandb/run-20230319_001911-7a4575ff</code>"
      ],
      "text/plain": [
       "<IPython.core.display.HTML object>"
      ]
     },
     "metadata": {},
     "output_type": "display_data"
    },
    {
     "data": {
      "text/html": [
       "Syncing run <strong><a href='https://wandb.ai/g-broughton/S3E10/runs/7a4575ff' target=\"_blank\">LogisticRegression</a></strong> to <a href='https://wandb.ai/g-broughton/S3E10' target=\"_blank\">Weights & Biases</a> (<a href='https://wandb.me/run' target=\"_blank\">docs</a>)<br/>"
      ],
      "text/plain": [
       "<IPython.core.display.HTML object>"
      ]
     },
     "metadata": {},
     "output_type": "display_data"
    },
    {
     "data": {
      "text/html": [
       " View project at <a href='https://wandb.ai/g-broughton/S3E10' target=\"_blank\">https://wandb.ai/g-broughton/S3E10</a>"
      ],
      "text/plain": [
       "<IPython.core.display.HTML object>"
      ]
     },
     "metadata": {},
     "output_type": "display_data"
    },
    {
     "data": {
      "text/html": [
       " View run at <a href='https://wandb.ai/g-broughton/S3E10/runs/7a4575ff' target=\"_blank\">https://wandb.ai/g-broughton/S3E10/runs/7a4575ff</a>"
      ],
      "text/plain": [
       "<IPython.core.display.HTML object>"
      ]
     },
     "metadata": {},
     "output_type": "display_data"
    },
    {
     "name": "stderr",
     "output_type": "stream",
     "text": [
      "\u001b[34m\u001b[1mwandb\u001b[0m: \n",
      "\u001b[34m\u001b[1mwandb\u001b[0m: Plotting LogisticRegression.\n",
      "\u001b[34m\u001b[1mwandb\u001b[0m: Logged feature importances.\n",
      "\u001b[34m\u001b[1mwandb\u001b[0m: Logged confusion matrix.\n"
     ]
    },
    {
     "name": "stdout",
     "output_type": "stream",
     "text": [
      "Score: 0.5399005955754766\n"
     ]
    },
    {
     "name": "stderr",
     "output_type": "stream",
     "text": [
      "\u001b[34m\u001b[1mwandb\u001b[0m: Logged summary metrics.\n",
      "\u001b[34m\u001b[1mwandb\u001b[0m: Logged class proportions.\n",
      "\u001b[34m\u001b[1mwandb\u001b[0m: Logged calibration curve.\n",
      "\u001b[34m\u001b[1mwandb\u001b[0m: Logged roc curve.\n",
      "\u001b[34m\u001b[1mwandb\u001b[0m: Logged precision-recall curve.\n",
      "\u001b[34m\u001b[1mwandb\u001b[0m: \n",
      "\u001b[34m\u001b[1mwandb\u001b[0m: Plotting LogisticRegression.\n",
      "\u001b[34m\u001b[1mwandb\u001b[0m: Logged feature importances.\n",
      "\u001b[34m\u001b[1mwandb\u001b[0m: Logged confusion matrix.\n"
     ]
    },
    {
     "name": "stdout",
     "output_type": "stream",
     "text": [
      "Score: 0.5638144209331639\n"
     ]
    },
    {
     "name": "stderr",
     "output_type": "stream",
     "text": [
      "\u001b[34m\u001b[1mwandb\u001b[0m: Logged summary metrics.\n",
      "\u001b[34m\u001b[1mwandb\u001b[0m: Logged class proportions.\n",
      "\u001b[34m\u001b[1mwandb\u001b[0m: Logged calibration curve.\n",
      "\u001b[34m\u001b[1mwandb\u001b[0m: Logged roc curve.\n",
      "\u001b[34m\u001b[1mwandb\u001b[0m: Logged precision-recall curve.\n",
      "\u001b[34m\u001b[1mwandb\u001b[0m: \n",
      "\u001b[34m\u001b[1mwandb\u001b[0m: Plotting LogisticRegression.\n",
      "\u001b[34m\u001b[1mwandb\u001b[0m: Logged feature importances.\n",
      "\u001b[34m\u001b[1mwandb\u001b[0m: Logged confusion matrix.\n"
     ]
    },
    {
     "name": "stdout",
     "output_type": "stream",
     "text": [
      "Score: 0.555536558309349\n"
     ]
    },
    {
     "name": "stderr",
     "output_type": "stream",
     "text": [
      "\u001b[34m\u001b[1mwandb\u001b[0m: Logged summary metrics.\n",
      "\u001b[34m\u001b[1mwandb\u001b[0m: Logged class proportions.\n",
      "\u001b[34m\u001b[1mwandb\u001b[0m: Logged calibration curve.\n",
      "\u001b[34m\u001b[1mwandb\u001b[0m: Logged roc curve.\n",
      "\u001b[34m\u001b[1mwandb\u001b[0m: Logged precision-recall curve.\n",
      "\u001b[34m\u001b[1mwandb\u001b[0m: \n",
      "\u001b[34m\u001b[1mwandb\u001b[0m: Plotting LogisticRegression.\n",
      "\u001b[34m\u001b[1mwandb\u001b[0m: Logged feature importances.\n",
      "\u001b[34m\u001b[1mwandb\u001b[0m: Logged confusion matrix.\n"
     ]
    },
    {
     "name": "stdout",
     "output_type": "stream",
     "text": [
      "Score: 0.5316227329516618\n"
     ]
    },
    {
     "name": "stderr",
     "output_type": "stream",
     "text": [
      "\u001b[34m\u001b[1mwandb\u001b[0m: Logged summary metrics.\n",
      "\u001b[34m\u001b[1mwandb\u001b[0m: Logged class proportions.\n",
      "\u001b[34m\u001b[1mwandb\u001b[0m: Logged calibration curve.\n",
      "\u001b[34m\u001b[1mwandb\u001b[0m: Logged roc curve.\n",
      "\u001b[34m\u001b[1mwandb\u001b[0m: Logged precision-recall curve.\n",
      "\u001b[34m\u001b[1mwandb\u001b[0m: \n",
      "\u001b[34m\u001b[1mwandb\u001b[0m: Plotting LogisticRegression.\n",
      "\u001b[34m\u001b[1mwandb\u001b[0m: Logged feature importances.\n",
      "\u001b[34m\u001b[1mwandb\u001b[0m: Logged confusion matrix.\n"
     ]
    },
    {
     "name": "stdout",
     "output_type": "stream",
     "text": [
      "Score: 0.5399005955754765\n"
     ]
    },
    {
     "name": "stderr",
     "output_type": "stream",
     "text": [
      "\u001b[34m\u001b[1mwandb\u001b[0m: Logged summary metrics.\n",
      "\u001b[34m\u001b[1mwandb\u001b[0m: Logged class proportions.\n",
      "\u001b[34m\u001b[1mwandb\u001b[0m: Logged calibration curve.\n",
      "\u001b[34m\u001b[1mwandb\u001b[0m: Logged roc curve.\n",
      "\u001b[34m\u001b[1mwandb\u001b[0m: Logged precision-recall curve.\n",
      "\u001b[34m\u001b[1mwandb\u001b[0m: \n",
      "\u001b[34m\u001b[1mwandb\u001b[0m: Plotting LogisticRegression.\n",
      "\u001b[34m\u001b[1mwandb\u001b[0m: Logged feature importances.\n",
      "\u001b[34m\u001b[1mwandb\u001b[0m: Logged confusion matrix.\n"
     ]
    },
    {
     "name": "stdout",
     "output_type": "stream",
     "text": [
      "Score: 0.5895677713183655\n"
     ]
    },
    {
     "name": "stderr",
     "output_type": "stream",
     "text": [
      "\u001b[34m\u001b[1mwandb\u001b[0m: Logged summary metrics.\n",
      "\u001b[34m\u001b[1mwandb\u001b[0m: Logged class proportions.\n",
      "\u001b[34m\u001b[1mwandb\u001b[0m: Logged calibration curve.\n",
      "\u001b[34m\u001b[1mwandb\u001b[0m: Logged roc curve.\n",
      "\u001b[34m\u001b[1mwandb\u001b[0m: Logged precision-recall curve.\n",
      "\u001b[34m\u001b[1mwandb\u001b[0m: \n",
      "\u001b[34m\u001b[1mwandb\u001b[0m: Plotting LogisticRegression.\n",
      "\u001b[34m\u001b[1mwandb\u001b[0m: Logged feature importances.\n",
      "\u001b[34m\u001b[1mwandb\u001b[0m: Logged confusion matrix.\n"
     ]
    },
    {
     "name": "stdout",
     "output_type": "stream",
     "text": [
      "Score: 0.550937745740563\n"
     ]
    },
    {
     "name": "stderr",
     "output_type": "stream",
     "text": [
      "\u001b[34m\u001b[1mwandb\u001b[0m: Logged summary metrics.\n",
      "\u001b[34m\u001b[1mwandb\u001b[0m: Logged class proportions.\n",
      "\u001b[34m\u001b[1mwandb\u001b[0m: Logged calibration curve.\n",
      "\u001b[34m\u001b[1mwandb\u001b[0m: Logged roc curve.\n",
      "\u001b[34m\u001b[1mwandb\u001b[0m: Logged precision-recall curve.\n",
      "\u001b[34m\u001b[1mwandb\u001b[0m: \n",
      "\u001b[34m\u001b[1mwandb\u001b[0m: Plotting LogisticRegression.\n",
      "\u001b[34m\u001b[1mwandb\u001b[0m: Logged feature importances.\n",
      "\u001b[34m\u001b[1mwandb\u001b[0m: Logged confusion matrix.\n"
     ]
    },
    {
     "name": "stdout",
     "output_type": "stream",
     "text": [
      "Score: 0.5702527585294642\n"
     ]
    },
    {
     "name": "stderr",
     "output_type": "stream",
     "text": [
      "\u001b[34m\u001b[1mwandb\u001b[0m: Logged summary metrics.\n",
      "\u001b[34m\u001b[1mwandb\u001b[0m: Logged class proportions.\n",
      "\u001b[34m\u001b[1mwandb\u001b[0m: Logged calibration curve.\n",
      "\u001b[34m\u001b[1mwandb\u001b[0m: Logged roc curve.\n",
      "\u001b[34m\u001b[1mwandb\u001b[0m: Logged precision-recall curve.\n",
      "\u001b[34m\u001b[1mwandb\u001b[0m: \n",
      "\u001b[34m\u001b[1mwandb\u001b[0m: Plotting LogisticRegression.\n",
      "\u001b[34m\u001b[1mwandb\u001b[0m: Logged feature importances.\n",
      "\u001b[34m\u001b[1mwandb\u001b[0m: Logged confusion matrix.\n"
     ]
    },
    {
     "name": "stdout",
     "output_type": "stream",
     "text": [
      "Score: 0.5399005955754765\n"
     ]
    },
    {
     "name": "stderr",
     "output_type": "stream",
     "text": [
      "\u001b[34m\u001b[1mwandb\u001b[0m: Logged summary metrics.\n",
      "\u001b[34m\u001b[1mwandb\u001b[0m: Logged class proportions.\n",
      "\u001b[34m\u001b[1mwandb\u001b[0m: Logged calibration curve.\n",
      "\u001b[34m\u001b[1mwandb\u001b[0m: Logged roc curve.\n",
      "\u001b[34m\u001b[1mwandb\u001b[0m: Logged precision-recall curve.\n"
     ]
    },
    {
     "data": {
      "text/html": [
       "Waiting for W&B process to finish... <strong style=\"color:green\">(success).</strong>"
      ],
      "text/plain": [
       "<IPython.core.display.HTML object>"
      ]
     },
     "metadata": {},
     "output_type": "display_data"
    },
    {
     "data": {
      "text/html": [
       " View run <strong style=\"color:#cdcd00\">LogisticRegression</strong> at: <a href='https://wandb.ai/g-broughton/S3E10/runs/7a4575ff' target=\"_blank\">https://wandb.ai/g-broughton/S3E10/runs/7a4575ff</a><br/>Synced 7 W&B file(s), 36 media file(s), 33 artifact file(s) and 1 other file(s)"
      ],
      "text/plain": [
       "<IPython.core.display.HTML object>"
      ]
     },
     "metadata": {},
     "output_type": "display_data"
    },
    {
     "data": {
      "text/html": [
       "Find logs at: <code>./wandb/run-20230319_001911-7a4575ff/logs</code>"
      ],
      "text/plain": [
       "<IPython.core.display.HTML object>"
      ]
     },
     "metadata": {},
     "output_type": "display_data"
    }
   ],
   "source": [
    "lr_params = {\n",
    "    'random_state': CFG.SEED,\n",
    "    'max_iter': 10000,\n",
    "    'n_jobs': -1,\n",
    "    'solver': 'lbfgs',\n",
    "    'C': 0.1,\n",
    "    'tol': 1e-3\n",
    "}\n",
    "wandb.init(project='S3E10', name='LogisticRegression', group='LogisticRegression', config=lr_params, reinit=True, dir=CFG.BASE_PATH)\n",
    "lr = LogisticRegression(**lr_params)\n",
    "modelsLR, predsLR = fit_linear(X, y, X_test, lr, 'LogisticRegression')\n",
    "wandb.finish()"
   ]
  },
  {
   "cell_type": "code",
   "execution_count": 76,
   "metadata": {},
   "outputs": [
    {
     "data": {
      "text/html": [
       "Finishing last run (ID:8yu36g7h) before initializing another..."
      ],
      "text/plain": [
       "<IPython.core.display.HTML object>"
      ]
     },
     "metadata": {},
     "output_type": "display_data"
    },
    {
     "data": {
      "text/html": [
       "Waiting for W&B process to finish... <strong style=\"color:green\">(success).</strong>"
      ],
      "text/plain": [
       "<IPython.core.display.HTML object>"
      ]
     },
     "metadata": {},
     "output_type": "display_data"
    },
    {
     "data": {
      "text/html": [
       " View run <strong style=\"color:#cdcd00\">RidgeClassifier</strong> at: <a href='https://wandb.ai/g-broughton/S3E10/runs/8yu36g7h' target=\"_blank\">https://wandb.ai/g-broughton/S3E10/runs/8yu36g7h</a><br/>Synced 6 W&B file(s), 0 media file(s), 0 artifact file(s) and 1 other file(s)"
      ],
      "text/plain": [
       "<IPython.core.display.HTML object>"
      ]
     },
     "metadata": {},
     "output_type": "display_data"
    },
    {
     "data": {
      "text/html": [
       "Find logs at: <code>./wandb/run-20230319_002914-8yu36g7h/logs</code>"
      ],
      "text/plain": [
       "<IPython.core.display.HTML object>"
      ]
     },
     "metadata": {},
     "output_type": "display_data"
    },
    {
     "data": {
      "text/html": [
       "Successfully finished last run (ID:8yu36g7h). Initializing new run:<br/>"
      ],
      "text/plain": [
       "<IPython.core.display.HTML object>"
      ]
     },
     "metadata": {},
     "output_type": "display_data"
    },
    {
     "data": {
      "application/vnd.jupyter.widget-view+json": {
       "model_id": "cc627d5b83d948119146e8fe3b35286b",
       "version_major": 2,
       "version_minor": 0
      },
      "text/plain": [
       "VBox(children=(Label(value='Waiting for wandb.init()...\\r'), FloatProgress(value=0.016669211600007353, max=1.0…"
      ]
     },
     "metadata": {},
     "output_type": "display_data"
    },
    {
     "data": {
      "text/html": [
       "Tracking run with wandb version 0.14.0"
      ],
      "text/plain": [
       "<IPython.core.display.HTML object>"
      ]
     },
     "metadata": {},
     "output_type": "display_data"
    },
    {
     "data": {
      "text/html": [
       "Run data is saved locally in <code>/home/broug/Desktop/S3E10/notebooks/wandb/run-20230319_002933-2gu6ovgx</code>"
      ],
      "text/plain": [
       "<IPython.core.display.HTML object>"
      ]
     },
     "metadata": {},
     "output_type": "display_data"
    },
    {
     "data": {
      "text/html": [
       "Syncing run <strong><a href='https://wandb.ai/g-broughton/S3E10/runs/2gu6ovgx' target=\"_blank\">RidgeClassifier</a></strong> to <a href='https://wandb.ai/g-broughton/S3E10' target=\"_blank\">Weights & Biases</a> (<a href='https://wandb.me/run' target=\"_blank\">docs</a>)<br/>"
      ],
      "text/plain": [
       "<IPython.core.display.HTML object>"
      ]
     },
     "metadata": {},
     "output_type": "display_data"
    },
    {
     "data": {
      "text/html": [
       " View project at <a href='https://wandb.ai/g-broughton/S3E10' target=\"_blank\">https://wandb.ai/g-broughton/S3E10</a>"
      ],
      "text/plain": [
       "<IPython.core.display.HTML object>"
      ]
     },
     "metadata": {},
     "output_type": "display_data"
    },
    {
     "data": {
      "text/html": [
       " View run at <a href='https://wandb.ai/g-broughton/S3E10/runs/2gu6ovgx' target=\"_blank\">https://wandb.ai/g-broughton/S3E10/runs/2gu6ovgx</a>"
      ],
      "text/plain": [
       "<IPython.core.display.HTML object>"
      ]
     },
     "metadata": {},
     "output_type": "display_data"
    },
    {
     "name": "stderr",
     "output_type": "stream",
     "text": [
      "\u001b[34m\u001b[1mwandb\u001b[0m: \n",
      "\u001b[34m\u001b[1mwandb\u001b[0m: Plotting RidgeClassifier.\n",
      "\u001b[34m\u001b[1mwandb\u001b[0m: Logged feature importances.\n",
      "\u001b[34m\u001b[1mwandb\u001b[0m: Logged confusion matrix.\n"
     ]
    },
    {
     "name": "stdout",
     "output_type": "stream",
     "text": [
      "Score: 0.5822096712083078\n"
     ]
    },
    {
     "name": "stderr",
     "output_type": "stream",
     "text": [
      "\u001b[34m\u001b[1mwandb\u001b[0m: Logged summary metrics.\n",
      "\u001b[34m\u001b[1mwandb\u001b[0m: Logged class proportions.\n",
      "\u001b[34m\u001b[1mwandb\u001b[0m: Logged calibration curve.\n",
      "\u001b[34m\u001b[1mwandb\u001b[0m: Logged roc curve.\n",
      "\u001b[34m\u001b[1mwandb\u001b[0m: Logged precision-recall curve.\n",
      "\u001b[34m\u001b[1mwandb\u001b[0m: \n",
      "\u001b[34m\u001b[1mwandb\u001b[0m: Plotting RidgeClassifier.\n",
      "\u001b[34m\u001b[1mwandb\u001b[0m: Logged feature importances.\n",
      "\u001b[34m\u001b[1mwandb\u001b[0m: Logged confusion matrix.\n"
     ]
    },
    {
     "name": "stdout",
     "output_type": "stream",
     "text": [
      "Score: 0.5895677713183654\n"
     ]
    },
    {
     "name": "stderr",
     "output_type": "stream",
     "text": [
      "\u001b[34m\u001b[1mwandb\u001b[0m: Logged summary metrics.\n",
      "\u001b[34m\u001b[1mwandb\u001b[0m: Logged class proportions.\n",
      "\u001b[34m\u001b[1mwandb\u001b[0m: Logged calibration curve.\n",
      "\u001b[34m\u001b[1mwandb\u001b[0m: Logged roc curve.\n",
      "\u001b[34m\u001b[1mwandb\u001b[0m: Logged precision-recall curve.\n",
      "\u001b[34m\u001b[1mwandb\u001b[0m: \n",
      "\u001b[34m\u001b[1mwandb\u001b[0m: Plotting RidgeClassifier.\n",
      "\u001b[34m\u001b[1mwandb\u001b[0m: Logged feature importances.\n",
      "\u001b[34m\u001b[1mwandb\u001b[0m: Logged confusion matrix.\n"
     ]
    },
    {
     "name": "stdout",
     "output_type": "stream",
     "text": [
      "Score: 0.5950863464009085\n"
     ]
    },
    {
     "name": "stderr",
     "output_type": "stream",
     "text": [
      "\u001b[34m\u001b[1mwandb\u001b[0m: Logged summary metrics.\n",
      "\u001b[34m\u001b[1mwandb\u001b[0m: Logged class proportions.\n",
      "\u001b[34m\u001b[1mwandb\u001b[0m: Logged calibration curve.\n",
      "\u001b[34m\u001b[1mwandb\u001b[0m: Logged roc curve.\n",
      "\u001b[34m\u001b[1mwandb\u001b[0m: Logged precision-recall curve.\n",
      "\u001b[34m\u001b[1mwandb\u001b[0m: \n",
      "\u001b[34m\u001b[1mwandb\u001b[0m: Plotting RidgeClassifier.\n",
      "\u001b[34m\u001b[1mwandb\u001b[0m: Logged feature importances.\n",
      "\u001b[34m\u001b[1mwandb\u001b[0m: Logged confusion matrix.\n"
     ]
    },
    {
     "name": "stdout",
     "output_type": "stream",
     "text": [
      "Score: 0.5656539459606783\n"
     ]
    },
    {
     "name": "stderr",
     "output_type": "stream",
     "text": [
      "\u001b[34m\u001b[1mwandb\u001b[0m: Logged summary metrics.\n",
      "\u001b[34m\u001b[1mwandb\u001b[0m: Logged class proportions.\n",
      "\u001b[34m\u001b[1mwandb\u001b[0m: Logged calibration curve.\n",
      "\u001b[34m\u001b[1mwandb\u001b[0m: Logged roc curve.\n",
      "\u001b[34m\u001b[1mwandb\u001b[0m: Logged precision-recall curve.\n",
      "\u001b[34m\u001b[1mwandb\u001b[0m: \n",
      "\u001b[34m\u001b[1mwandb\u001b[0m: Plotting RidgeClassifier.\n",
      "\u001b[34m\u001b[1mwandb\u001b[0m: Logged feature importances.\n",
      "\u001b[34m\u001b[1mwandb\u001b[0m: Logged confusion matrix.\n"
     ]
    },
    {
     "name": "stdout",
     "output_type": "stream",
     "text": [
      "Score: 0.5840491962358222\n"
     ]
    },
    {
     "name": "stderr",
     "output_type": "stream",
     "text": [
      "\u001b[34m\u001b[1mwandb\u001b[0m: Logged summary metrics.\n",
      "\u001b[34m\u001b[1mwandb\u001b[0m: Logged class proportions.\n",
      "\u001b[34m\u001b[1mwandb\u001b[0m: Logged calibration curve.\n",
      "\u001b[34m\u001b[1mwandb\u001b[0m: Logged roc curve.\n",
      "\u001b[34m\u001b[1mwandb\u001b[0m: Logged precision-recall curve.\n",
      "\u001b[34m\u001b[1mwandb\u001b[0m: \n",
      "\u001b[34m\u001b[1mwandb\u001b[0m: Plotting RidgeClassifier.\n",
      "\u001b[34m\u001b[1mwandb\u001b[0m: Logged feature importances.\n",
      "\u001b[34m\u001b[1mwandb\u001b[0m: Logged confusion matrix.\n"
     ]
    },
    {
     "name": "stdout",
     "output_type": "stream",
     "text": [
      "Score: 0.6116420716485382\n"
     ]
    },
    {
     "name": "stderr",
     "output_type": "stream",
     "text": [
      "\u001b[34m\u001b[1mwandb\u001b[0m: Logged summary metrics.\n",
      "\u001b[34m\u001b[1mwandb\u001b[0m: Logged class proportions.\n",
      "\u001b[34m\u001b[1mwandb\u001b[0m: Logged calibration curve.\n",
      "\u001b[34m\u001b[1mwandb\u001b[0m: Logged roc curve.\n",
      "\u001b[34m\u001b[1mwandb\u001b[0m: Logged precision-recall curve.\n",
      "\u001b[34m\u001b[1mwandb\u001b[0m: \n",
      "\u001b[34m\u001b[1mwandb\u001b[0m: Plotting RidgeClassifier.\n",
      "\u001b[34m\u001b[1mwandb\u001b[0m: Logged feature importances.\n",
      "\u001b[34m\u001b[1mwandb\u001b[0m: Logged confusion matrix.\n"
     ]
    },
    {
     "name": "stdout",
     "output_type": "stream",
     "text": [
      "Score: 0.5904875338321226\n"
     ]
    },
    {
     "name": "stderr",
     "output_type": "stream",
     "text": [
      "\u001b[34m\u001b[1mwandb\u001b[0m: Logged summary metrics.\n",
      "\u001b[34m\u001b[1mwandb\u001b[0m: Logged class proportions.\n",
      "\u001b[34m\u001b[1mwandb\u001b[0m: Logged calibration curve.\n",
      "\u001b[34m\u001b[1mwandb\u001b[0m: Logged roc curve.\n",
      "\u001b[34m\u001b[1mwandb\u001b[0m: Logged precision-recall curve.\n",
      "\u001b[34m\u001b[1mwandb\u001b[0m: \n",
      "\u001b[34m\u001b[1mwandb\u001b[0m: Plotting RidgeClassifier.\n",
      "\u001b[34m\u001b[1mwandb\u001b[0m: Logged feature importances.\n",
      "\u001b[34m\u001b[1mwandb\u001b[0m: Logged confusion matrix.\n"
     ]
    },
    {
     "name": "stdout",
     "output_type": "stream",
     "text": [
      "Score: 0.5950863464009086\n"
     ]
    },
    {
     "name": "stderr",
     "output_type": "stream",
     "text": [
      "\u001b[34m\u001b[1mwandb\u001b[0m: Logged summary metrics.\n",
      "\u001b[34m\u001b[1mwandb\u001b[0m: Logged class proportions.\n",
      "\u001b[34m\u001b[1mwandb\u001b[0m: Logged calibration curve.\n",
      "\u001b[34m\u001b[1mwandb\u001b[0m: Logged roc curve.\n",
      "\u001b[34m\u001b[1mwandb\u001b[0m: Logged precision-recall curve.\n",
      "\u001b[34m\u001b[1mwandb\u001b[0m: \n",
      "\u001b[34m\u001b[1mwandb\u001b[0m: Plotting RidgeClassifier.\n",
      "\u001b[34m\u001b[1mwandb\u001b[0m: Logged feature importances.\n",
      "\u001b[34m\u001b[1mwandb\u001b[0m: Logged confusion matrix.\n"
     ]
    },
    {
     "name": "stdout",
     "output_type": "stream",
     "text": [
      "Score: 0.5794503836670363\n"
     ]
    },
    {
     "name": "stderr",
     "output_type": "stream",
     "text": [
      "\u001b[34m\u001b[1mwandb\u001b[0m: Logged summary metrics.\n",
      "\u001b[34m\u001b[1mwandb\u001b[0m: Logged class proportions.\n",
      "\u001b[34m\u001b[1mwandb\u001b[0m: Logged calibration curve.\n",
      "\u001b[34m\u001b[1mwandb\u001b[0m: Logged roc curve.\n",
      "\u001b[34m\u001b[1mwandb\u001b[0m: Logged precision-recall curve.\n"
     ]
    },
    {
     "data": {
      "text/html": [
       "Waiting for W&B process to finish... <strong style=\"color:green\">(success).</strong>"
      ],
      "text/plain": [
       "<IPython.core.display.HTML object>"
      ]
     },
     "metadata": {},
     "output_type": "display_data"
    },
    {
     "data": {
      "text/html": [
       " View run <strong style=\"color:#cdcd00\">RidgeClassifier</strong> at: <a href='https://wandb.ai/g-broughton/S3E10/runs/2gu6ovgx' target=\"_blank\">https://wandb.ai/g-broughton/S3E10/runs/2gu6ovgx</a><br/>Synced 7 W&B file(s), 36 media file(s), 33 artifact file(s) and 0 other file(s)"
      ],
      "text/plain": [
       "<IPython.core.display.HTML object>"
      ]
     },
     "metadata": {},
     "output_type": "display_data"
    },
    {
     "data": {
      "text/html": [
       "Find logs at: <code>./wandb/run-20230319_002933-2gu6ovgx/logs</code>"
      ],
      "text/plain": [
       "<IPython.core.display.HTML object>"
      ]
     },
     "metadata": {},
     "output_type": "display_data"
    }
   ],
   "source": [
    "r_params = {\n",
    "    'random_state': CFG.SEED,\n",
    "    'max_iter': 10000,\n",
    "    'alpha': 0.1,\n",
    "    'tol': 1e-3\n",
    "}\n",
    "wandb.init(project='S3E10', name='RidgeClassifier', group='RidgeClassifier', config=r_params, reinit=True, dir=CFG.BASE_PATH)\n",
    "r = RidgeClassifier(**r_params)\n",
    "clf = CalibratedClassifierCV(r)\n",
    "modelsR, predsR = fit_linear(X, y, X_test, clf, 'RidgeClassifier')\n",
    "wandb.finish()"
   ]
  },
  {
   "cell_type": "code",
   "execution_count": 77,
   "metadata": {},
   "outputs": [
    {
     "name": "stderr",
     "output_type": "stream",
     "text": [
      "\u001b[32m[I 2023-03-19 00:32:56,524]\u001b[0m A new study created in memory with name: no-name-66006de4-7d19-4c10-9ae9-d0e4a93c4e9c\u001b[0m\n"
     ]
    }
   ],
   "source": [
    "def coef_objective(trial):\n",
    "    a = trial.suggest_float('a', 0.5, 1)\n",
    "    b = trial.suggest_float('b', 0.5, 1)\n",
    "    c = trial.suggest_float('c', 0, 1)\n",
    "    d = trial.suggest_float('d', 0, 1)\n",
    "    \n",
    "    preds_eval = []\n",
    "    for model in modelsXB:\n",
    "        preds_eval.append(model.predict_proba(X)[:, 1])\n",
    "    resXB = np.average(np.array(preds_eval),axis=0)\n",
    "    \n",
    "    preds_eval = []\n",
    "    for model in modelsLB:\n",
    "        preds_eval.append(model.predict_proba(X)[:, 1])\n",
    "    resLB = np.average(np.array(preds_eval),axis=0)\n",
    "    \n",
    "    preds_eval = []\n",
    "    for model in modelsLR:\n",
    "        preds_eval.append(model.predict_proba(X)[:, 1])\n",
    "    resLR = np.average(np.array(preds_eval),axis=0)\n",
    "\n",
    "    preds_eval = []\n",
    "    for model in modelsR:\n",
    "        preds_eval.append(model.predict_proba(X)[:, 1])\n",
    "    resR = np.average(np.array(preds_eval),axis=0)\n",
    "    \n",
    "    res1 =  (resXB * a + resLB * b + resLR * c + resR + d)/(a + b + c + d)\n",
    "    res = log_loss(y, res1)\n",
    "    return res\n",
    "\n",
    "study = optuna.create_study(direction= 'minimize')"
   ]
  },
  {
   "cell_type": "code",
   "execution_count": 78,
   "metadata": {},
   "outputs": [
    {
     "name": "stderr",
     "output_type": "stream",
     "text": [
      "\u001b[32m[I 2023-03-19 00:33:57,797]\u001b[0m Trial 0 finished with value: 0.5111631287746657 and parameters: {'a': 0.561196375266751, 'b': 0.9673416005779559, 'c': 0.013563322393281507, 'd': 0.8801023945035454}. Best is trial 0 with value: 0.5111631287746657.\u001b[0m\n",
      "\u001b[32m[I 2023-03-19 00:34:29,724]\u001b[0m Trial 1 finished with value: 0.22871214348936977 and parameters: {'a': 0.5021538639798796, 'b': 0.6644291721192368, 'c': 0.8113441878241875, 'd': 0.31031059451546594}. Best is trial 1 with value: 0.22871214348936977.\u001b[0m\n",
      "\u001b[32m[I 2023-03-19 00:35:01,346]\u001b[0m Trial 2 finished with value: 0.3513420119654242 and parameters: {'a': 0.9559280070277311, 'b': 0.8484515338609904, 'c': 0.9466856990494894, 'd': 0.9634852055722679}. Best is trial 1 with value: 0.22871214348936977.\u001b[0m\n",
      "\u001b[32m[I 2023-03-19 00:35:31,882]\u001b[0m Trial 3 finished with value: 0.3307034380731156 and parameters: {'a': 0.9521277698969515, 'b': 0.9648397787955166, 'c': 0.8637085099302466, 'd': 0.890976634793375}. Best is trial 1 with value: 0.22871214348936977.\u001b[0m\n",
      "\u001b[32m[I 2023-03-19 00:36:02,715]\u001b[0m Trial 4 finished with value: 0.31568263103280664 and parameters: {'a': 0.9231139868617728, 'b': 0.6772564199359029, 'c': 0.012713875834436394, 'd': 0.4381429608948748}. Best is trial 1 with value: 0.22871214348936977.\u001b[0m\n",
      "\u001b[32m[I 2023-03-19 00:36:32,735]\u001b[0m Trial 5 finished with value: 0.24686019731370257 and parameters: {'a': 0.6712463773632763, 'b': 0.8588829592267457, 'c': 0.753759836654449, 'd': 0.4348300338607881}. Best is trial 1 with value: 0.22871214348936977.\u001b[0m\n",
      "\u001b[32m[I 2023-03-19 00:36:59,007]\u001b[0m Trial 6 finished with value: 0.3697624874562007 and parameters: {'a': 0.778118184576473, 'b': 0.5138447491207896, 'c': 0.5020405280748862, 'd': 0.6359876674496692}. Best is trial 1 with value: 0.22871214348936977.\u001b[0m\n",
      "\u001b[32m[I 2023-03-19 00:37:24,646]\u001b[0m Trial 7 finished with value: 0.2942354938928001 and parameters: {'a': 0.6662239133602875, 'b': 0.5049305974521929, 'c': 0.5030529469656879, 'd': 0.3997194482175138}. Best is trial 1 with value: 0.22871214348936977.\u001b[0m\n",
      "\u001b[32m[I 2023-03-19 00:37:49,863]\u001b[0m Trial 8 finished with value: 0.3310701778152631 and parameters: {'a': 0.9161632366045046, 'b': 0.5049774475222065, 'c': 0.563086823491898, 'd': 0.6041694622456043}. Best is trial 1 with value: 0.22871214348936977.\u001b[0m\n",
      "\u001b[32m[I 2023-03-19 00:38:15,346]\u001b[0m Trial 9 finished with value: 0.12984589757246648 and parameters: {'a': 0.7973986035020253, 'b': 0.9963191517672618, 'c': 0.1055971062071035, 'd': 0.06957749919979417}. Best is trial 9 with value: 0.12984589757246648.\u001b[0m\n",
      "\u001b[32m[I 2023-03-19 00:38:40,851]\u001b[0m Trial 10 finished with value: 0.10037270961248153 and parameters: {'a': 0.8189172951110832, 'b': 0.9895852975274029, 'c': 0.2364487794281992, 'd': 0.005390865390512423}. Best is trial 10 with value: 0.10037270961248153.\u001b[0m\n",
      "\u001b[32m[I 2023-03-19 00:39:06,042]\u001b[0m Trial 11 finished with value: 0.10265099968331999 and parameters: {'a': 0.8138810474011745, 'b': 0.9752167091485856, 'c': 0.24458925177582314, 'd': 0.010323254047701395}. Best is trial 10 with value: 0.10037270961248153.\u001b[0m\n",
      "\u001b[32m[I 2023-03-19 00:39:31,335]\u001b[0m Trial 12 finished with value: 0.0992864146722443 and parameters: {'a': 0.8221057183149378, 'b': 0.8945271515254074, 'c': 0.25126187944000233, 'd': 0.0008972054142755148}. Best is trial 12 with value: 0.0992864146722443.\u001b[0m\n",
      "\u001b[32m[I 2023-03-19 00:39:56,555]\u001b[0m Trial 13 finished with value: 0.15887944025303224 and parameters: {'a': 0.8698695581189811, 'b': 0.8874196791079465, 'c': 0.2855032590025499, 'd': 0.151598379392258}. Best is trial 12 with value: 0.0992864146722443.\u001b[0m\n",
      "\u001b[32m[I 2023-03-19 00:40:21,937]\u001b[0m Trial 14 finished with value: 0.17899732057287124 and parameters: {'a': 0.8505376828854032, 'b': 0.906255241608505, 'c': 0.3199600392303574, 'd': 0.20668551676338}. Best is trial 12 with value: 0.0992864146722443.\u001b[0m\n",
      "\u001b[32m[I 2023-03-19 00:40:47,083]\u001b[0m Trial 15 finished with value: 0.11367544076937307 and parameters: {'a': 0.7247973319705359, 'b': 0.8198526153216718, 'c': 0.3688393696519835, 'd': 0.03153300675729809}. Best is trial 12 with value: 0.0992864146722443.\u001b[0m\n",
      "\u001b[32m[I 2023-03-19 00:41:12,292]\u001b[0m Trial 16 finished with value: 0.17431076016631541 and parameters: {'a': 0.8650639629643356, 'b': 0.9183153280806754, 'c': 0.10913453214219815, 'd': 0.17264245545964269}. Best is trial 12 with value: 0.0992864146722443.\u001b[0m\n",
      "\u001b[32m[I 2023-03-19 00:41:37,461]\u001b[0m Trial 17 finished with value: 0.2359550564125608 and parameters: {'a': 0.7322347167599924, 'b': 0.781274986251999, 'c': 0.18668503149938306, 'd': 0.2757189962839541}. Best is trial 12 with value: 0.0992864146722443.\u001b[0m\n",
      "\u001b[32m[I 2023-03-19 00:42:02,340]\u001b[0m Trial 18 finished with value: 0.13985188631039017 and parameters: {'a': 0.8390891020662737, 'b': 0.931777838519699, 'c': 0.39702613447268564, 'd': 0.11538786034444037}. Best is trial 12 with value: 0.0992864146722443.\u001b[0m\n",
      "\u001b[32m[I 2023-03-19 00:42:27,206]\u001b[0m Trial 19 finished with value: 0.1085862912584421 and parameters: {'a': 0.8932210827504101, 'b': 0.9969640954713895, 'c': 0.18875931869660412, 'd': 0.027699668570467684}. Best is trial 12 with value: 0.0992864146722443.\u001b[0m\n",
      "\u001b[32m[I 2023-03-19 00:42:51,983]\u001b[0m Trial 20 finished with value: 0.19083909140797414 and parameters: {'a': 0.7661563206536679, 'b': 0.9205104822844306, 'c': 0.3927213935459898, 'd': 0.237625608953572}. Best is trial 12 with value: 0.0992864146722443.\u001b[0m\n",
      "\u001b[32m[I 2023-03-19 00:43:16,835]\u001b[0m Trial 21 finished with value: 0.09726228693670394 and parameters: {'a': 0.9972181173260968, 'b': 0.9477264965121406, 'c': 0.24741801863725735, 'd': 0.007434693276079254}. Best is trial 21 with value: 0.09726228693670394.\u001b[0m\n",
      "\u001b[32m[I 2023-03-19 00:43:41,589]\u001b[0m Trial 22 finished with value: 0.13725434926638105 and parameters: {'a': 0.9962920251835684, 'b': 0.9359849542773423, 'c': 0.24165970894405747, 'd': 0.11231473070863027}. Best is trial 21 with value: 0.09726228693670394.\u001b[0m\n",
      "\u001b[32m[I 2023-03-19 00:44:06,588]\u001b[0m Trial 23 finished with value: 0.10028826877977348 and parameters: {'a': 0.8425510397313047, 'b': 0.8727016910180989, 'c': 0.33669721315295975, 'd': 0.005204154000565918}. Best is trial 21 with value: 0.09726228693670394.\u001b[0m\n",
      "\u001b[32m[I 2023-03-19 00:44:31,500]\u001b[0m Trial 24 finished with value: 0.14548045306377141 and parameters: {'a': 0.9945111594411213, 'b': 0.8806109344878168, 'c': 0.42687888227452175, 'd': 0.14694529615666835}. Best is trial 21 with value: 0.09726228693670394.\u001b[0m\n",
      "\u001b[32m[I 2023-03-19 00:44:56,396]\u001b[0m Trial 25 finished with value: 0.13176253563815388 and parameters: {'a': 0.8862814348576177, 'b': 0.8262556823921567, 'c': 0.3168640743704984, 'd': 0.08316337998954398}. Best is trial 21 with value: 0.09726228693670394.\u001b[0m\n",
      "\u001b[32m[I 2023-03-19 00:45:21,368]\u001b[0m Trial 26 finished with value: 0.09587227586552531 and parameters: {'a': 0.821444613244501, 'b': 0.8822497114187411, 'c': 0.5964943377286026, 'd': 0.0025987546994665333}. Best is trial 26 with value: 0.09587227586552531.\u001b[0m\n",
      "\u001b[32m[I 2023-03-19 00:45:46,288]\u001b[0m Trial 27 finished with value: 0.1562996241373145 and parameters: {'a': 0.9259089634696794, 'b': 0.9497198864961099, 'c': 0.6069417625441048, 'd': 0.19626366588774435}. Best is trial 26 with value: 0.09587227586552531.\u001b[0m\n",
      "\u001b[32m[I 2023-03-19 00:46:11,303]\u001b[0m Trial 28 finished with value: 0.20029596827116167 and parameters: {'a': 0.8944353358320207, 'b': 0.8969414145534456, 'c': 0.6529891768077911, 'd': 0.32736683299927055}. Best is trial 26 with value: 0.09587227586552531.\u001b[0m\n",
      "\u001b[32m[I 2023-03-19 00:46:36,456]\u001b[0m Trial 29 finished with value: 0.13033633607562445 and parameters: {'a': 0.7914804378602813, 'b': 0.9263086918671574, 'c': 0.4461892749765932, 'd': 0.08873948388889479}. Best is trial 26 with value: 0.09587227586552531.\u001b[0m\n",
      "\u001b[32m[I 2023-03-19 00:47:01,257]\u001b[0m Trial 30 finished with value: 0.2023784549041133 and parameters: {'a': 0.8284521481047494, 'b': 0.9632287738949101, 'c': 0.09265841217607265, 'd': 0.23841851775060052}. Best is trial 26 with value: 0.09587227586552531.\u001b[0m\n",
      "\u001b[32m[I 2023-03-19 00:47:26,223]\u001b[0m Trial 31 finished with value: 0.09888601491409144 and parameters: {'a': 0.8583226949865033, 'b': 0.8652154437295668, 'c': 0.3446793989454439, 'd': 0.0023799490924515322}. Best is trial 26 with value: 0.09587227586552531.\u001b[0m\n",
      "\u001b[32m[I 2023-03-19 00:47:51,086]\u001b[0m Trial 32 finished with value: 0.12497738769390694 and parameters: {'a': 0.8576016545483272, 'b': 0.8510721110699936, 'c': 0.44783315408251406, 'd': 0.0747425142345782}. Best is trial 26 with value: 0.09587227586552531.\u001b[0m\n",
      "\u001b[32m[I 2023-03-19 00:48:15,952]\u001b[0m Trial 33 finished with value: 0.1392663166328986 and parameters: {'a': 0.9535107357878438, 'b': 0.8909332312906395, 'c': 0.35618916009616053, 'd': 0.11894575856998549}. Best is trial 26 with value: 0.09587227586552531.\u001b[0m\n",
      "\u001b[32m[I 2023-03-19 00:48:40,972]\u001b[0m Trial 34 finished with value: 0.09746318546317427 and parameters: {'a': 0.970849092376779, 'b': 0.9531401260726975, 'c': 0.17186231888302672, 'd': 0.002422438119004211}. Best is trial 26 with value: 0.09587227586552531.\u001b[0m\n",
      "\u001b[32m[I 2023-03-19 00:49:05,985]\u001b[0m Trial 35 finished with value: 0.12345318777346928 and parameters: {'a': 0.9711429577508434, 'b': 0.9534637164637997, 'c': 0.1736656876144572, 'd': 0.06902362495323194}. Best is trial 26 with value: 0.09587227586552531.\u001b[0m\n",
      "\u001b[32m[I 2023-03-19 00:49:30,926]\u001b[0m Trial 36 finished with value: 0.16752851664899818 and parameters: {'a': 0.9341297819454154, 'b': 0.9561754375981463, 'c': 0.008574502546222107, 'd': 0.15891954349678208}. Best is trial 26 with value: 0.09587227586552531.\u001b[0m\n",
      "\u001b[32m[I 2023-03-19 00:49:55,810]\u001b[0m Trial 37 finished with value: 0.11085914540806435 and parameters: {'a': 0.9721283689129281, 'b': 0.8327435408715969, 'c': 0.7236947315835895, 'd': 0.061369363771204805}. Best is trial 26 with value: 0.09587227586552531.\u001b[0m\n",
      "\u001b[32m[I 2023-03-19 00:50:20,709]\u001b[0m Trial 38 finished with value: 0.131725547425262 and parameters: {'a': 0.9100920467849611, 'b': 0.8583617447671775, 'c': 0.9632899980285342, 'd': 0.14292192150872454}. Best is trial 26 with value: 0.09587227586552531.\u001b[0m\n",
      "\u001b[32m[I 2023-03-19 00:50:45,723]\u001b[0m Trial 39 finished with value: 0.2098713565180169 and parameters: {'a': 0.9327829061828733, 'b': 0.7784416902007129, 'c': 0.4852288228103268, 'd': 0.31282629253495675}. Best is trial 26 with value: 0.09587227586552531.\u001b[0m\n",
      "\u001b[32m[I 2023-03-19 00:51:10,732]\u001b[0m Trial 40 finished with value: 0.10976305336966728 and parameters: {'a': 0.9999130285241924, 'b': 0.9785705468370587, 'c': 0.5285714850171206, 'd': 0.057826975960033444}. Best is trial 26 with value: 0.09587227586552531.\u001b[0m\n",
      "\u001b[32m[I 2023-03-19 00:51:35,835]\u001b[0m Trial 41 finished with value: 0.0985664188324624 and parameters: {'a': 0.9487533411450332, 'b': 0.9176143164483864, 'c': 0.3001071560414252, 'd': 0.009171978699328915}. Best is trial 26 with value: 0.09587227586552531.\u001b[0m\n",
      "\u001b[32m[I 2023-03-19 00:52:00,763]\u001b[0m Trial 42 finished with value: 0.11168128555921869 and parameters: {'a': 0.9418271211598328, 'b': 0.9377757692826129, 'c': 0.29604222477108594, 'd': 0.04493672698633148}. Best is trial 26 with value: 0.09587227586552531.\u001b[0m\n",
      "\u001b[32m[I 2023-03-19 00:52:25,605]\u001b[0m Trial 43 finished with value: 0.1379341015740239 and parameters: {'a': 0.9643876691675551, 'b': 0.9110481925213405, 'c': 0.3621106891614679, 'd': 0.11909801406567226}. Best is trial 26 with value: 0.09587227586552531.\u001b[0m\n",
      "\u001b[32m[I 2023-03-19 00:52:50,865]\u001b[0m Trial 44 finished with value: 0.09520934728275059 and parameters: {'a': 0.9115529020482374, 'b': 0.9747839377125999, 'c': 0.2898282776415843, 'd': 0.00045915443762072723}. Best is trial 44 with value: 0.09520934728275059.\u001b[0m\n",
      "\u001b[32m[I 2023-03-19 00:53:16,220]\u001b[0m Trial 45 finished with value: 0.11844509004830607 and parameters: {'a': 0.9093378016689218, 'b': 0.9677539416343125, 'c': 0.2848758592977774, 'd': 0.06072865067494317}. Best is trial 44 with value: 0.09520934728275059.\u001b[0m\n",
      "\u001b[32m[I 2023-03-19 00:53:41,412]\u001b[0m Trial 46 finished with value: 0.16922915089348967 and parameters: {'a': 0.9560193570210422, 'b': 0.9965226923009833, 'c': 0.1473662603002352, 'd': 0.1860954572946133}. Best is trial 44 with value: 0.09520934728275059.\u001b[0m\n",
      "\u001b[32m[I 2023-03-19 00:54:06,764]\u001b[0m Trial 47 finished with value: 0.11466432462586904 and parameters: {'a': 0.9783177607093803, 'b': 0.9737108436904317, 'c': 0.07341355929843091, 'd': 0.04215527724865594}. Best is trial 44 with value: 0.09520934728275059.\u001b[0m\n",
      "\u001b[32m[I 2023-03-19 00:54:32,095]\u001b[0m Trial 48 finished with value: 0.09635513406855528 and parameters: {'a': 0.9407508429413434, 'b': 0.9501753715899555, 'c': 0.23624311735762443, 'd': 0.0010200529521639586}. Best is trial 44 with value: 0.09520934728275059.\u001b[0m\n",
      "\u001b[32m[I 2023-03-19 00:54:57,359]\u001b[0m Trial 49 finished with value: 0.1354524031655966 and parameters: {'a': 0.9209751607625338, 'b': 0.9491708902041032, 'c': 0.2178496656342108, 'd': 0.09760619624784583}. Best is trial 44 with value: 0.09520934728275059.\u001b[0m\n",
      "\u001b[32m[I 2023-03-19 00:55:22,441]\u001b[0m Trial 50 finished with value: 0.2932575121135328 and parameters: {'a': 0.9819471653426466, 'b': 0.9848186264333321, 'c': 0.14640357890080044, 'd': 0.5348470612910925}. Best is trial 44 with value: 0.09520934728275059.\u001b[0m\n",
      "\u001b[32m[I 2023-03-19 00:55:47,518]\u001b[0m Trial 51 finished with value: 0.09677372952791849 and parameters: {'a': 0.953701250800401, 'b': 0.9122644179651898, 'c': 0.26080765436789977, 'd': 0.001405027688338402}. Best is trial 44 with value: 0.09520934728275059.\u001b[0m\n",
      "\u001b[32m[I 2023-03-19 00:56:12,826]\u001b[0m Trial 52 finished with value: 0.10955930361906219 and parameters: {'a': 0.9474491636599811, 'b': 0.9410599764857861, 'c': 0.2135411015820569, 'd': 0.033974785546074075}. Best is trial 44 with value: 0.09520934728275059.\u001b[0m\n",
      "\u001b[32m[I 2023-03-19 00:56:38,426]\u001b[0m Trial 53 finished with value: 0.13739916886458903 and parameters: {'a': 0.9674230246405857, 'b': 0.9006929460244933, 'c': 0.27659875794740807, 'd': 0.10845867939658137}. Best is trial 44 with value: 0.09520934728275059.\u001b[0m\n",
      "\u001b[32m[I 2023-03-19 00:57:03,504]\u001b[0m Trial 54 finished with value: 0.1106817067325184 and parameters: {'a': 0.8866489940972502, 'b': 0.9633227478602738, 'c': 0.25793656608127147, 'd': 0.03510527622058643}. Best is trial 44 with value: 0.09520934728275059.\u001b[0m\n",
      "\u001b[32m[I 2023-03-19 00:57:28,767]\u001b[0m Trial 55 finished with value: 0.1537497076016151 and parameters: {'a': 0.9287694203609024, 'b': 0.9274213899181843, 'c': 0.21062235168806842, 'd': 0.14144640639275552}. Best is trial 44 with value: 0.09520934728275059.\u001b[0m\n",
      "\u001b[32m[I 2023-03-19 00:57:53,948]\u001b[0m Trial 56 finished with value: 0.1269669525257049 and parameters: {'a': 0.9853969589838665, 'b': 0.9805136053832444, 'c': 0.25974677620395237, 'd': 0.08888811354782945}. Best is trial 44 with value: 0.09520934728275059.\u001b[0m\n",
      "\u001b[32m[I 2023-03-19 00:58:19,085]\u001b[0m Trial 57 finished with value: 0.10425889354726543 and parameters: {'a': 0.904235502509144, 'b': 0.998691715004816, 'c': 0.05832411885578315, 'd': 0.014562064271526608}. Best is trial 44 with value: 0.09520934728275059.\u001b[0m\n",
      "\u001b[32m[I 2023-03-19 00:58:44,069]\u001b[0m Trial 58 finished with value: 0.09955363678991296 and parameters: {'a': 0.8734792234257899, 'b': 0.911079632912103, 'c': 0.12598108973673244, 'd': 0.0010586860290944125}. Best is trial 44 with value: 0.09520934728275059.\u001b[0m\n",
      "\u001b[32m[I 2023-03-19 00:59:09,022]\u001b[0m Trial 59 finished with value: 0.1159212475603779 and parameters: {'a': 0.9612597776902727, 'b': 0.9444156374527971, 'c': 0.18020761130400875, 'd': 0.04936827406855088}. Best is trial 44 with value: 0.09520934728275059.\u001b[0m\n",
      "\u001b[32m[I 2023-03-19 00:59:33,923]\u001b[0m Trial 60 finished with value: 0.13952613593782173 and parameters: {'a': 0.9392540560147633, 'b': 0.8759989804050783, 'c': 0.04874238322771421, 'd': 0.08972262771815666}. Best is trial 44 with value: 0.09520934728275059.\u001b[0m\n",
      "\u001b[32m[I 2023-03-19 00:59:59,066]\u001b[0m Trial 61 finished with value: 0.09757553908514177 and parameters: {'a': 0.9437942615185746, 'b': 0.9206133216986329, 'c': 0.2291734868960108, 'd': 0.001983864786267393}. Best is trial 44 with value: 0.09520934728275059.\u001b[0m\n",
      "\u001b[32m[I 2023-03-19 01:00:23,994]\u001b[0m Trial 62 finished with value: 0.11416301230291172 and parameters: {'a': 0.9856360895712794, 'b': 0.9306079374045927, 'c': 0.23494738058286485, 'd': 0.04942468859354012}. Best is trial 44 with value: 0.09520934728275059.\u001b[0m\n",
      "\u001b[32m[I 2023-03-19 01:00:48,850]\u001b[0m Trial 63 finished with value: 0.09753798534299586 and parameters: {'a': 0.9147314325343671, 'b': 0.8899663436212805, 'c': 0.3215028885602783, 'd': 0.0026464231810964358}. Best is trial 44 with value: 0.09520934728275059.\u001b[0m\n",
      "\u001b[32m[I 2023-03-19 01:01:13,825]\u001b[0m Trial 64 finished with value: 0.10952221036155267 and parameters: {'a': 0.9164006589149349, 'b': 0.8888892617927303, 'c': 0.32033582525075566, 'd': 0.033579854338626154}. Best is trial 44 with value: 0.09520934728275059.\u001b[0m\n",
      "\u001b[32m[I 2023-03-19 01:01:39,016]\u001b[0m Trial 65 finished with value: 0.14201919006508212 and parameters: {'a': 0.8975921448433275, 'b': 0.9034325969442353, 'c': 0.2751721917168712, 'd': 0.11305034673505604}. Best is trial 44 with value: 0.09520934728275059.\u001b[0m\n",
      "\u001b[32m[I 2023-03-19 01:02:03,900]\u001b[0m Trial 66 finished with value: 0.13263858367199857 and parameters: {'a': 0.8758641305715453, 'b': 0.9684919182558149, 'c': 0.15862077973691135, 'd': 0.08381131701121207}. Best is trial 44 with value: 0.09520934728275059.\u001b[0m\n",
      "\u001b[32m[I 2023-03-19 01:02:28,953]\u001b[0m Trial 67 finished with value: 0.1590183140156865 and parameters: {'a': 0.9179703493240914, 'b': 0.9516641944497897, 'c': 0.39178594964551394, 'd': 0.1786199825041718}. Best is trial 44 with value: 0.09520934728275059.\u001b[0m\n",
      "\u001b[32m[I 2023-03-19 01:02:53,766]\u001b[0m Trial 68 finished with value: 0.14551866236343208 and parameters: {'a': 0.9962930871531749, 'b': 0.8773187194408313, 'c': 0.3267056959027612, 'd': 0.1369199946830205}. Best is trial 44 with value: 0.09520934728275059.\u001b[0m\n",
      "\u001b[32m[I 2023-03-19 01:03:18,877]\u001b[0m Trial 69 finished with value: 0.10946235291397233 and parameters: {'a': 0.9626874598179679, 'b': 0.9383630975880715, 'c': 0.19368951399799722, 'd': 0.03322086382038707}. Best is trial 44 with value: 0.09520934728275059.\u001b[0m\n",
      "\u001b[32m[I 2023-03-19 01:03:43,969]\u001b[0m Trial 70 finished with value: 0.12521007351368083 and parameters: {'a': 0.8800387663855594, 'b': 0.9845550922529542, 'c': 0.12042719281977732, 'd': 0.06531337980208836}. Best is trial 44 with value: 0.09520934728275059.\u001b[0m\n",
      "\u001b[32m[I 2023-03-19 01:04:09,000]\u001b[0m Trial 71 finished with value: 0.09869810456714849 and parameters: {'a': 0.9416430028205726, 'b': 0.9199448009993081, 'c': 0.23809621724039493, 'd': 0.005020071841627652}. Best is trial 44 with value: 0.09520934728275059.\u001b[0m\n",
      "\u001b[32m[I 2023-03-19 01:04:33,822]\u001b[0m Trial 72 finished with value: 0.09858768877409702 and parameters: {'a': 0.9017648207151491, 'b': 0.903874819471638, 'c': 0.21325080327489332, 'd': 0.0011531347590987395}. Best is trial 44 with value: 0.09520934728275059.\u001b[0m\n",
      "\u001b[32m[I 2023-03-19 01:04:58,750]\u001b[0m Trial 73 finished with value: 0.12057569745892445 and parameters: {'a': 0.9260692158064088, 'b': 0.9616334498191478, 'c': 0.30110996198639495, 'd': 0.06879581080697454}. Best is trial 44 with value: 0.09520934728275059.\u001b[0m\n",
      "\u001b[32m[I 2023-03-19 01:05:23,601]\u001b[0m Trial 74 finished with value: 0.10770033894055787 and parameters: {'a': 0.9806326313933255, 'b': 0.8895401257754083, 'c': 0.24867379122068872, 'd': 0.030338343147033105}. Best is trial 44 with value: 0.09520934728275059.\u001b[0m\n",
      "\u001b[32m[I 2023-03-19 01:05:48,592]\u001b[0m Trial 75 finished with value: 0.0982801027468154 and parameters: {'a': 0.9526337147188664, 'b': 0.9215339659814683, 'c': 0.1724217028972741, 'd': 0.0019252226999375034}. Best is trial 44 with value: 0.09520934728275059.\u001b[0m\n",
      "\u001b[32m[I 2023-03-19 01:06:13,532]\u001b[0m Trial 76 finished with value: 0.12575523829704582 and parameters: {'a': 0.93976045228707, 'b': 0.942707106085135, 'c': 0.3445951010731749, 'd': 0.08477396559575041}. Best is trial 44 with value: 0.09520934728275059.\u001b[0m\n",
      "\u001b[32m[I 2023-03-19 01:06:38,777]\u001b[0m Trial 77 finished with value: 0.1083995356190651 and parameters: {'a': 0.9713687173115014, 'b': 0.868484825055242, 'c': 0.2686767475134671, 'd': 0.03165606349793461}. Best is trial 44 with value: 0.09520934728275059.\u001b[0m\n",
      "\u001b[32m[I 2023-03-19 01:07:03,609]\u001b[0m Trial 78 finished with value: 0.16176167593160384 and parameters: {'a': 0.8421812139128374, 'b': 0.9301317671520565, 'c': 0.30658479562605384, 'd': 0.1623561176610887}. Best is trial 44 with value: 0.09520934728275059.\u001b[0m\n",
      "\u001b[32m[I 2023-03-19 01:07:28,606]\u001b[0m Trial 79 finished with value: 0.12254896023937907 and parameters: {'a': 0.8954700426956892, 'b': 0.9573631031556047, 'c': 0.19647350706568326, 'd': 0.06164262101149628}. Best is trial 44 with value: 0.09520934728275059.\u001b[0m\n",
      "\u001b[32m[I 2023-03-19 01:07:53,664]\u001b[0m Trial 80 finished with value: 0.18254718798015526 and parameters: {'a': 0.9575325103234543, 'b': 0.8460384600841405, 'c': 0.23001499808699627, 'd': 0.21225615804376524}. Best is trial 44 with value: 0.09520934728275059.\u001b[0m\n",
      "\u001b[32m[I 2023-03-19 01:08:18,639]\u001b[0m Trial 81 finished with value: 0.09928734918006324 and parameters: {'a': 0.9503807578380661, 'b': 0.9162014981172925, 'c': 0.16740104789587038, 'd': 0.0037519174541722333}. Best is trial 44 with value: 0.09520934728275059.\u001b[0m\n",
      "\u001b[32m[I 2023-03-19 01:08:43,646]\u001b[0m Trial 82 finished with value: 0.1057839323092537 and parameters: {'a': 0.9263135633213588, 'b': 0.9222695270706738, 'c': 0.1380038449504261, 'd': 0.018212497705702754}. Best is trial 44 with value: 0.09520934728275059.\u001b[0m\n",
      "\u001b[32m[I 2023-03-19 01:09:08,646]\u001b[0m Trial 83 finished with value: 0.11798908470777097 and parameters: {'a': 0.9502674848806684, 'b': 0.9747424371650716, 'c': 0.17018152020424177, 'd': 0.05489565107631873}. Best is trial 44 with value: 0.09520934728275059.\u001b[0m\n",
      "\u001b[32m[I 2023-03-19 01:09:33,513]\u001b[0m Trial 84 finished with value: 0.1411813046468628 and parameters: {'a': 0.9151273733217068, 'b': 0.8978662786134161, 'c': 0.19729452603882147, 'd': 0.10494847303722131}. Best is trial 44 with value: 0.09520934728275059.\u001b[0m\n",
      "\u001b[32m[I 2023-03-19 01:09:58,429]\u001b[0m Trial 85 finished with value: 0.09495927424185414 and parameters: {'a': 0.9901188125676454, 'b': 0.8847734283967141, 'c': 0.2877127294293247, 'd': 0.00020151278788621356}. Best is trial 85 with value: 0.09495927424185414.\u001b[0m\n",
      "\u001b[32m[I 2023-03-19 01:10:23,227]\u001b[0m Trial 86 finished with value: 0.14380636261925275 and parameters: {'a': 0.9944047763780031, 'b': 0.8783133657217673, 'c': 0.2851750151892464, 'd': 0.12881090893657965}. Best is trial 85 with value: 0.09495927424185414.\u001b[0m\n",
      "\u001b[32m[I 2023-03-19 01:10:48,289]\u001b[0m Trial 87 finished with value: 0.10643959327703612 and parameters: {'a': 0.9657678913603442, 'b': 0.9076845285785676, 'c': 0.37402056996570726, 'd': 0.03379161013461621}. Best is trial 85 with value: 0.09495927424185414.\u001b[0m\n",
      "\u001b[32m[I 2023-03-19 01:11:13,174]\u001b[0m Trial 88 finished with value: 0.12365748512497458 and parameters: {'a': 0.9774207686877148, 'b': 0.8587680688875335, 'c': 0.3319139807001769, 'd': 0.0760739636239485}. Best is trial 85 with value: 0.09495927424185414.\u001b[0m\n",
      "\u001b[32m[I 2023-03-19 01:11:38,269]\u001b[0m Trial 89 finished with value: 0.10451947370634963 and parameters: {'a': 0.9315323855412572, 'b': 0.9515927071243422, 'c': 0.25688277193374465, 'd': 0.02278530078103988}. Best is trial 85 with value: 0.09495927424185414.\u001b[0m\n",
      "\u001b[32m[I 2023-03-19 01:12:03,200]\u001b[0m Trial 90 finished with value: 0.12941701794416494 and parameters: {'a': 0.9838239174081028, 'b': 0.9881876804934097, 'c': 0.30512957962310605, 'd': 0.09923979054325442}. Best is trial 85 with value: 0.09495927424185414.\u001b[0m\n",
      "\u001b[32m[I 2023-03-19 01:12:28,338]\u001b[0m Trial 91 finished with value: 0.09697030234561818 and parameters: {'a': 0.9564703076865206, 'b': 0.9189926165145168, 'c': 0.23159445566920236, 'd': 0.0005996955318028725}. Best is trial 85 with value: 0.09495927424185414.\u001b[0m\n",
      "\u001b[32m[I 2023-03-19 01:12:53,322]\u001b[0m Trial 92 finished with value: 0.10626613192168445 and parameters: {'a': 0.9701076564652839, 'b': 0.9364603078659556, 'c': 0.22021372412256512, 'd': 0.027605523316575516}. Best is trial 85 with value: 0.09495927424185414.\u001b[0m\n",
      "\u001b[32m[I 2023-03-19 01:13:18,334]\u001b[0m Trial 93 finished with value: 0.11696474548107628 and parameters: {'a': 0.9398702220050987, 'b': 0.88850323163301, 'c': 0.26390730899165105, 'd': 0.050912086009022466}. Best is trial 85 with value: 0.09495927424185414.\u001b[0m\n",
      "\u001b[32m[I 2023-03-19 01:13:43,479]\u001b[0m Trial 94 finished with value: 0.0976045288114658 and parameters: {'a': 0.9086394896291393, 'b': 0.909610029367812, 'c': 0.23611269221155506, 'd': 8.13735997930138e-05}. Best is trial 85 with value: 0.09495927424185414.\u001b[0m\n",
      "\u001b[32m[I 2023-03-19 01:14:08,357]\u001b[0m Trial 95 finished with value: 0.1144786086926199 and parameters: {'a': 0.9870595266305313, 'b': 0.9656114470884839, 'c': 0.2835980549171355, 'd': 0.0554763019948446}. Best is trial 85 with value: 0.09495927424185414.\u001b[0m\n",
      "\u001b[32m[I 2023-03-19 01:14:33,200]\u001b[0m Trial 96 finished with value: 0.10443414425139941 and parameters: {'a': 0.9581983170749745, 'b': 0.9455868855932292, 'c': 0.20482781605021727, 'd': 0.021163197194735667}. Best is trial 85 with value: 0.09495927424185414.\u001b[0m\n",
      "\u001b[32m[I 2023-03-19 01:14:58,273]\u001b[0m Trial 97 finished with value: 0.12799690083665557 and parameters: {'a': 0.8608474361747919, 'b': 0.8820102916372506, 'c': 0.3204766516547514, 'd': 0.07529206652270735}. Best is trial 85 with value: 0.09495927424185414.\u001b[0m\n",
      "\u001b[32m[I 2023-03-19 01:15:23,339]\u001b[0m Trial 98 finished with value: 0.14225500936320537 and parameters: {'a': 0.970594918452863, 'b': 0.9267977388162398, 'c': 0.24384127224056867, 'd': 0.12119342875693863}. Best is trial 85 with value: 0.09495927424185414.\u001b[0m\n",
      "\u001b[32m[I 2023-03-19 01:15:48,189]\u001b[0m Trial 99 finished with value: 0.11940887801442308 and parameters: {'a': 0.9336506980442768, 'b': 0.8962787473643823, 'c': 0.14829916606251392, 'd': 0.05070405444068638}. Best is trial 85 with value: 0.09495927424185414.\u001b[0m\n",
      "\u001b[32m[I 2023-03-19 01:16:13,183]\u001b[0m Trial 100 finished with value: 0.10320514877420948 and parameters: {'a': 0.9949296554861999, 'b': 0.97829965406814, 'c': 0.18722720973774953, 'd': 0.021986167351862693}. Best is trial 85 with value: 0.09495927424185414.\u001b[0m\n",
      "\u001b[32m[I 2023-03-19 01:16:38,396]\u001b[0m Trial 101 finished with value: 0.10544840070613282 and parameters: {'a': 0.9205377952337028, 'b': 0.9087020873760524, 'c': 0.2291937352196162, 'd': 0.020477054401484313}. Best is trial 85 with value: 0.09495927424185414.\u001b[0m\n",
      "\u001b[32m[I 2023-03-19 01:17:03,295]\u001b[0m Trial 102 finished with value: 0.09808124441378933 and parameters: {'a': 0.9065230515630026, 'b': 0.9126015742376402, 'c': 0.2500705716955556, 'd': 0.0014048797824526154}. Best is trial 85 with value: 0.09495927424185414.\u001b[0m\n",
      "\u001b[32m[I 2023-03-19 01:17:28,238]\u001b[0m Trial 103 finished with value: 0.1104792513804827 and parameters: {'a': 0.9456567047602111, 'b': 0.9339149068654933, 'c': 0.28760253909511285, 'd': 0.040913883885830574}. Best is trial 85 with value: 0.09495927424185414.\u001b[0m\n",
      "\u001b[32m[I 2023-03-19 01:17:53,177]\u001b[0m Trial 104 finished with value: 0.13581827197639287 and parameters: {'a': 0.884047807374179, 'b': 0.959565016768008, 'c': 0.2240219625293045, 'd': 0.0958713993114239}. Best is trial 85 with value: 0.09495927424185414.\u001b[0m\n",
      "\u001b[32m[I 2023-03-19 01:18:17,975]\u001b[0m Trial 105 finished with value: 0.12381274292860019 and parameters: {'a': 0.9123729245975437, 'b': 0.8693421232195016, 'c': 0.3479564618816405, 'd': 0.07161844597594043}. Best is trial 85 with value: 0.09495927424185414.\u001b[0m\n",
      "\u001b[32m[I 2023-03-19 01:18:43,088]\u001b[0m Trial 106 finished with value: 0.09637389515413275 and parameters: {'a': 0.9604686275283204, 'b': 0.8969838635515168, 'c': 0.26871977501792627, 'd': 0.0002675685207238613}. Best is trial 85 with value: 0.09495927424185414.\u001b[0m\n",
      "\u001b[32m[I 2023-03-19 01:19:07,858]\u001b[0m Trial 107 finished with value: 0.11313436261338027 and parameters: {'a': 0.9626131459891035, 'b': 0.8940687455175598, 'c': 0.2737954569981543, 'd': 0.04436614522800865}. Best is trial 85 with value: 0.09495927424185414.\u001b[0m\n",
      "\u001b[32m[I 2023-03-19 01:19:32,856]\u001b[0m Trial 108 finished with value: 0.10074338521345844 and parameters: {'a': 0.9506267414823761, 'b': 0.9496336242871418, 'c': 0.31462285595256306, 'd': 0.01720907372467243}. Best is trial 85 with value: 0.09495927424185414.\u001b[0m\n",
      "\u001b[32m[I 2023-03-19 01:19:57,627]\u001b[0m Trial 109 finished with value: 0.12185005617679207 and parameters: {'a': 0.9780907022453982, 'b': 0.9260778925529528, 'c': 0.20492788070038293, 'd': 0.0658449375714863}. Best is trial 85 with value: 0.09495927424185414.\u001b[0m\n",
      "\u001b[32m[I 2023-03-19 01:20:22,541]\u001b[0m Trial 110 finished with value: 0.1289332322097409 and parameters: {'a': 0.9338476462487068, 'b': 0.8827612735017372, 'c': 0.36454731777997684, 'd': 0.0894514966392611}. Best is trial 85 with value: 0.09495927424185414.\u001b[0m\n",
      "\u001b[32m[I 2023-03-19 01:20:47,601]\u001b[0m Trial 111 finished with value: 0.10322992038802505 and parameters: {'a': 0.9258803858433446, 'b': 0.9025047870983418, 'c': 0.25391900026847014, 'd': 0.015765941678375424}. Best is trial 85 with value: 0.09495927424185414.\u001b[0m\n",
      "\u001b[32m[I 2023-03-19 01:21:12,507]\u001b[0m Trial 112 finished with value: 0.0950388907905097 and parameters: {'a': 0.9594308712538091, 'b': 0.9183281285985114, 'c': 0.2982350067436544, 'd': 0.0003112100638859704}. Best is trial 85 with value: 0.09495927424185414.\u001b[0m\n",
      "\u001b[32m[I 2023-03-19 01:21:37,619]\u001b[0m Trial 113 finished with value: 0.10981458916995346 and parameters: {'a': 0.9585940662349889, 'b': 0.9401198676115557, 'c': 0.29828276610746046, 'd': 0.040757771705461125}. Best is trial 85 with value: 0.09495927424185414.\u001b[0m\n",
      "\u001b[32m[I 2023-03-19 01:22:02,464]\u001b[0m Trial 114 finished with value: 0.09514486224012542 and parameters: {'a': 0.9729530910306281, 'b': 0.9164593454750211, 'c': 0.33615318323421545, 'd': 0.0016934343020610608}. Best is trial 85 with value: 0.09495927424185414.\u001b[0m\n",
      "\u001b[32m[I 2023-03-19 01:22:27,555]\u001b[0m Trial 115 finished with value: 0.10685867317548176 and parameters: {'a': 0.9990403927729196, 'b': 0.9694338358377853, 'c': 0.331714230123507, 'd': 0.03892788303601028}. Best is trial 85 with value: 0.09495927424185414.\u001b[0m\n",
      "\u001b[32m[I 2023-03-19 01:22:52,466]\u001b[0m Trial 116 finished with value: 0.10325327796339892 and parameters: {'a': 0.9728364638298693, 'b': 0.9326907600343094, 'c': 0.27005421675784064, 'd': 0.02234803435327991}. Best is trial 85 with value: 0.09495927424185414.\u001b[0m\n",
      "\u001b[32m[I 2023-03-19 01:23:17,246]\u001b[0m Trial 117 finished with value: 0.11375309450164997 and parameters: {'a': 0.9884258384234732, 'b': 0.9183144739457884, 'c': 0.3817219625383775, 'd': 0.05788749777636288}. Best is trial 85 with value: 0.09495927424185414.\u001b[0m\n",
      "\u001b[32m[I 2023-03-19 01:23:42,386]\u001b[0m Trial 118 finished with value: 0.11967646411734201 and parameters: {'a': 0.9781799509547995, 'b': 0.9576334638876378, 'c': 0.4138472702626106, 'd': 0.07805595661724256}. Best is trial 85 with value: 0.09495927424185414.\u001b[0m\n",
      "\u001b[32m[I 2023-03-19 01:24:07,354]\u001b[0m Trial 119 finished with value: 0.10154981454288124 and parameters: {'a': 0.9661381676590066, 'b': 0.8957439141398363, 'c': 0.35853011705824656, 'd': 0.019274093450521564}. Best is trial 85 with value: 0.09495927424185414.\u001b[0m\n",
      "\u001b[32m[I 2023-03-19 01:24:32,548]\u001b[0m Trial 120 finished with value: 0.1325550164302835 and parameters: {'a': 0.9893566584994449, 'b': 0.9441826855259774, 'c': 0.33870277970009754, 'd': 0.10674293597195618}. Best is trial 85 with value: 0.09495927424185414.\u001b[0m\n",
      "\u001b[32m[I 2023-03-19 01:24:57,276]\u001b[0m Trial 121 finished with value: 0.09807693813426144 and parameters: {'a': 0.9403805801558417, 'b': 0.9177881029814998, 'c': 0.29372855007925325, 'd': 0.006232968299543616}. Best is trial 85 with value: 0.09495927424185414.\u001b[0m\n",
      "\u001b[32m[I 2023-03-19 01:25:22,218]\u001b[0m Trial 122 finished with value: 0.11287221382221399 and parameters: {'a': 0.9559771676345288, 'b': 0.8643846383729866, 'c': 0.3117965799799223, 'd': 0.04398314433049421}. Best is trial 85 with value: 0.09495927424185414.\u001b[0m\n",
      "\u001b[32m[I 2023-03-19 01:25:47,030]\u001b[0m Trial 123 finished with value: 0.09698736638146604 and parameters: {'a': 0.9507019622605145, 'b': 0.8862756963880412, 'c': 0.2695433830897022, 'd': 0.0009821575628235477}. Best is trial 85 with value: 0.09495927424185414.\u001b[0m\n",
      "\u001b[32m[I 2023-03-19 01:26:12,181]\u001b[0m Trial 124 finished with value: 0.10808665256185797 and parameters: {'a': 0.9767421096890557, 'b': 0.8806701342554295, 'c': 0.2568760441583687, 'd': 0.031134084304924328}. Best is trial 85 with value: 0.09495927424185414.\u001b[0m\n",
      "\u001b[32m[I 2023-03-19 01:26:37,235]\u001b[0m Trial 125 finished with value: 0.11986374927172622 and parameters: {'a': 0.962011537183708, 'b': 0.8522089597574877, 'c': 0.27602784273872616, 'd': 0.059491697588392296}. Best is trial 85 with value: 0.09495927424185414.\u001b[0m\n",
      "\u001b[32m[I 2023-03-19 01:27:02,191]\u001b[0m Trial 126 finished with value: 0.0948034911714299 and parameters: {'a': 0.999831801556113, 'b': 0.9037009861574751, 'c': 0.29710394059359513, 'd': 0.0009608348215198548}. Best is trial 126 with value: 0.0948034911714299.\u001b[0m\n",
      "\u001b[32m[I 2023-03-19 01:27:27,058]\u001b[0m Trial 127 finished with value: 0.10511790495886046 and parameters: {'a': 0.9850167468099718, 'b': 0.9027475859011624, 'c': 0.21519460832598652, 'd': 0.023551499772416624}. Best is trial 126 with value: 0.0948034911714299.\u001b[0m\n",
      "\u001b[32m[I 2023-03-19 01:27:51,892]\u001b[0m Trial 128 finished with value: 0.09439668600642485 and parameters: {'a': 0.9988176363701954, 'b': 0.9331494520585308, 'c': 0.2930840889233804, 'd': 5.371954926481682e-05}. Best is trial 128 with value: 0.09439668600642485.\u001b[0m\n",
      "\u001b[32m[I 2023-03-19 01:28:16,669]\u001b[0m Trial 129 finished with value: 0.0956254324229521 and parameters: {'a': 0.9969363126777935, 'b': 0.8710944943610833, 'c': 0.29780980065843815, 'd': 0.002120477896416219}. Best is trial 128 with value: 0.09439668600642485.\u001b[0m\n",
      "\u001b[32m[I 2023-03-19 01:28:41,750]\u001b[0m Trial 130 finished with value: 0.09514543654089123 and parameters: {'a': 0.9822250978805526, 'b': 0.869871559345702, 'c': 0.3441790275805526, 'd': 0.0013292114804820498}. Best is trial 128 with value: 0.09439668600642485.\u001b[0m\n",
      "\u001b[32m[I 2023-03-19 01:29:06,594]\u001b[0m Trial 131 finished with value: 0.09516519337031003 and parameters: {'a': 0.9926155958597369, 'b': 0.8736484963429346, 'c': 0.3474484861641589, 'd': 0.0016504899872117633}. Best is trial 128 with value: 0.09439668600642485.\u001b[0m\n",
      "\u001b[32m[I 2023-03-19 01:29:31,646]\u001b[0m Trial 132 finished with value: 0.11156525275844362 and parameters: {'a': 0.9959127642889151, 'b': 0.872459658887892, 'c': 0.35625832028417126, 'd': 0.0467341470209988}. Best is trial 128 with value: 0.09439668600642485.\u001b[0m\n",
      "\u001b[32m[I 2023-03-19 01:29:56,536]\u001b[0m Trial 133 finished with value: 0.1044593668788335 and parameters: {'a': 0.9839613744366099, 'b': 0.8406474497700626, 'c': 0.3355034430816341, 'd': 0.025395765174856772}. Best is trial 128 with value: 0.09439668600642485.\u001b[0m\n",
      "\u001b[32m[I 2023-03-19 01:30:21,567]\u001b[0m Trial 134 finished with value: 0.12087226960620152 and parameters: {'a': 0.9974822503060231, 'b': 0.8552055363423294, 'c': 0.3977791993067143, 'd': 0.0732374555696548}. Best is trial 128 with value: 0.09439668600642485.\u001b[0m\n",
      "\u001b[32m[I 2023-03-19 01:30:46,419]\u001b[0m Trial 135 finished with value: 0.11068050637043239 and parameters: {'a': 0.9756749038074745, 'b': 0.863513056777621, 'c': 0.29070629330141706, 'd': 0.03797510553365364}. Best is trial 128 with value: 0.09439668600642485.\u001b[0m\n",
      "\u001b[32m[I 2023-03-19 01:31:11,777]\u001b[0m Trial 136 finished with value: 0.10088877600433338 and parameters: {'a': 0.9845675632356838, 'b': 0.8740665925059092, 'c': 0.3163332628337774, 'd': 0.017057064581058896}. Best is trial 128 with value: 0.09439668600642485.\u001b[0m\n",
      "\u001b[32m[I 2023-03-19 01:31:36,869]\u001b[0m Trial 137 finished with value: 0.09536252212798409 and parameters: {'a': 0.99819207484919, 'b': 0.8331586370609821, 'c': 0.3454726378275158, 'd': 0.0011257447546527512}. Best is trial 128 with value: 0.09439668600642485.\u001b[0m\n",
      "\u001b[32m[I 2023-03-19 01:32:01,776]\u001b[0m Trial 138 finished with value: 0.11500520173403679 and parameters: {'a': 0.9915588549400558, 'b': 0.8388818807088633, 'c': 0.3703928802822814, 'd': 0.05436064095388352}. Best is trial 128 with value: 0.09439668600642485.\u001b[0m\n",
      "\u001b[32m[I 2023-03-19 01:32:26,696]\u001b[0m Trial 139 finished with value: 0.09538958883338207 and parameters: {'a': 0.9987997014636644, 'b': 0.8214560784976673, 'c': 0.3501908823394186, 'd': 0.0010879431150155143}. Best is trial 128 with value: 0.09439668600642485.\u001b[0m\n",
      "\u001b[32m[I 2023-03-19 01:32:51,696]\u001b[0m Trial 140 finished with value: 0.12585488950074872 and parameters: {'a': 0.9997298217398762, 'b': 0.818944868353187, 'c': 0.342458385731169, 'd': 0.08156993933251849}. Best is trial 128 with value: 0.09439668600642485.\u001b[0m\n",
      "\u001b[32m[I 2023-03-19 01:33:16,702]\u001b[0m Trial 141 finished with value: 0.09643434649958471 and parameters: {'a': 0.9879467896436847, 'b': 0.8185882269913789, 'c': 0.30989134487205866, 'd': 0.0001684753062467382}. Best is trial 128 with value: 0.09439668600642485.\u001b[0m\n",
      "\u001b[32m[I 2023-03-19 01:33:41,769]\u001b[0m Trial 142 finished with value: 0.10614159707895986 and parameters: {'a': 0.9996335252158339, 'b': 0.8317667415634065, 'c': 0.31277266722480745, 'd': 0.028465340204915535}. Best is trial 128 with value: 0.09439668600642485.\u001b[0m\n",
      "\u001b[32m[I 2023-03-19 01:34:06,745]\u001b[0m Trial 143 finished with value: 0.10291641257665086 and parameters: {'a': 0.9854667771219057, 'b': 0.8444178030524667, 'c': 0.3734148916280389, 'd': 0.021981259009001226}. Best is trial 128 with value: 0.09439668600642485.\u001b[0m\n",
      "\u001b[32m[I 2023-03-19 01:34:31,534]\u001b[0m Trial 144 finished with value: 0.1122620745745874 and parameters: {'a': 0.9700972377324083, 'b': 0.8196577301661127, 'c': 0.40227458777150105, 'd': 0.046386531203227534}. Best is trial 128 with value: 0.09439668600642485.\u001b[0m\n",
      "\u001b[32m[I 2023-03-19 01:34:56,389]\u001b[0m Trial 145 finished with value: 0.09576529040520063 and parameters: {'a': 0.9791539664214707, 'b': 0.8549464767924488, 'c': 0.43422128612084493, 'd': 0.005229587983841988}. Best is trial 128 with value: 0.09439668600642485.\u001b[0m\n",
      "\u001b[32m[I 2023-03-19 01:35:21,452]\u001b[0m Trial 146 finished with value: 0.1163733816790207 and parameters: {'a': 0.9786673373883614, 'b': 0.8738844540276055, 'c': 0.42108761328762434, 'd': 0.06287723005027522}. Best is trial 128 with value: 0.09439668600642485.\u001b[0m\n",
      "\u001b[32m[I 2023-03-19 01:35:46,347]\u001b[0m Trial 147 finished with value: 0.0944082284147691 and parameters: {'a': 0.9663940064617959, 'b': 0.8625841124569466, 'c': 0.4315833172331015, 'd': 0.0003584658490170076}. Best is trial 128 with value: 0.09439668600642485.\u001b[0m\n",
      "\u001b[32m[I 2023-03-19 01:36:11,318]\u001b[0m Trial 148 finished with value: 0.10739721203539256 and parameters: {'a': 0.9701337305198569, 'b': 0.849328717880069, 'c': 0.38858675953541366, 'd': 0.03394378957812854}. Best is trial 128 with value: 0.09439668600642485.\u001b[0m\n",
      "\u001b[32m[I 2023-03-19 01:36:36,825]\u001b[0m Trial 149 finished with value: 0.1455240797522629 and parameters: {'a': 0.990829654784108, 'b': 0.8580290495485917, 'c': 0.44878911098244484, 'd': 0.14638837533402912}. Best is trial 128 with value: 0.09439668600642485.\u001b[0m\n"
     ]
    },
    {
     "data": {
      "text/plain": [
       "{'a': 0.9988176363701954,\n",
       " 'b': 0.9331494520585308,\n",
       " 'c': 0.2930840889233804,\n",
       " 'd': 5.371954926481682e-05}"
      ]
     },
     "execution_count": 78,
     "metadata": {},
     "output_type": "execute_result"
    }
   ],
   "source": [
    "study.optimize(coef_objective, n_trials=150)\n",
    "coef_dict = study.best_params\n",
    "coef_dict"
   ]
  },
  {
   "cell_type": "code",
   "execution_count": 79,
   "metadata": {},
   "outputs": [],
   "source": [
    "predXB = np.average(np.array(predsXB),axis=0)\n",
    "predLB = np.average(np.array(predsLB),axis=0)\n",
    "predLR = np.average(np.array(predsLR),axis=0)\n",
    "predR = np.average(np.array(predsR),axis=0)\n",
    "\n",
    "pred = (predXB * coef_dict['a'] + predLB * coef_dict['b'] + predLR * coef_dict['c'] + predR * coef_dict['d']) / (coef_dict['a'] + coef_dict['b'] + coef_dict['c'] + coef_dict['d'])"
   ]
  },
  {
   "cell_type": "code",
   "execution_count": 80,
   "metadata": {},
   "outputs": [],
   "source": [
    "submission = pd.read_csv(os.path.join(CFG.DATA_PATH, 'sample_submission.csv'))\n",
    "submission['Class'] = pred\n",
    "submission.to_csv(\n",
    "    os.path.join(CFG.BASE_PATH, 'submissions', f'XG-LGB-LR-R_PCA-{datetime.datetime.strftime(datetime.datetime.now(), \"%m-%d_%H-%M\")}.csv'),\n",
    "    index=False)"
   ]
  },
  {
   "cell_type": "code",
   "execution_count": 81,
   "metadata": {},
   "outputs": [
    {
     "data": {
      "image/png": "[encoded data removed]",
      "text/plain": [
       "<Figure size 1000x500 with 1 Axes>"
      ]
     },
     "metadata": {},
     "output_type": "display_data"
    }
   ],
   "source": [
    "fig, ax = plt.subplots(figsize=(10, 5))\n",
    "sns.histplot(pred, bins=500, color=palette[1], ax=ax)\n",
    "ax.spines['top'].set_visible(False)\n",
    "ax.spines['right'].set_visible(False)\n",
    "ax.xaxis.grid(False)\n",
    "ax.yaxis.grid(True)"
   ]
  },
  {
   "cell_type": "code",
   "execution_count": null,
   "metadata": {},
   "outputs": [],
   "source": []
  }
 ],
 "metadata": {
  "kernelspec": {
   "display_name": "kaggle",
   "language": "python",
   "name": "python3"
  },
  "language_info": {
   "codemirror_mode": {
    "name": "ipython",
    "version": 3
   },
   "file_extension": ".py",
   "mimetype": "text/x-python",
   "name": "python",
   "nbconvert_exporter": "python",
   "pygments_lexer": "ipython3",
   "version": "3.10.9"
  },
  "orig_nbformat": 4
 },
 "nbformat": 4,
 "nbformat_minor": 2
}
