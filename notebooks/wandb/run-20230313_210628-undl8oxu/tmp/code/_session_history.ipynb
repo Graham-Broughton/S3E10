{
 "cells": [
  {
   "cell_type": "code",
   "execution_count": 1,
   "id": "b400df6b",
   "metadata": {},
   "outputs": [],
   "source": [
    "import pandas as pd\n",
    "import numpy as np\n",
    "import matplotlib.pyplot as plt\n",
    "import seaborn as sns\n",
    "%matplotlib inline\n",
    "\n",
    "from pycaret.classification import *\n",
    "from sklearn.model_selection import RepeatedStratifiedKFold\n",
    "\n",
    "import wandb\n",
    "\n",
    "import os\n",
    "import sys\n",
    "sys.path.append('..')\n",
    "from config import CFG\n",
    "CFG = CFG()\n",
    "pd.options.display.float_format = '{:,.2f}'.format\n",
    "pd.set_option('display.max_columns', CFG.NCOLS)\n",
    "pd.set_option('display.max_rows', CFG.NROWS)"
   ]
  },
  {
   "cell_type": "code",
   "execution_count": 2,
   "id": "18230dba",
   "metadata": {},
   "outputs": [],
   "source": [
    "train = pd.read_csv(os.path.join(CFG.RAW_DATA, 'train.csv')).drop(columns='id')\n",
    "test = pd.read_csv(os.path.join(CFG.RAW_DATA, 'test.csv')).drop(columns='id')"
   ]
  },
  {
   "cell_type": "code",
   "execution_count": 3,
   "id": "dcd81740",
   "metadata": {},
   "outputs": [
    {
     "name": "stdout",
     "output_type": "stream",
     "text": [
      "<wandb.sdk.wandb_run.Run at 0x7f18143f9ca0>"
     ]
    },
    {
     "data": {
      "text/html": [
       "Tracking run with wandb version 0.13.11"
      ],
      "text/plain": [
       "<IPython.core.display.HTML object>"
      ]
     },
     "metadata": {},
     "output_type": "display_data"
    },
    {
     "data": {
      "text/html": [
       "Run data is saved locally in <code>/home/broug/Desktop/S3E10/notebooks/wandb/run-20230313_210628-undl8oxu</code>"
      ],
      "text/plain": [
       "<IPython.core.display.HTML object>"
      ]
     },
     "metadata": {},
     "output_type": "display_data"
    },
    {
     "data": {
      "text/html": [
       "Syncing run <strong><a href='https://wandb.ai/g-broughton/S3E10/runs/undl8oxu' target=\"_blank\">kind-pine-7</a></strong> to <a href='https://wandb.ai/g-broughton/S3E10' target=\"_blank\">Weights & Biases</a> (<a href='https://wandb.me/run' target=\"_blank\">docs</a>)<br/>"
      ],
      "text/plain": [
       "<IPython.core.display.HTML object>"
      ]
     },
     "metadata": {},
     "output_type": "display_data"
    },
    {
     "data": {
      "text/html": [
       " View project at <a href='https://wandb.ai/g-broughton/S3E10' target=\"_blank\">https://wandb.ai/g-broughton/S3E10</a>"
      ],
      "text/plain": [
       "<IPython.core.display.HTML object>"
      ]
     },
     "metadata": {},
     "output_type": "display_data"
    },
    {
     "data": {
      "text/html": [
       " View run at <a href='https://wandb.ai/g-broughton/S3E10/runs/undl8oxu' target=\"_blank\">https://wandb.ai/g-broughton/S3E10/runs/undl8oxu</a>"
      ],
      "text/plain": [
       "<IPython.core.display.HTML object>"
      ]
     },
     "metadata": {},
     "output_type": "display_data"
    }
   ],
   "source": [
    "wandb.init(project='S3E10')"
   ]
  },
  {
   "cell_type": "code",
   "execution_count": 4,
   "id": "71bcdce4",
   "metadata": {},
   "outputs": [
    {
     "data": {
      "text/html": [],
      "text/plain": [
       "<IPython.core.display.HTML object>"
      ]
     },
     "metadata": {},
     "output_type": "display_data"
    },
    {
     "data": {
      "text/html": [
       "<style type=\"text/css\">\n",
       "#T_3e1ec_row8_col1, #T_3e1ec_row12_col1 {\n",
       "  background-color: lightgreen;\n",
       "}\n",
       "</style>\n",
       "<table id=\"T_3e1ec\">\n",
       "  <thead>\n",
       "    <tr>\n",
       "      <th class=\"blank level0\" >&nbsp;</th>\n",
       "      <th id=\"T_3e1ec_level0_col0\" class=\"col_heading level0 col0\" >Description</th>\n",
       "      <th id=\"T_3e1ec_level0_col1\" class=\"col_heading level0 col1\" >Value</th>\n",
       "    </tr>\n",
       "  </thead>\n",
       "  <tbody>\n",
       "    <tr>\n",
       "      <th id=\"T_3e1ec_level0_row0\" class=\"row_heading level0 row0\" >0</th>\n",
       "      <td id=\"T_3e1ec_row0_col0\" class=\"data row0 col0\" >Session id</td>\n",
       "      <td id=\"T_3e1ec_row0_col1\" class=\"data row0 col1\" >8418</td>\n",
       "    </tr>\n",
       "    <tr>\n",
       "      <th id=\"T_3e1ec_level0_row1\" class=\"row_heading level0 row1\" >1</th>\n",
       "      <td id=\"T_3e1ec_row1_col0\" class=\"data row1 col0\" >Target</td>\n",
       "      <td id=\"T_3e1ec_row1_col1\" class=\"data row1 col1\" >Class</td>\n",
       "    </tr>\n",
       "    <tr>\n",
       "      <th id=\"T_3e1ec_level0_row2\" class=\"row_heading level0 row2\" >2</th>\n",
       "      <td id=\"T_3e1ec_row2_col0\" class=\"data row2 col0\" >Target type</td>\n",
       "      <td id=\"T_3e1ec_row2_col1\" class=\"data row2 col1\" >Binary</td>\n",
       "    </tr>\n",
       "    <tr>\n",
       "      <th id=\"T_3e1ec_level0_row3\" class=\"row_heading level0 row3\" >3</th>\n",
       "      <td id=\"T_3e1ec_row3_col0\" class=\"data row3 col0\" >Original data shape</td>\n",
       "      <td id=\"T_3e1ec_row3_col1\" class=\"data row3 col1\" >(117564, 9)</td>\n",
       "    </tr>\n",
       "    <tr>\n",
       "      <th id=\"T_3e1ec_level0_row4\" class=\"row_heading level0 row4\" >4</th>\n",
       "      <td id=\"T_3e1ec_row4_col0\" class=\"data row4 col0\" >Transformed data shape</td>\n",
       "      <td id=\"T_3e1ec_row4_col1\" class=\"data row4 col1\" >(117564, 165)</td>\n",
       "    </tr>\n",
       "    <tr>\n",
       "      <th id=\"T_3e1ec_level0_row5\" class=\"row_heading level0 row5\" >5</th>\n",
       "      <td id=\"T_3e1ec_row5_col0\" class=\"data row5 col0\" >Transformed train set shape</td>\n",
       "      <td id=\"T_3e1ec_row5_col1\" class=\"data row5 col1\" >(82294, 165)</td>\n",
       "    </tr>\n",
       "    <tr>\n",
       "      <th id=\"T_3e1ec_level0_row6\" class=\"row_heading level0 row6\" >6</th>\n",
       "      <td id=\"T_3e1ec_row6_col0\" class=\"data row6 col0\" >Transformed test set shape</td>\n",
       "      <td id=\"T_3e1ec_row6_col1\" class=\"data row6 col1\" >(35270, 165)</td>\n",
       "    </tr>\n",
       "    <tr>\n",
       "      <th id=\"T_3e1ec_level0_row7\" class=\"row_heading level0 row7\" >7</th>\n",
       "      <td id=\"T_3e1ec_row7_col0\" class=\"data row7 col0\" >Numeric features</td>\n",
       "      <td id=\"T_3e1ec_row7_col1\" class=\"data row7 col1\" >8</td>\n",
       "    </tr>\n",
       "    <tr>\n",
       "      <th id=\"T_3e1ec_level0_row8\" class=\"row_heading level0 row8\" >8</th>\n",
       "      <td id=\"T_3e1ec_row8_col0\" class=\"data row8 col0\" >Preprocess</td>\n",
       "      <td id=\"T_3e1ec_row8_col1\" class=\"data row8 col1\" >True</td>\n",
       "    </tr>\n",
       "    <tr>\n",
       "      <th id=\"T_3e1ec_level0_row9\" class=\"row_heading level0 row9\" >9</th>\n",
       "      <td id=\"T_3e1ec_row9_col0\" class=\"data row9 col0\" >Imputation type</td>\n",
       "      <td id=\"T_3e1ec_row9_col1\" class=\"data row9 col1\" >simple</td>\n",
       "    </tr>\n",
       "    <tr>\n",
       "      <th id=\"T_3e1ec_level0_row10\" class=\"row_heading level0 row10\" >10</th>\n",
       "      <td id=\"T_3e1ec_row10_col0\" class=\"data row10 col0\" >Numeric imputation</td>\n",
       "      <td id=\"T_3e1ec_row10_col1\" class=\"data row10 col1\" >mean</td>\n",
       "    </tr>\n",
       "    <tr>\n",
       "      <th id=\"T_3e1ec_level0_row11\" class=\"row_heading level0 row11\" >11</th>\n",
       "      <td id=\"T_3e1ec_row11_col0\" class=\"data row11 col0\" >Categorical imputation</td>\n",
       "      <td id=\"T_3e1ec_row11_col1\" class=\"data row11 col1\" >mode</td>\n",
       "    </tr>\n",
       "    <tr>\n",
       "      <th id=\"T_3e1ec_level0_row12\" class=\"row_heading level0 row12\" >12</th>\n",
       "      <td id=\"T_3e1ec_row12_col0\" class=\"data row12 col0\" >Polynomial features</td>\n",
       "      <td id=\"T_3e1ec_row12_col1\" class=\"data row12 col1\" >True</td>\n",
       "    </tr>\n",
       "    <tr>\n",
       "      <th id=\"T_3e1ec_level0_row13\" class=\"row_heading level0 row13\" >13</th>\n",
       "      <td id=\"T_3e1ec_row13_col0\" class=\"data row13 col0\" >Polynomial degree</td>\n",
       "      <td id=\"T_3e1ec_row13_col1\" class=\"data row13 col1\" >3</td>\n",
       "    </tr>\n",
       "    <tr>\n",
       "      <th id=\"T_3e1ec_level0_row14\" class=\"row_heading level0 row14\" >14</th>\n",
       "      <td id=\"T_3e1ec_row14_col0\" class=\"data row14 col0\" >Fold Generator</td>\n",
       "      <td id=\"T_3e1ec_row14_col1\" class=\"data row14 col1\" >RepeatedStratifiedKFold</td>\n",
       "    </tr>\n",
       "    <tr>\n",
       "      <th id=\"T_3e1ec_level0_row15\" class=\"row_heading level0 row15\" >15</th>\n",
       "      <td id=\"T_3e1ec_row15_col0\" class=\"data row15 col0\" >Fold Number</td>\n",
       "      <td id=\"T_3e1ec_row15_col1\" class=\"data row15 col1\" >5</td>\n",
       "    </tr>\n",
       "    <tr>\n",
       "      <th id=\"T_3e1ec_level0_row16\" class=\"row_heading level0 row16\" >16</th>\n",
       "      <td id=\"T_3e1ec_row16_col0\" class=\"data row16 col0\" >CPU Jobs</td>\n",
       "      <td id=\"T_3e1ec_row16_col1\" class=\"data row16 col1\" >-1</td>\n",
       "    </tr>\n",
       "    <tr>\n",
       "      <th id=\"T_3e1ec_level0_row17\" class=\"row_heading level0 row17\" >17</th>\n",
       "      <td id=\"T_3e1ec_row17_col0\" class=\"data row17 col0\" >Use GPU</td>\n",
       "      <td id=\"T_3e1ec_row17_col1\" class=\"data row17 col1\" >False</td>\n",
       "    </tr>\n",
       "    <tr>\n",
       "      <th id=\"T_3e1ec_level0_row18\" class=\"row_heading level0 row18\" >18</th>\n",
       "      <td id=\"T_3e1ec_row18_col0\" class=\"data row18 col0\" >Log Experiment</td>\n",
       "      <td id=\"T_3e1ec_row18_col1\" class=\"data row18 col1\" >WandbLogger</td>\n",
       "    </tr>\n",
       "    <tr>\n",
       "      <th id=\"T_3e1ec_level0_row19\" class=\"row_heading level0 row19\" >19</th>\n",
       "      <td id=\"T_3e1ec_row19_col0\" class=\"data row19 col0\" >Experiment Name</td>\n",
       "      <td id=\"T_3e1ec_row19_col1\" class=\"data row19 col1\" >clf-default-name</td>\n",
       "    </tr>\n",
       "    <tr>\n",
       "      <th id=\"T_3e1ec_level0_row20\" class=\"row_heading level0 row20\" >20</th>\n",
       "      <td id=\"T_3e1ec_row20_col0\" class=\"data row20 col0\" >USI</td>\n",
       "      <td id=\"T_3e1ec_row20_col1\" class=\"data row20 col1\" >573c</td>\n",
       "    </tr>\n",
       "  </tbody>\n",
       "</table>\n"
      ],
      "text/plain": [
       "<pandas.io.formats.style.Styler at 0x7f17c3fc05e0>"
      ]
     },
     "metadata": {},
     "output_type": "display_data"
    }
   ],
   "source": [
    "exp_name = setup(\n",
    "    data=train, target='Class', polynomial_features=True, fold_strategy=RepeatedStratifiedKFold(), \n",
    "    fold=5, log_experiment='wandb', log_plots=True, polynomial_degree=3\n",
    ")"
   ]
  },
  {
   "cell_type": "code",
   "execution_count": 5,
   "id": "5bee5e3c",
   "metadata": {},
   "outputs": [
    {
     "data": {
      "text/html": [],
      "text/plain": [
       "<IPython.core.display.HTML object>"
      ]
     },
     "metadata": {},
     "output_type": "display_data"
    },
    {
     "data": {
      "text/html": [
       "<style type=\"text/css\">\n",
       "#T_c0f8b_row8_col1, #T_c0f8b_row12_col1 {\n",
       "  background-color: lightgreen;\n",
       "}\n",
       "</style>\n",
       "<table id=\"T_c0f8b\">\n",
       "  <thead>\n",
       "    <tr>\n",
       "      <th class=\"blank level0\" >&nbsp;</th>\n",
       "      <th id=\"T_c0f8b_level0_col0\" class=\"col_heading level0 col0\" >Description</th>\n",
       "      <th id=\"T_c0f8b_level0_col1\" class=\"col_heading level0 col1\" >Value</th>\n",
       "    </tr>\n",
       "  </thead>\n",
       "  <tbody>\n",
       "    <tr>\n",
       "      <th id=\"T_c0f8b_level0_row0\" class=\"row_heading level0 row0\" >0</th>\n",
       "      <td id=\"T_c0f8b_row0_col0\" class=\"data row0 col0\" >Session id</td>\n",
       "      <td id=\"T_c0f8b_row0_col1\" class=\"data row0 col1\" >8856</td>\n",
       "    </tr>\n",
       "    <tr>\n",
       "      <th id=\"T_c0f8b_level0_row1\" class=\"row_heading level0 row1\" >1</th>\n",
       "      <td id=\"T_c0f8b_row1_col0\" class=\"data row1 col0\" >Target</td>\n",
       "      <td id=\"T_c0f8b_row1_col1\" class=\"data row1 col1\" >Class</td>\n",
       "    </tr>\n",
       "    <tr>\n",
       "      <th id=\"T_c0f8b_level0_row2\" class=\"row_heading level0 row2\" >2</th>\n",
       "      <td id=\"T_c0f8b_row2_col0\" class=\"data row2 col0\" >Target type</td>\n",
       "      <td id=\"T_c0f8b_row2_col1\" class=\"data row2 col1\" >Binary</td>\n",
       "    </tr>\n",
       "    <tr>\n",
       "      <th id=\"T_c0f8b_level0_row3\" class=\"row_heading level0 row3\" >3</th>\n",
       "      <td id=\"T_c0f8b_row3_col0\" class=\"data row3 col0\" >Original data shape</td>\n",
       "      <td id=\"T_c0f8b_row3_col1\" class=\"data row3 col1\" >(117564, 9)</td>\n",
       "    </tr>\n",
       "    <tr>\n",
       "      <th id=\"T_c0f8b_level0_row4\" class=\"row_heading level0 row4\" >4</th>\n",
       "      <td id=\"T_c0f8b_row4_col0\" class=\"data row4 col0\" >Transformed data shape</td>\n",
       "      <td id=\"T_c0f8b_row4_col1\" class=\"data row4 col1\" >(117564, 165)</td>\n",
       "    </tr>\n",
       "    <tr>\n",
       "      <th id=\"T_c0f8b_level0_row5\" class=\"row_heading level0 row5\" >5</th>\n",
       "      <td id=\"T_c0f8b_row5_col0\" class=\"data row5 col0\" >Transformed train set shape</td>\n",
       "      <td id=\"T_c0f8b_row5_col1\" class=\"data row5 col1\" >(82294, 165)</td>\n",
       "    </tr>\n",
       "    <tr>\n",
       "      <th id=\"T_c0f8b_level0_row6\" class=\"row_heading level0 row6\" >6</th>\n",
       "      <td id=\"T_c0f8b_row6_col0\" class=\"data row6 col0\" >Transformed test set shape</td>\n",
       "      <td id=\"T_c0f8b_row6_col1\" class=\"data row6 col1\" >(35270, 165)</td>\n",
       "    </tr>\n",
       "    <tr>\n",
       "      <th id=\"T_c0f8b_level0_row7\" class=\"row_heading level0 row7\" >7</th>\n",
       "      <td id=\"T_c0f8b_row7_col0\" class=\"data row7 col0\" >Numeric features</td>\n",
       "      <td id=\"T_c0f8b_row7_col1\" class=\"data row7 col1\" >8</td>\n",
       "    </tr>\n",
       "    <tr>\n",
       "      <th id=\"T_c0f8b_level0_row8\" class=\"row_heading level0 row8\" >8</th>\n",
       "      <td id=\"T_c0f8b_row8_col0\" class=\"data row8 col0\" >Preprocess</td>\n",
       "      <td id=\"T_c0f8b_row8_col1\" class=\"data row8 col1\" >True</td>\n",
       "    </tr>\n",
       "    <tr>\n",
       "      <th id=\"T_c0f8b_level0_row9\" class=\"row_heading level0 row9\" >9</th>\n",
       "      <td id=\"T_c0f8b_row9_col0\" class=\"data row9 col0\" >Imputation type</td>\n",
       "      <td id=\"T_c0f8b_row9_col1\" class=\"data row9 col1\" >simple</td>\n",
       "    </tr>\n",
       "    <tr>\n",
       "      <th id=\"T_c0f8b_level0_row10\" class=\"row_heading level0 row10\" >10</th>\n",
       "      <td id=\"T_c0f8b_row10_col0\" class=\"data row10 col0\" >Numeric imputation</td>\n",
       "      <td id=\"T_c0f8b_row10_col1\" class=\"data row10 col1\" >mean</td>\n",
       "    </tr>\n",
       "    <tr>\n",
       "      <th id=\"T_c0f8b_level0_row11\" class=\"row_heading level0 row11\" >11</th>\n",
       "      <td id=\"T_c0f8b_row11_col0\" class=\"data row11 col0\" >Categorical imputation</td>\n",
       "      <td id=\"T_c0f8b_row11_col1\" class=\"data row11 col1\" >mode</td>\n",
       "    </tr>\n",
       "    <tr>\n",
       "      <th id=\"T_c0f8b_level0_row12\" class=\"row_heading level0 row12\" >12</th>\n",
       "      <td id=\"T_c0f8b_row12_col0\" class=\"data row12 col0\" >Polynomial features</td>\n",
       "      <td id=\"T_c0f8b_row12_col1\" class=\"data row12 col1\" >True</td>\n",
       "    </tr>\n",
       "    <tr>\n",
       "      <th id=\"T_c0f8b_level0_row13\" class=\"row_heading level0 row13\" >13</th>\n",
       "      <td id=\"T_c0f8b_row13_col0\" class=\"data row13 col0\" >Polynomial degree</td>\n",
       "      <td id=\"T_c0f8b_row13_col1\" class=\"data row13 col1\" >3</td>\n",
       "    </tr>\n",
       "    <tr>\n",
       "      <th id=\"T_c0f8b_level0_row14\" class=\"row_heading level0 row14\" >14</th>\n",
       "      <td id=\"T_c0f8b_row14_col0\" class=\"data row14 col0\" >Fold Generator</td>\n",
       "      <td id=\"T_c0f8b_row14_col1\" class=\"data row14 col1\" >RepeatedStratifiedKFold</td>\n",
       "    </tr>\n",
       "    <tr>\n",
       "      <th id=\"T_c0f8b_level0_row15\" class=\"row_heading level0 row15\" >15</th>\n",
       "      <td id=\"T_c0f8b_row15_col0\" class=\"data row15 col0\" >Fold Number</td>\n",
       "      <td id=\"T_c0f8b_row15_col1\" class=\"data row15 col1\" >5</td>\n",
       "    </tr>\n",
       "    <tr>\n",
       "      <th id=\"T_c0f8b_level0_row16\" class=\"row_heading level0 row16\" >16</th>\n",
       "      <td id=\"T_c0f8b_row16_col0\" class=\"data row16 col0\" >CPU Jobs</td>\n",
       "      <td id=\"T_c0f8b_row16_col1\" class=\"data row16 col1\" >-1</td>\n",
       "    </tr>\n",
       "    <tr>\n",
       "      <th id=\"T_c0f8b_level0_row17\" class=\"row_heading level0 row17\" >17</th>\n",
       "      <td id=\"T_c0f8b_row17_col0\" class=\"data row17 col0\" >Use GPU</td>\n",
       "      <td id=\"T_c0f8b_row17_col1\" class=\"data row17 col1\" >False</td>\n",
       "    </tr>\n",
       "    <tr>\n",
       "      <th id=\"T_c0f8b_level0_row18\" class=\"row_heading level0 row18\" >18</th>\n",
       "      <td id=\"T_c0f8b_row18_col0\" class=\"data row18 col0\" >Log Experiment</td>\n",
       "      <td id=\"T_c0f8b_row18_col1\" class=\"data row18 col1\" >False</td>\n",
       "    </tr>\n",
       "    <tr>\n",
       "      <th id=\"T_c0f8b_level0_row19\" class=\"row_heading level0 row19\" >19</th>\n",
       "      <td id=\"T_c0f8b_row19_col0\" class=\"data row19 col0\" >Experiment Name</td>\n",
       "      <td id=\"T_c0f8b_row19_col1\" class=\"data row19 col1\" >clf-default-name</td>\n",
       "    </tr>\n",
       "    <tr>\n",
       "      <th id=\"T_c0f8b_level0_row20\" class=\"row_heading level0 row20\" >20</th>\n",
       "      <td id=\"T_c0f8b_row20_col0\" class=\"data row20 col0\" >USI</td>\n",
       "      <td id=\"T_c0f8b_row20_col1\" class=\"data row20 col1\" >2a4c</td>\n",
       "    </tr>\n",
       "  </tbody>\n",
       "</table>\n"
      ],
      "text/plain": [
       "<pandas.io.formats.style.Styler at 0x7f17c3217520>"
      ]
     },
     "metadata": {},
     "output_type": "display_data"
    }
   ],
   "source": [
    "exp_name = setup(\n",
    "    data=train, target='Class', polynomial_features=True, fold_strategy=RepeatedStratifiedKFold(), \n",
    "    fold=5, polynomial_degree=3\n",
    ")"
   ]
  }
 ],
 "metadata": {
  "kernelspec": {
   "display_name": "Python 3",
   "language": "python",
   "name": "python3"
  },
  "language_info": {
   "codemirror_mode": {
    "name": "ipython",
    "version": 3
   },
   "file_extension": ".py",
   "mimetype": "text/x-python",
   "name": "python",
   "nbconvert_exporter": "python",
   "pygments_lexer": "ipython3",
   "version": "3.9.16"
  }
 },
 "nbformat": 4,
 "nbformat_minor": 5
}
