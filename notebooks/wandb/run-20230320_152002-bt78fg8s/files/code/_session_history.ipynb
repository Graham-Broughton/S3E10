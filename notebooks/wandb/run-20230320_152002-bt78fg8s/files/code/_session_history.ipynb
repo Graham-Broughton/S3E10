{
 "cells": [
  {
   "cell_type": "code",
   "execution_count": 1,
   "id": "80cb7da2",
   "metadata": {},
   "outputs": [],
   "source": [
    "%load_ext autoreload\n",
    "%autoreload 2"
   ]
  },
  {
   "cell_type": "code",
   "execution_count": 2,
   "id": "a0d79415",
   "metadata": {},
   "outputs": [],
   "source": [
    "import pandas as pd\n",
    "import numpy as np\n",
    "import matplotlib.pyplot as plt\n",
    "import seaborn as sns\n",
    "%matplotlib inline\n",
    "\n",
    "import tensorflow as tf\n",
    "\n",
    "import os\n",
    "import sys\n",
    "import datetime\n",
    "\n",
    "import warnings; warnings.filterwarnings('ignore')\n",
    "\n",
    "sys.path.append('..')\n",
    "from config import CFG\n",
    "from src.model.include_concat import NN\n",
    "CFG = CFG()\n",
    "pd.options.display.float_format = '{:,.2f}'.format\n",
    "pd.set_option('display.max_columns', 30)\n",
    "pd.set_option('display.max_rows', 100)"
   ]
  },
  {
   "cell_type": "code",
   "execution_count": 3,
   "id": "c342f6c9",
   "metadata": {},
   "outputs": [],
   "source": [
    "from colorama import Style, Fore\n",
    "red = Style.BRIGHT + Fore.RED\n",
    "blu = Style.BRIGHT + Fore.BLUE\n",
    "mgt = Style.BRIGHT + Fore.MAGENTA\n",
    "grn = Style.BRIGHT + Fore.GREEN\n",
    "gld = Style.BRIGHT + Fore.YELLOW\n",
    "res = Style.RESET_ALL\n",
    "\n",
    "rc = {\n",
    "    \"axes.facecolor\": \"#FFFEF8\",\n",
    "    \"figure.facecolor\": \"#FFFEF8\",\n",
    "    \"axes.edgecolor\": \"#000000\",\n",
    "    \"grid.color\": \"#EBEBE7\" + \"30\",\n",
    "    \"font.family\": \"serif\",\n",
    "    \"axes.labelcolor\": \"#000000\",\n",
    "    \"xtick.color\": \"#000000\",\n",
    "    \"ytick.color\": \"#000000\",\n",
    "    \"grid.alpha\": 0.4\n",
    "}\n",
    "sns.set(rc=rc)\n",
    "palette = ['#302c36', '#037d97', '#E4591E', '#C09741',\n",
    "           '#EC5B6D', '#90A6B1', '#6ca957', '#D8E3E2']"
   ]
  },
  {
   "cell_type": "code",
   "execution_count": 4,
   "id": "e17d6c59",
   "metadata": {},
   "outputs": [],
   "source": [
    "orig = pd.read_csv(os.path.join(CFG.RAW_DATA, 'Pulsar.csv'))\n",
    "train = pd.read_csv(os.path.join(CFG.RAW_DATA, 'train.csv')).drop(columns='id')\n",
    "test = pd.read_csv(os.path.join(CFG.RAW_DATA, 'test.csv')).drop(columns='id')"
   ]
  },
  {
   "cell_type": "code",
   "execution_count": 5,
   "id": "475a8860",
   "metadata": {},
   "outputs": [],
   "source": [
    "ensemble = NN(train)"
   ]
  },
  {
   "cell_type": "code",
   "execution_count": 6,
   "id": "6c71274b",
   "metadata": {},
   "outputs": [],
   "source": [
    "import pandas as pd\n",
    "import numpy as np\n",
    "import matplotlib.pyplot as plt\n",
    "import seaborn as sns\n",
    "%matplotlib inline\n",
    "\n",
    "import tensorflow as tf\n",
    "\n",
    "import os\n",
    "import sys\n",
    "import datetime\n",
    "\n",
    "from sklearn.model_selection import RepeatedStratifiedKFold\n",
    "from sklearn.metrics import log_loss\n",
    "\n",
    "import warnings; warnings.filterwarnings('ignore')\n",
    "\n",
    "sys.path.append('..')\n",
    "from config import CFG\n",
    "from src.model.include_concat import NN\n",
    "CFG = CFG()\n",
    "pd.options.display.float_format = '{:,.2f}'.format\n",
    "pd.set_option('display.max_columns', 30)\n",
    "pd.set_option('display.max_rows', 100)"
   ]
  },
  {
   "cell_type": "code",
   "execution_count": 7,
   "id": "7bdee803",
   "metadata": {},
   "outputs": [],
   "source": [
    "callbacks = [\n",
    "    tf.keras.callbacks.EarlyStopping(\n",
    "        monitor='val_loss', patience=20, mode='min', restore_best_weights=True, verbose=2\n",
    "    ),\n",
    "    tf.keras.callbacks.ReduceLROnPlateau(\n",
    "        monitor='val_loss', factor=0.5, patience=10, mode='min', restore_best_weights=True, min_lr=1e-12, verbose=2\n",
    "    )\n",
    "]"
   ]
  },
  {
   "cell_type": "code",
   "execution_count": 8,
   "id": "ac95b8c9",
   "metadata": {},
   "outputs": [],
   "source": [
    "def log_(column):\n",
    "    return np.log(-min(column) + 1 + column)"
   ]
  },
  {
   "cell_type": "code",
   "execution_count": 9,
   "id": "fb642520",
   "metadata": {},
   "outputs": [],
   "source": [
    "orig = pd.read_csv(os.path.join(CFG.RAW_DATA, 'Pulsar.csv'))\n",
    "train = pd.read_csv(os.path.join(CFG.RAW_DATA, 'train.csv')).drop(columns='id')\n",
    "test = pd.read_csv(os.path.join(CFG.RAW_DATA, 'test.csv')).drop(columns='id')\n",
    "\n",
    "train[['Skewness', 'Skewness_DMSNR_Curve']] = train.apply({'Skewness': log_, 'Skewness_DMSNR_Curve': log_})\n",
    "test[['Skewness', 'Skewness_DMSNR_Curve']] = test.apply({'Skewness': log_, 'Skewness_DMSNR_Curve': log_})"
   ]
  },
  {
   "cell_type": "code",
   "execution_count": 10,
   "id": "12eb35e4",
   "metadata": {},
   "outputs": [],
   "source": [
    "callbacks = [\n",
    "    tf.keras.callbacks.EarlyStopping(\n",
    "        monitor='val_loss', patience=20, mode='min', restore_best_weights=True, verbose=2\n",
    "    ),\n",
    "    tf.keras.callbacks.ReduceLROnPlateau(\n",
    "        monitor='val_loss', factor=0.5, patience=10, mode='min', restore_best_weights=True, min_lr=1e-12, verbose=2\n",
    "    )\n",
    "]"
   ]
  },
  {
   "cell_type": "code",
   "execution_count": 11,
   "id": "2ffd3a2e",
   "metadata": {},
   "outputs": [],
   "source": [
    "import pandas as pd\n",
    "import numpy as np\n",
    "import matplotlib.pyplot as plt\n",
    "import seaborn as sns\n",
    "%matplotlib inline\n",
    "\n",
    "import tensorflow as tf\n",
    "import wandb\n",
    "\n",
    "import os\n",
    "import sys\n",
    "import datetime\n",
    "\n",
    "from sklearn.model_selection import RepeatedStratifiedKFold\n",
    "from sklearn.metrics import log_loss\n",
    "\n",
    "import warnings; warnings.filterwarnings('ignore')\n",
    "\n",
    "sys.path.append('..')\n",
    "from config import CFG\n",
    "from src.model.include_concat import NN\n",
    "CFG = CFG()\n",
    "pd.options.display.float_format = '{:,.2f}'.format\n",
    "pd.set_option('display.max_columns', 30)\n",
    "pd.set_option('display.max_rows', 100)"
   ]
  },
  {
   "cell_type": "code",
   "execution_count": 12,
   "id": "134be248",
   "metadata": {},
   "outputs": [],
   "source": [
    "ensemble = NN(train)\n",
    "ensemble.compile(\n",
    "    optimizer=tf.keras.optimizers.Adam(learning_rate=CFG.LR),\n",
    "    loss='binary_crossentropy',\n",
    "    metrics=['binary_accuracy']\n",
    ")\n",
    "k_fold = RepeatedStratifiedKFold(n_splits=CFG.NFOLDS, n_repeats=CFG.REPEATS, random_state=CFG.SEED)\n",
    "\n",
    "params = {\n",
    "    'folds': CFG.NFOLDS,\n",
    "    'repeats': CFG.REPEATS,\n",
    "    'batch_size': CFG.BATCH_SIZE,\n",
    "    'learning_rate': CFG.LR,\n",
    "}\n",
    "wandb.init(project='S3E10', group='NNtest', name='NNtest', config=params)\n",
    "\n",
    "train_log_loss = []\n",
    "oof_log_loss = []\n",
    "models = []\n",
    "for train_idx, val_idx in k_fold.split(X, y):\n",
    "    X_train, X_val = X.iloc[train_idx], X.iloc[val_idx]\n",
    "    y_train, y_val = y.iloc[train_idx], y.iloc[val_idx]\n",
    "\n",
    "    history = ensemble.fit(\n",
    "        X_train, y_train, \n",
    "        batch_size=CFG.BATCH_SIZE, \n",
    "        epochs=5, callbacks=callbacks, \n",
    "        validation_data=(X_val, y_val)\n",
    "    )\n",
    "\n",
    "    train_preds = ensemble.predict(X_train)\n",
    "    train_loss = log_loss(y_train, train_preds)\n",
    "    train_log_loss.append(train_loss)\n",
    "\n",
    "    oof_preds = ensemble.predict(X_val)\n",
    "    oof_loss = log_loss(y_val, oof_preds)\n",
    "    oof_log_loss.append(oof_loss)\n",
    "\n",
    "    models.append(ensemble)\n",
    "wandb.finish()"
   ]
  },
  {
   "cell_type": "code",
   "execution_count": 13,
   "id": "c555a56a",
   "metadata": {},
   "outputs": [],
   "source": [
    "X = train.drop('Class', axis=1).values\n",
    "y = train['Class'].values"
   ]
  },
  {
   "cell_type": "code",
   "execution_count": 14,
   "id": "97d609e7",
   "metadata": {},
   "outputs": [],
   "source": [
    "callbacks = [\n",
    "    tf.keras.callbacks.EarlyStopping(\n",
    "        monitor='val_loss', patience=20, mode='min', restore_best_weights=True, verbose=2\n",
    "    ),\n",
    "    tf.keras.callbacks.ReduceLROnPlateau(\n",
    "        monitor='val_loss', factor=0.5, patience=10, mode='min', restore_best_weights=True, min_lr=1e-12, verbose=2\n",
    "    ),\n",
    "    WandbMetricsLogger()\n",
    "]"
   ]
  },
  {
   "cell_type": "code",
   "execution_count": 15,
   "id": "0d62bb5d",
   "metadata": {},
   "outputs": [],
   "source": [
    "import pandas as pd\n",
    "import numpy as np\n",
    "import matplotlib.pyplot as plt\n",
    "import seaborn as sns\n",
    "%matplotlib inline\n",
    "\n",
    "import tensorflow as tf\n",
    "import wandb\n",
    "from wandb.keras import WandbMetricsLogger\n",
    "\n",
    "import os\n",
    "import sys\n",
    "import datetime\n",
    "\n",
    "from sklearn.model_selection import RepeatedStratifiedKFold\n",
    "from sklearn.metrics import log_loss\n",
    "\n",
    "import warnings; warnings.filterwarnings('ignore')\n",
    "\n",
    "sys.path.append('..')\n",
    "from config import CFG\n",
    "from src.model.include_concat import NN\n",
    "CFG = CFG()\n",
    "pd.options.display.float_format = '{:,.2f}'.format\n",
    "pd.set_option('display.max_columns', 30)\n",
    "pd.set_option('display.max_rows', 100)"
   ]
  },
  {
   "cell_type": "code",
   "execution_count": 16,
   "id": "5e634eb9",
   "metadata": {},
   "outputs": [],
   "source": [
    "from colorama import Style, Fore\n",
    "red = Style.BRIGHT + Fore.RED\n",
    "blu = Style.BRIGHT + Fore.BLUE\n",
    "mgt = Style.BRIGHT + Fore.MAGENTA\n",
    "grn = Style.BRIGHT + Fore.GREEN\n",
    "gld = Style.BRIGHT + Fore.YELLOW\n",
    "res = Style.RESET_ALL\n",
    "\n",
    "rc = {\n",
    "    \"axes.facecolor\": \"#FFFEF8\",\n",
    "    \"figure.facecolor\": \"#FFFEF8\",\n",
    "    \"axes.edgecolor\": \"#000000\",\n",
    "    \"grid.color\": \"#EBEBE7\" + \"30\",\n",
    "    \"font.family\": \"serif\",\n",
    "    \"axes.labelcolor\": \"#000000\",\n",
    "    \"xtick.color\": \"#000000\",\n",
    "    \"ytick.color\": \"#000000\",\n",
    "    \"grid.alpha\": 0.4\n",
    "}\n",
    "sns.set(rc=rc)\n",
    "palette = ['#302c36', '#037d97', '#E4591E', '#C09741',\n",
    "           '#EC5B6D', '#90A6B1', '#6ca957', '#D8E3E2']"
   ]
  },
  {
   "cell_type": "code",
   "execution_count": 17,
   "id": "c89598d0",
   "metadata": {},
   "outputs": [],
   "source": [
    "def log_(column):\n",
    "    return np.log(-min(column) + 1 + column)"
   ]
  },
  {
   "cell_type": "code",
   "execution_count": 18,
   "id": "dd7f1873",
   "metadata": {},
   "outputs": [],
   "source": [
    "orig = pd.read_csv(os.path.join(CFG.RAW_DATA, 'Pulsar.csv'))\n",
    "train = pd.read_csv(os.path.join(CFG.RAW_DATA, 'train.csv')).drop(columns='id')\n",
    "test = pd.read_csv(os.path.join(CFG.RAW_DATA, 'test.csv')).drop(columns='id')\n",
    "\n",
    "train[['Skewness', 'Skewness_DMSNR_Curve']] = train.apply({'Skewness': log_, 'Skewness_DMSNR_Curve': log_})\n",
    "test[['Skewness', 'Skewness_DMSNR_Curve']] = test.apply({'Skewness': log_, 'Skewness_DMSNR_Curve': log_})"
   ]
  },
  {
   "cell_type": "code",
   "execution_count": 19,
   "id": "5f8818f0",
   "metadata": {},
   "outputs": [],
   "source": [
    "X = train.drop('Class', axis=1).values\n",
    "y = train['Class'].values"
   ]
  },
  {
   "cell_type": "code",
   "execution_count": 20,
   "id": "3290f383",
   "metadata": {},
   "outputs": [],
   "source": [
    "callbacks = [\n",
    "    tf.keras.callbacks.EarlyStopping(\n",
    "        monitor='val_loss', patience=20, mode='min', restore_best_weights=True, verbose=2\n",
    "    ),\n",
    "    tf.keras.callbacks.ReduceLROnPlateau(\n",
    "        monitor='val_loss', factor=0.5, patience=10, mode='min', restore_best_weights=True, min_lr=1e-12, verbose=2\n",
    "    ),\n",
    "    WandbMetricsLogger()\n",
    "]"
   ]
  },
  {
   "cell_type": "code",
   "execution_count": 21,
   "id": "b0bb08d3",
   "metadata": {},
   "outputs": [],
   "source": [
    "ensemble = NN(train)\n",
    "ensemble.compile(\n",
    "    optimizer=tf.keras.optimizers.Adam(learning_rate=CFG.LR),\n",
    "    loss='binary_crossentropy',\n",
    "    metrics=['binary_accuracy']\n",
    ")\n",
    "k_fold = RepeatedStratifiedKFold(n_splits=CFG.NFOLDS, n_repeats=CFG.REPEATS, random_state=CFG.SEED)\n",
    "\n",
    "params = {\n",
    "    'folds': CFG.NFOLDS,\n",
    "    'repeats': CFG.REPEATS,\n",
    "    'batch_size': CFG.BATCH_SIZE,\n",
    "    'learning_rate': CFG.LR,\n",
    "}\n",
    "wandb.init(project='S3E10', group='NNtest', name='NNtest', config=params)\n",
    "\n",
    "train_log_loss = []\n",
    "oof_log_loss = []\n",
    "models = []\n",
    "for train_idx, val_idx in k_fold.split(X, y):\n",
    "    X_train, X_val = X.iloc[train_idx], X.iloc[val_idx]\n",
    "    y_train, y_val = y.iloc[train_idx], y.iloc[val_idx]\n",
    "\n",
    "    history = ensemble.fit(\n",
    "        X_train, y_train, \n",
    "        batch_size=CFG.BATCH_SIZE, \n",
    "        epochs=5, callbacks=callbacks, \n",
    "        validation_data=(X_val, y_val)\n",
    "    )\n",
    "\n",
    "    train_preds = ensemble.predict(X_train)\n",
    "    train_loss = log_loss(y_train, train_preds)\n",
    "    train_log_loss.append(train_loss)\n",
    "\n",
    "    oof_preds = ensemble.predict(X_val)\n",
    "    oof_loss = log_loss(y_val, oof_preds)\n",
    "    oof_log_loss.append(oof_loss)\n",
    "\n",
    "    models.append(ensemble)\n",
    "wandb.finish()"
   ]
  },
  {
   "cell_type": "code",
   "execution_count": 22,
   "id": "307a7092",
   "metadata": {},
   "outputs": [],
   "source": [
    "X = train.drop('Class', axis=1)\n",
    "y = train['Class']"
   ]
  },
  {
   "cell_type": "code",
   "execution_count": 23,
   "id": "c09533e6",
   "metadata": {},
   "outputs": [
    {
     "data": {
      "text/html": [
       "Finishing last run (ID:e5sdejgw) before initializing another..."
      ],
      "text/plain": [
       "<IPython.core.display.HTML object>"
      ]
     },
     "metadata": {},
     "output_type": "display_data"
    },
    {
     "data": {
      "text/html": [
       "Waiting for W&B process to finish... <strong style=\"color:green\">(success).</strong>"
      ],
      "text/plain": [
       "<IPython.core.display.HTML object>"
      ]
     },
     "metadata": {},
     "output_type": "display_data"
    },
    {
     "data": {
      "text/html": [
       " View run <strong style=\"color:#cdcd00\">NNtest</strong> at: <a href='https://wandb.ai/g-broughton/S3E10/runs/e5sdejgw' target=\"_blank\">https://wandb.ai/g-broughton/S3E10/runs/e5sdejgw</a><br/>Synced 6 W&B file(s), 0 media file(s), 0 artifact file(s) and 0 other file(s)"
      ],
      "text/plain": [
       "<IPython.core.display.HTML object>"
      ]
     },
     "metadata": {},
     "output_type": "display_data"
    },
    {
     "data": {
      "text/html": [
       "Find logs at: <code>./wandb/run-20230320_151522-e5sdejgw/logs</code>"
      ],
      "text/plain": [
       "<IPython.core.display.HTML object>"
      ]
     },
     "metadata": {},
     "output_type": "display_data"
    },
    {
     "data": {
      "text/html": [
       "Successfully finished last run (ID:e5sdejgw). Initializing new run:<br/>"
      ],
      "text/plain": [
       "<IPython.core.display.HTML object>"
      ]
     },
     "metadata": {},
     "output_type": "display_data"
    },
    {
     "data": {
      "application/vnd.jupyter.widget-view+json": {
       "model_id": "0a527c4eb560483791a92a71706bde42",
       "version_major": 2,
       "version_minor": 0
      },
      "text/plain": [
       "VBox(children=(Label(value='Waiting for wandb.init()...\\r'), FloatProgress(value=0.01666878278325991, max=1.0)…"
      ]
     },
     "metadata": {},
     "output_type": "display_data"
    },
    {
     "data": {
      "text/html": [
       "Tracking run with wandb version 0.14.0"
      ],
      "text/plain": [
       "<IPython.core.display.HTML object>"
      ]
     },
     "metadata": {},
     "output_type": "display_data"
    },
    {
     "data": {
      "text/html": [
       "Run data is saved locally in <code>/home/broug/Desktop/S3E10/notebooks/wandb/run-20230320_152002-bt78fg8s</code>"
      ],
      "text/plain": [
       "<IPython.core.display.HTML object>"
      ]
     },
     "metadata": {},
     "output_type": "display_data"
    },
    {
     "data": {
      "text/html": [
       "Syncing run <strong><a href='https://wandb.ai/g-broughton/S3E10/runs/bt78fg8s' target=\"_blank\">NNtest</a></strong> to <a href='https://wandb.ai/g-broughton/S3E10' target=\"_blank\">Weights & Biases</a> (<a href='https://wandb.me/run' target=\"_blank\">docs</a>)<br/>"
      ],
      "text/plain": [
       "<IPython.core.display.HTML object>"
      ]
     },
     "metadata": {},
     "output_type": "display_data"
    },
    {
     "data": {
      "text/html": [
       " View project at <a href='https://wandb.ai/g-broughton/S3E10' target=\"_blank\">https://wandb.ai/g-broughton/S3E10</a>"
      ],
      "text/plain": [
       "<IPython.core.display.HTML object>"
      ]
     },
     "metadata": {},
     "output_type": "display_data"
    },
    {
     "data": {
      "text/html": [
       " View run at <a href='https://wandb.ai/g-broughton/S3E10/runs/bt78fg8s' target=\"_blank\">https://wandb.ai/g-broughton/S3E10/runs/bt78fg8s</a>"
      ],
      "text/plain": [
       "<IPython.core.display.HTML object>"
      ]
     },
     "metadata": {},
     "output_type": "display_data"
    }
   ],
   "source": [
    "ensemble = NN(train)\n",
    "ensemble.compile(\n",
    "    optimizer=tf.keras.optimizers.Adam(learning_rate=CFG.LR),\n",
    "    loss='binary_crossentropy',\n",
    "    metrics=['binary_accuracy']\n",
    ")\n",
    "k_fold = RepeatedStratifiedKFold(n_splits=CFG.NFOLDS, n_repeats=CFG.REPEATS, random_state=CFG.SEED)\n",
    "\n",
    "params = {\n",
    "    'folds': CFG.NFOLDS,\n",
    "    'repeats': CFG.REPEATS,\n",
    "    'batch_size': CFG.BATCH_SIZE,\n",
    "    'learning_rate': CFG.LR,\n",
    "}\n",
    "wandb.init(project='S3E10', group='NNtest', name='NNtest', config=params)\n",
    "\n",
    "train_log_loss = []\n",
    "oof_log_loss = []\n",
    "models = []\n",
    "for train_idx, val_idx in k_fold.split(X, y):\n",
    "    X_train, X_val = X.iloc[train_idx], X.iloc[val_idx]\n",
    "    y_train, y_val = y.iloc[train_idx], y.iloc[val_idx]\n",
    "\n",
    "    history = ensemble.fit(\n",
    "        X_train, y_train, \n",
    "        batch_size=CFG.BATCH_SIZE, \n",
    "        epochs=5, callbacks=callbacks, \n",
    "        validation_data=(X_val, y_val)\n",
    "    )\n",
    "\n",
    "    train_preds = ensemble.predict(X_train)\n",
    "    train_loss = log_loss(y_train, train_preds)\n",
    "    train_log_loss.append(train_loss)\n",
    "\n",
    "    oof_preds = ensemble.predict(X_val)\n",
    "    oof_loss = log_loss(y_val, oof_preds)\n",
    "    oof_log_loss.append(oof_loss)\n",
    "\n",
    "    models.append(ensemble)\n",
    "wandb.finish()"
   ]
  },
  {
   "cell_type": "code",
   "execution_count": 24,
   "id": "e637bbb9",
   "metadata": {},
   "outputs": [],
   "source": [
    "ensemble = NN(test)\n",
    "ensemble.compile(\n",
    "    optimizer=tf.keras.optimizers.Adam(learning_rate=CFG.LR),\n",
    "    loss='binary_crossentropy',\n",
    "    metrics=['binary_accuracy']\n",
    ")\n",
    "k_fold = RepeatedStratifiedKFold(n_splits=CFG.NFOLDS, n_repeats=CFG.REPEATS, random_state=CFG.SEED)\n",
    "\n",
    "params = {\n",
    "    'folds': CFG.NFOLDS,\n",
    "    'repeats': CFG.REPEATS,\n",
    "    'batch_size': CFG.BATCH_SIZE,\n",
    "    'learning_rate': CFG.LR,\n",
    "}\n",
    "wandb.init(project='S3E10', group='NNtest', name='NNtest', config=params)\n",
    "\n",
    "train_log_loss = []\n",
    "oof_log_loss = []\n",
    "models = []\n",
    "for train_idx, val_idx in k_fold.split(X, y):\n",
    "    X_train, X_val = X.iloc[train_idx], X.iloc[val_idx]\n",
    "    y_train, y_val = y.iloc[train_idx], y.iloc[val_idx]\n",
    "\n",
    "    history = ensemble.fit(\n",
    "        X_train, y_train, \n",
    "        batch_size=CFG.BATCH_SIZE, \n",
    "        epochs=5, callbacks=callbacks, \n",
    "        validation_data=(X_val, y_val)\n",
    "    )\n",
    "\n",
    "    train_preds = ensemble.predict(X_train)\n",
    "    train_loss = log_loss(y_train, train_preds)\n",
    "    train_log_loss.append(train_loss)\n",
    "\n",
    "    oof_preds = ensemble.predict(X_val)\n",
    "    oof_loss = log_loss(y_val, oof_preds)\n",
    "    oof_log_loss.append(oof_loss)\n",
    "\n",
    "    models.append(ensemble)\n",
    "wandb.finish()"
   ]
  }
 ],
 "metadata": {
  "kernelspec": {
   "display_name": "Python 3",
   "language": "python",
   "name": "python3"
  },
  "language_info": {
   "codemirror_mode": {
    "name": "ipython",
    "version": 3
   },
   "file_extension": ".py",
   "mimetype": "text/x-python",
   "name": "python",
   "nbconvert_exporter": "python",
   "pygments_lexer": "ipython3",
   "version": "3.10.9"
  }
 },
 "nbformat": 4,
 "nbformat_minor": 5
}
