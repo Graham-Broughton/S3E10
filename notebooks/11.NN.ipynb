{
 "cells": [
  {
   "cell_type": "code",
   "execution_count": 1,
   "metadata": {},
   "outputs": [],
   "source": [
    "%load_ext autoreload\n",
    "%autoreload 2"
   ]
  },
  {
   "cell_type": "code",
   "execution_count": 15,
   "metadata": {},
   "outputs": [],
   "source": [
    "import pandas as pd\n",
    "import numpy as np\n",
    "import matplotlib.pyplot as plt\n",
    "import seaborn as sns\n",
    "%matplotlib inline\n",
    "\n",
    "import tensorflow as tf\n",
    "import wandb\n",
    "from wandb.keras import WandbMetricsLogger\n",
    "\n",
    "import os\n",
    "import sys\n",
    "import datetime\n",
    "\n",
    "from sklearn.model_selection import RepeatedStratifiedKFold\n",
    "from sklearn.metrics import log_loss\n",
    "\n",
    "import warnings; warnings.filterwarnings('ignore')\n",
    "\n",
    "sys.path.append('..')\n",
    "from config import CFG\n",
    "from src.model.include_concat import NN\n",
    "CFG = CFG()\n",
    "pd.options.display.float_format = '{:,.2f}'.format\n",
    "pd.set_option('display.max_columns', 30)\n",
    "pd.set_option('display.max_rows', 100)"
   ]
  },
  {
   "cell_type": "code",
   "execution_count": 16,
   "metadata": {},
   "outputs": [],
   "source": [
    "from colorama import Style, Fore\n",
    "red = Style.BRIGHT + Fore.RED\n",
    "blu = Style.BRIGHT + Fore.BLUE\n",
    "mgt = Style.BRIGHT + Fore.MAGENTA\n",
    "grn = Style.BRIGHT + Fore.GREEN\n",
    "gld = Style.BRIGHT + Fore.YELLOW\n",
    "res = Style.RESET_ALL\n",
    "\n",
    "rc = {\n",
    "    \"axes.facecolor\": \"#FFFEF8\",\n",
    "    \"figure.facecolor\": \"#FFFEF8\",\n",
    "    \"axes.edgecolor\": \"#000000\",\n",
    "    \"grid.color\": \"#EBEBE7\" + \"30\",\n",
    "    \"font.family\": \"serif\",\n",
    "    \"axes.labelcolor\": \"#000000\",\n",
    "    \"xtick.color\": \"#000000\",\n",
    "    \"ytick.color\": \"#000000\",\n",
    "    \"grid.alpha\": 0.4\n",
    "}\n",
    "sns.set(rc=rc)\n",
    "palette = ['#302c36', '#037d97', '#E4591E', '#C09741',\n",
    "           '#EC5B6D', '#90A6B1', '#6ca957', '#D8E3E2']"
   ]
  },
  {
   "cell_type": "code",
   "execution_count": 17,
   "metadata": {},
   "outputs": [],
   "source": [
    "def log_(column):\n",
    "    return np.log(-min(column) + 1 + column)"
   ]
  },
  {
   "cell_type": "code",
   "execution_count": 73,
   "metadata": {},
   "outputs": [],
   "source": [
    "orig = pd.read_csv(os.path.join(CFG.RAW_DATA, 'Pulsar.csv'))\n",
    "train = pd.read_csv(os.path.join(CFG.RAW_DATA, 'train.csv')).drop(columns='id')\n",
    "test = pd.read_csv(os.path.join(CFG.RAW_DATA, 'test.csv')).drop(columns='id')\n",
    "\n",
    "train[['Skewness', 'Skewness_DMSNR_Curve']] = train.apply({'Skewness': log_, 'Skewness_DMSNR_Curve': log_})\n",
    "test[['Skewness', 'Skewness_DMSNR_Curve']] = test.apply({'Skewness': log_, 'Skewness_DMSNR_Curve': log_})"
   ]
  },
  {
   "cell_type": "code",
   "execution_count": 74,
   "metadata": {},
   "outputs": [],
   "source": [
    "X = train.drop('Class', axis=1)\n",
    "y = train['Class']"
   ]
  },
  {
   "cell_type": "code",
   "execution_count": 77,
   "metadata": {},
   "outputs": [],
   "source": [
    "callbacks = [\n",
    "    tf.keras.callbacks.EarlyStopping(\n",
    "        monitor='val_loss', patience=20, mode='min', restore_best_weights=True, verbose=2\n",
    "    ),\n",
    "    tf.keras.callbacks.ReduceLROnPlateau(\n",
    "        monitor='val_loss', factor=0.5, patience=5, mode='min', restore_best_weights=True, min_lr=1e-12, verbose=2\n",
    "    ),\n",
    "    WandbMetricsLogger()\n",
    "]"
   ]
  },
  {
   "cell_type": "code",
   "execution_count": 70,
   "metadata": {},
   "outputs": [
    {
     "name": "stdout",
     "output_type": "stream",
     "text": [
      "(94052, 8)\n",
      "(94052,)\n"
     ]
    }
   ],
   "source": [
    "ds1 = ds.shard(5, 0)\n",
    "ds2 = ds.shard(5, 1)\n",
    "ds3 = ds.shard(5, 2)\n",
    "ds4 = ds.shard(5, 3)\n",
    "ds5 = ds.shard(5, 4)\n",
    "\n",
    "arr = [ds1, ds2, ds3, ds4, ds5]\n",
    "\n",
    "ds = arr[-1]\n",
    "val_ds = ds\n",
    "dslist = [d for d in arr if d is not ds]\n",
    "train_ds = dslist[0].concatenate(dslist[1]).concatenate(dslist[2]).concatenate(dslist[3])\n",
    "train_ds = train_ds.shuffle(len(y)*2)\n",
    "data, labels = tuple(zip(*train_ds))\n",
    "\n",
    "x = np.array(data)\n",
    "y = np.array(labels)\n",
    "\n",
    "print(x.shape)\n",
    "print(y.shape)"
   ]
  },
  {
   "cell_type": "code",
   "execution_count": 82,
   "metadata": {},
   "outputs": [
    {
     "data": {
      "text/html": [
       "Finishing last run (ID:lnodvzwe) before initializing another..."
      ],
      "text/plain": [
       "<IPython.core.display.HTML object>"
      ]
     },
     "metadata": {},
     "output_type": "display_data"
    },
    {
     "data": {
      "text/html": [
       "Waiting for W&B process to finish... <strong style=\"color:green\">(success).</strong>"
      ],
      "text/plain": [
       "<IPython.core.display.HTML object>"
      ]
     },
     "metadata": {},
     "output_type": "display_data"
    },
    {
     "data": {
      "application/vnd.jupyter.widget-view+json": {
       "model_id": "293203266b6b4db1b2b3f6507d2832c9",
       "version_major": 2,
       "version_minor": 0
      },
      "text/plain": [
       "VBox(children=(Label(value='0.041 MB of 0.041 MB uploaded (0.000 MB deduped)\\r'), FloatProgress(value=1.0, max…"
      ]
     },
     "metadata": {},
     "output_type": "display_data"
    },
    {
     "data": {
      "text/html": [
       "<style>\n",
       "    table.wandb td:nth-child(1) { padding: 0 10px; text-align: left ; width: auto;} td:nth-child(2) {text-align: left ; width: 100%}\n",
       "    .wandb-row { display: flex; flex-direction: row; flex-wrap: wrap; justify-content: flex-start; width: 100% }\n",
       "    .wandb-col { display: flex; flex-direction: column; flex-basis: 100%; flex: 1; padding: 10px; }\n",
       "    </style>\n",
       "<div class=\"wandb-row\"><div class=\"wandb-col\"><h3>Run history:</h3><br/><table class=\"wandb\"><tr><td>epoch/binary_accuracy</td><td>▁▆▆▆▆▇▇▇▇▇▇███</td></tr><tr><td>epoch/epoch</td><td>▁▂▂▃▃▄▄▅▅▆▆▇▇█</td></tr><tr><td>epoch/learning_rate</td><td>▁▁▁▁▁▁▁▁▁▁▁▁▁▁</td></tr><tr><td>epoch/loss</td><td>█▃▃▃▃▂▂▂▂▂▂▁▁▁</td></tr><tr><td>epoch/lr</td><td>▁▁▁▁▁▁▁▁▁▁▁▁▁▁</td></tr><tr><td>epoch/val_binary_accuracy</td><td>▂▁▃▃▂▄▄▂▃▄▆▅█▅</td></tr><tr><td>epoch/val_loss</td><td>▇▇▆▆█▅▄▇▅▅▃▇▁▄</td></tr></table><br/></div><div class=\"wandb-col\"><h3>Run summary:</h3><br/><table class=\"wandb\"><tr><td>epoch/binary_accuracy</td><td>0.98974</td></tr><tr><td>epoch/epoch</td><td>13</td></tr><tr><td>epoch/learning_rate</td><td>0.001</td></tr><tr><td>epoch/loss</td><td>0.03748</td></tr><tr><td>epoch/lr</td><td>0.001</td></tr><tr><td>epoch/val_binary_accuracy</td><td>0.98962</td></tr><tr><td>epoch/val_loss</td><td>0.0383</td></tr></table><br/></div></div>"
      ],
      "text/plain": [
       "<IPython.core.display.HTML object>"
      ]
     },
     "metadata": {},
     "output_type": "display_data"
    },
    {
     "data": {
      "text/html": [
       " View run <strong style=\"color:#cdcd00\">NN</strong> at: <a href='https://wandb.ai/g-broughton/S3E10/runs/lnodvzwe' target=\"_blank\">https://wandb.ai/g-broughton/S3E10/runs/lnodvzwe</a><br/>Synced 7 W&B file(s), 0 media file(s), 0 artifact file(s) and 1 other file(s)"
      ],
      "text/plain": [
       "<IPython.core.display.HTML object>"
      ]
     },
     "metadata": {},
     "output_type": "display_data"
    },
    {
     "data": {
      "text/html": [
       "Find logs at: <code>./wandb/run-20230320_190848-lnodvzwe/logs</code>"
      ],
      "text/plain": [
       "<IPython.core.display.HTML object>"
      ]
     },
     "metadata": {},
     "output_type": "display_data"
    },
    {
     "data": {
      "text/html": [
       "Successfully finished last run (ID:lnodvzwe). Initializing new run:<br/>"
      ],
      "text/plain": [
       "<IPython.core.display.HTML object>"
      ]
     },
     "metadata": {},
     "output_type": "display_data"
    },
    {
     "data": {
      "application/vnd.jupyter.widget-view+json": {
       "model_id": "ca85639865454aedab3e9638d7f85167",
       "version_major": 2,
       "version_minor": 0
      },
      "text/plain": [
       "VBox(children=(Label(value='Waiting for wandb.init()...\\r'), FloatProgress(value=0.016669073916758256, max=1.0…"
      ]
     },
     "metadata": {},
     "output_type": "display_data"
    },
    {
     "data": {
      "text/html": [
       "Tracking run with wandb version 0.14.0"
      ],
      "text/plain": [
       "<IPython.core.display.HTML object>"
      ]
     },
     "metadata": {},
     "output_type": "display_data"
    },
    {
     "data": {
      "text/html": [
       "Run data is saved locally in <code>/home/broug/Desktop/S3E10/notebooks/wandb/run-20230320_191135-kq8k495z</code>"
      ],
      "text/plain": [
       "<IPython.core.display.HTML object>"
      ]
     },
     "metadata": {},
     "output_type": "display_data"
    },
    {
     "data": {
      "text/html": [
       "Syncing run <strong><a href='https://wandb.ai/g-broughton/S3E10/runs/kq8k495z' target=\"_blank\">NN</a></strong> to <a href='https://wandb.ai/g-broughton/S3E10' target=\"_blank\">Weights & Biases</a> (<a href='https://wandb.me/run' target=\"_blank\">docs</a>)<br/>"
      ],
      "text/plain": [
       "<IPython.core.display.HTML object>"
      ]
     },
     "metadata": {},
     "output_type": "display_data"
    },
    {
     "data": {
      "text/html": [
       " View project at <a href='https://wandb.ai/g-broughton/S3E10' target=\"_blank\">https://wandb.ai/g-broughton/S3E10</a>"
      ],
      "text/plain": [
       "<IPython.core.display.HTML object>"
      ]
     },
     "metadata": {},
     "output_type": "display_data"
    },
    {
     "data": {
      "text/html": [
       " View run at <a href='https://wandb.ai/g-broughton/S3E10/runs/kq8k495z' target=\"_blank\">https://wandb.ai/g-broughton/S3E10/runs/kq8k495z</a>"
      ],
      "text/plain": [
       "<IPython.core.display.HTML object>"
      ]
     },
     "metadata": {},
     "output_type": "display_data"
    },
    {
     "name": "stdout",
     "output_type": "stream",
     "text": [
      "Epoch 1/50\n",
      "735/735 [==============================] - 19s 9ms/step - loss: 0.0596 - binary_accuracy: 0.9835 - val_loss: 0.0450 - val_binary_accuracy: 0.9872 - lr: 0.0010\n",
      "Epoch 2/50\n",
      "735/735 [==============================] - 7s 7ms/step - loss: 0.0470 - binary_accuracy: 0.9867 - val_loss: 0.0404 - val_binary_accuracy: 0.9878 - lr: 0.0010\n",
      "Epoch 3/50\n",
      "735/735 [==============================] - 7s 7ms/step - loss: 0.0444 - binary_accuracy: 0.9874 - val_loss: 0.0383 - val_binary_accuracy: 0.9887 - lr: 0.0010\n",
      "Epoch 4/50\n",
      "735/735 [==============================] - 6s 7ms/step - loss: 0.0440 - binary_accuracy: 0.9876 - val_loss: 0.0392 - val_binary_accuracy: 0.9892 - lr: 0.0010\n",
      "Epoch 5/50\n",
      "735/735 [==============================] - 7s 7ms/step - loss: 0.0418 - binary_accuracy: 0.9879 - val_loss: 0.0417 - val_binary_accuracy: 0.9878 - lr: 0.0010\n",
      "Epoch 6/50\n",
      "735/735 [==============================] - 6s 7ms/step - loss: 0.0427 - binary_accuracy: 0.9879 - val_loss: 0.0429 - val_binary_accuracy: 0.9872 - lr: 0.0010\n",
      "Epoch 7/50\n",
      "735/735 [==============================] - 6s 7ms/step - loss: 0.0389 - binary_accuracy: 0.9898 - val_loss: 0.0385 - val_binary_accuracy: 0.9899 - lr: 0.0010\n",
      "Epoch 8/50\n",
      "735/735 [==============================] - 7s 7ms/step - loss: 0.0407 - binary_accuracy: 0.9890 - val_loss: 0.0346 - val_binary_accuracy: 0.9896 - lr: 0.0010\n",
      "Epoch 9/50\n",
      "735/735 [==============================] - 6s 7ms/step - loss: 0.0393 - binary_accuracy: 0.9891 - val_loss: 0.0362 - val_binary_accuracy: 0.9899 - lr: 0.0010\n",
      "Epoch 10/50\n",
      "735/735 [==============================] - 6s 7ms/step - loss: 0.0385 - binary_accuracy: 0.9891 - val_loss: 0.0347 - val_binary_accuracy: 0.9910 - lr: 0.0010\n",
      "Epoch 11/50\n",
      "735/735 [==============================] - 6s 7ms/step - loss: 0.0361 - binary_accuracy: 0.9898 - val_loss: 0.0333 - val_binary_accuracy: 0.9908 - lr: 0.0010\n",
      "Epoch 12/50\n",
      "735/735 [==============================] - 7s 7ms/step - loss: 0.0378 - binary_accuracy: 0.9896 - val_loss: 0.0332 - val_binary_accuracy: 0.9908 - lr: 0.0010\n",
      "Epoch 13/50\n",
      "735/735 [==============================] - 6s 7ms/step - loss: 0.0373 - binary_accuracy: 0.9899 - val_loss: 0.0334 - val_binary_accuracy: 0.9914 - lr: 0.0010\n",
      "Epoch 14/50\n",
      "735/735 [==============================] - 7s 7ms/step - loss: 0.0365 - binary_accuracy: 0.9898 - val_loss: 0.0323 - val_binary_accuracy: 0.9909 - lr: 0.0010\n",
      "Epoch 15/50\n",
      "735/735 [==============================] - 7s 7ms/step - loss: 0.0364 - binary_accuracy: 0.9900 - val_loss: 0.0330 - val_binary_accuracy: 0.9906 - lr: 0.0010\n",
      "Epoch 16/50\n",
      "735/735 [==============================] - 7s 7ms/step - loss: 0.0358 - binary_accuracy: 0.9901 - val_loss: 0.0325 - val_binary_accuracy: 0.9905 - lr: 0.0010\n",
      "Epoch 17/50\n",
      "735/735 [==============================] - 7s 7ms/step - loss: 0.0339 - binary_accuracy: 0.9907 - val_loss: 0.0354 - val_binary_accuracy: 0.9897 - lr: 0.0010\n",
      "Epoch 18/50\n",
      "735/735 [==============================] - 7s 7ms/step - loss: 0.0351 - binary_accuracy: 0.9903 - val_loss: 0.0353 - val_binary_accuracy: 0.9899 - lr: 0.0010\n",
      "Epoch 19/50\n",
      "735/735 [==============================] - 7s 7ms/step - loss: 0.0367 - binary_accuracy: 0.9895 - val_loss: 0.0397 - val_binary_accuracy: 0.9892 - lr: 0.0010\n",
      "Epoch 20/50\n",
      "735/735 [==============================] - 7s 7ms/step - loss: 0.0368 - binary_accuracy: 0.9897 - val_loss: 0.0358 - val_binary_accuracy: 0.9897 - lr: 0.0010\n",
      "Epoch 21/50\n",
      "735/735 [==============================] - 6s 7ms/step - loss: 0.0361 - binary_accuracy: 0.9900 - val_loss: 0.0366 - val_binary_accuracy: 0.9906 - lr: 0.0010\n",
      "Epoch 22/50\n",
      "735/735 [==============================] - 6s 7ms/step - loss: 0.0353 - binary_accuracy: 0.9902 - val_loss: 0.0355 - val_binary_accuracy: 0.9907 - lr: 0.0010\n",
      "Epoch 23/50\n",
      "735/735 [==============================] - 7s 7ms/step - loss: 0.0362 - binary_accuracy: 0.9899 - val_loss: 0.0364 - val_binary_accuracy: 0.9898 - lr: 0.0010\n",
      "Epoch 24/50\n",
      "731/735 [============================>.] - ETA: 0s - loss: 0.0351 - binary_accuracy: 0.9904\n",
      "Epoch 24: ReduceLROnPlateau reducing learning rate to 0.0005000000237487257.\n",
      "735/735 [==============================] - 7s 7ms/step - loss: 0.0350 - binary_accuracy: 0.9904 - val_loss: 0.0325 - val_binary_accuracy: 0.9902 - lr: 0.0010\n",
      "Epoch 25/50\n",
      "735/735 [==============================] - 6s 7ms/step - loss: 0.0344 - binary_accuracy: 0.9901 - val_loss: 0.0366 - val_binary_accuracy: 0.9899 - lr: 5.0000e-04\n",
      "Epoch 26/50\n",
      "735/735 [==============================] - 6s 7ms/step - loss: 0.0349 - binary_accuracy: 0.9905 - val_loss: 0.0336 - val_binary_accuracy: 0.9905 - lr: 5.0000e-04\n",
      "Epoch 27/50\n",
      "735/735 [==============================] - 6s 7ms/step - loss: 0.0353 - binary_accuracy: 0.9904 - val_loss: 0.0313 - val_binary_accuracy: 0.9911 - lr: 5.0000e-04\n",
      "Epoch 28/50\n",
      "735/735 [==============================] - 7s 7ms/step - loss: 0.0353 - binary_accuracy: 0.9902 - val_loss: 0.0323 - val_binary_accuracy: 0.9901 - lr: 5.0000e-04\n",
      "Epoch 29/50\n",
      "735/735 [==============================] - 7s 7ms/step - loss: 0.0334 - binary_accuracy: 0.9906 - val_loss: 0.0359 - val_binary_accuracy: 0.9898 - lr: 5.0000e-04\n",
      "Epoch 30/50\n",
      "735/735 [==============================] - 7s 7ms/step - loss: 0.0357 - binary_accuracy: 0.9902 - val_loss: 0.0335 - val_binary_accuracy: 0.9905 - lr: 5.0000e-04\n",
      "Epoch 31/50\n",
      "735/735 [==============================] - 6s 7ms/step - loss: 0.0349 - binary_accuracy: 0.9904 - val_loss: 0.0357 - val_binary_accuracy: 0.9904 - lr: 5.0000e-04\n",
      "Epoch 32/50\n",
      "735/735 [==============================] - 6s 7ms/step - loss: 0.0365 - binary_accuracy: 0.9895 - val_loss: 0.0366 - val_binary_accuracy: 0.9904 - lr: 5.0000e-04\n",
      "Epoch 33/50\n",
      "735/735 [==============================] - 6s 7ms/step - loss: 0.0341 - binary_accuracy: 0.9900 - val_loss: 0.0321 - val_binary_accuracy: 0.9909 - lr: 5.0000e-04\n",
      "Epoch 34/50\n",
      "735/735 [==============================] - 6s 7ms/step - loss: 0.0348 - binary_accuracy: 0.9905 - val_loss: 0.0319 - val_binary_accuracy: 0.9920 - lr: 5.0000e-04\n",
      "Epoch 35/50\n",
      "735/735 [==============================] - 7s 7ms/step - loss: 0.0338 - binary_accuracy: 0.9906 - val_loss: 0.0332 - val_binary_accuracy: 0.9907 - lr: 5.0000e-04\n",
      "Epoch 36/50\n",
      "735/735 [==============================] - 7s 8ms/step - loss: 0.0361 - binary_accuracy: 0.9898 - val_loss: 0.0305 - val_binary_accuracy: 0.9917 - lr: 5.0000e-04\n",
      "Epoch 37/50\n",
      "735/735 [==============================] - 7s 7ms/step - loss: 0.0351 - binary_accuracy: 0.9902 - val_loss: 0.0360 - val_binary_accuracy: 0.9895 - lr: 5.0000e-04\n",
      "Epoch 38/50\n",
      "735/735 [==============================] - 6s 7ms/step - loss: 0.0351 - binary_accuracy: 0.9902 - val_loss: 0.0358 - val_binary_accuracy: 0.9895 - lr: 5.0000e-04\n",
      "Epoch 39/50\n",
      "735/735 [==============================] - 7s 7ms/step - loss: 0.0339 - binary_accuracy: 0.9904 - val_loss: 0.0331 - val_binary_accuracy: 0.9914 - lr: 5.0000e-04\n",
      "Epoch 40/50\n",
      "735/735 [==============================] - 6s 7ms/step - loss: 0.0348 - binary_accuracy: 0.9902 - val_loss: 0.0321 - val_binary_accuracy: 0.9907 - lr: 5.0000e-04\n",
      "Epoch 41/50\n",
      "735/735 [==============================] - 7s 7ms/step - loss: 0.0348 - binary_accuracy: 0.9901 - val_loss: 0.0299 - val_binary_accuracy: 0.9921 - lr: 5.0000e-04\n",
      "Epoch 42/50\n",
      "735/735 [==============================] - 7s 8ms/step - loss: 0.0319 - binary_accuracy: 0.9908 - val_loss: 0.0327 - val_binary_accuracy: 0.9908 - lr: 5.0000e-04\n",
      "Epoch 43/50\n",
      "735/735 [==============================] - 7s 7ms/step - loss: 0.0327 - binary_accuracy: 0.9911 - val_loss: 0.0287 - val_binary_accuracy: 0.9915 - lr: 5.0000e-04\n",
      "Epoch 44/50\n",
      "735/735 [==============================] - 6s 7ms/step - loss: 0.0345 - binary_accuracy: 0.9901 - val_loss: 0.0328 - val_binary_accuracy: 0.9905 - lr: 5.0000e-04\n",
      "Epoch 45/50\n",
      "735/735 [==============================] - 6s 7ms/step - loss: 0.0352 - binary_accuracy: 0.9901 - val_loss: 0.0338 - val_binary_accuracy: 0.9901 - lr: 5.0000e-04\n",
      "Epoch 46/50\n",
      "735/735 [==============================] - 7s 7ms/step - loss: 0.0327 - binary_accuracy: 0.9909 - val_loss: 0.0368 - val_binary_accuracy: 0.9895 - lr: 5.0000e-04\n",
      "Epoch 47/50\n",
      "735/735 [==============================] - 6s 7ms/step - loss: 0.0343 - binary_accuracy: 0.9904 - val_loss: 0.0297 - val_binary_accuracy: 0.9918 - lr: 5.0000e-04\n",
      "Epoch 48/50\n",
      "735/735 [==============================] - 7s 7ms/step - loss: 0.0343 - binary_accuracy: 0.9903 - val_loss: 0.0315 - val_binary_accuracy: 0.9911 - lr: 5.0000e-04\n",
      "Epoch 49/50\n",
      "735/735 [==============================] - 6s 7ms/step - loss: 0.0346 - binary_accuracy: 0.9901 - val_loss: 0.0312 - val_binary_accuracy: 0.9915 - lr: 5.0000e-04\n",
      "Epoch 50/50\n",
      "735/735 [==============================] - 7s 7ms/step - loss: 0.0320 - binary_accuracy: 0.9907 - val_loss: 0.0349 - val_binary_accuracy: 0.9904 - lr: 5.0000e-04\n",
      "735/735 [==============================] - 3s 2ms/step\n",
      "368/368 [==============================] - 1s 2ms/step\n",
      "Epoch 1/50\n",
      "735/735 [==============================] - 16s 8ms/step - loss: 0.0644 - binary_accuracy: 0.9825 - val_loss: 0.0459 - val_binary_accuracy: 0.9866 - lr: 0.0010\n",
      "Epoch 2/50\n",
      "735/735 [==============================] - 6s 7ms/step - loss: 0.0457 - binary_accuracy: 0.9874 - val_loss: 0.0415 - val_binary_accuracy: 0.9878 - lr: 0.0010\n",
      "Epoch 3/50\n",
      "735/735 [==============================] - 6s 6ms/step - loss: 0.0443 - binary_accuracy: 0.9874 - val_loss: 0.0418 - val_binary_accuracy: 0.9890 - lr: 0.0010\n",
      "Epoch 4/50\n",
      "735/735 [==============================] - 6s 6ms/step - loss: 0.0422 - binary_accuracy: 0.9883 - val_loss: 0.0405 - val_binary_accuracy: 0.9890 - lr: 0.0010\n",
      "Epoch 5/50\n",
      "735/735 [==============================] - 6s 6ms/step - loss: 0.0409 - binary_accuracy: 0.9886 - val_loss: 0.0366 - val_binary_accuracy: 0.9902 - lr: 0.0010\n",
      "Epoch 6/50\n",
      "735/735 [==============================] - 6s 6ms/step - loss: 0.0395 - binary_accuracy: 0.9890 - val_loss: 0.0475 - val_binary_accuracy: 0.9883 - lr: 0.0010\n",
      "Epoch 7/50\n",
      "735/735 [==============================] - 6s 6ms/step - loss: 0.0385 - binary_accuracy: 0.9892 - val_loss: 0.0350 - val_binary_accuracy: 0.9896 - lr: 0.0010\n",
      "Epoch 8/50\n",
      "735/735 [==============================] - 6s 6ms/step - loss: 0.0375 - binary_accuracy: 0.9896 - val_loss: 0.0375 - val_binary_accuracy: 0.9892 - lr: 0.0010\n",
      "Epoch 9/50\n",
      "735/735 [==============================] - 6s 7ms/step - loss: 0.0372 - binary_accuracy: 0.9896 - val_loss: 0.0313 - val_binary_accuracy: 0.9904 - lr: 0.0010\n",
      "Epoch 10/50\n",
      "735/735 [==============================] - 6s 7ms/step - loss: 0.0367 - binary_accuracy: 0.9902 - val_loss: 0.0349 - val_binary_accuracy: 0.9902 - lr: 0.0010\n",
      "Epoch 11/50\n",
      "735/735 [==============================] - 6s 6ms/step - loss: 0.0368 - binary_accuracy: 0.9899 - val_loss: 0.0325 - val_binary_accuracy: 0.9910 - lr: 0.0010\n",
      "Epoch 12/50\n",
      "735/735 [==============================] - 6s 7ms/step - loss: 0.0371 - binary_accuracy: 0.9895 - val_loss: 0.0429 - val_binary_accuracy: 0.9903 - lr: 0.0010\n",
      "Epoch 13/50\n",
      "735/735 [==============================] - 6s 7ms/step - loss: 0.0374 - binary_accuracy: 0.9895 - val_loss: 0.0348 - val_binary_accuracy: 0.9906 - lr: 0.0010\n",
      "Epoch 14/50\n",
      "735/735 [==============================] - 6s 7ms/step - loss: 0.0345 - binary_accuracy: 0.9905 - val_loss: 0.0359 - val_binary_accuracy: 0.9905 - lr: 0.0010\n",
      "Epoch 15/50\n",
      "735/735 [==============================] - 6s 7ms/step - loss: 0.0352 - binary_accuracy: 0.9904 - val_loss: 0.0365 - val_binary_accuracy: 0.9901 - lr: 0.0010\n",
      "Epoch 16/50\n",
      "735/735 [==============================] - 6s 7ms/step - loss: 0.0368 - binary_accuracy: 0.9894 - val_loss: 0.0355 - val_binary_accuracy: 0.9900 - lr: 0.0010\n",
      "Epoch 17/50\n",
      "735/735 [==============================] - 6s 7ms/step - loss: 0.0352 - binary_accuracy: 0.9902 - val_loss: 0.0341 - val_binary_accuracy: 0.9905 - lr: 0.0010\n",
      "Epoch 18/50\n",
      "735/735 [==============================] - 6s 7ms/step - loss: 0.0363 - binary_accuracy: 0.9901 - val_loss: 0.0373 - val_binary_accuracy: 0.9898 - lr: 0.0010\n",
      "Epoch 19/50\n",
      "735/735 [==============================] - ETA: 0s - loss: 0.0355 - binary_accuracy: 0.9899\n",
      "Epoch 19: ReduceLROnPlateau reducing learning rate to 0.0005000000237487257.\n",
      "735/735 [==============================] - 6s 6ms/step - loss: 0.0355 - binary_accuracy: 0.9899 - val_loss: 0.0327 - val_binary_accuracy: 0.9901 - lr: 0.0010\n",
      "Epoch 20/50\n",
      "735/735 [==============================] - 6s 6ms/step - loss: 0.0363 - binary_accuracy: 0.9899 - val_loss: 0.0300 - val_binary_accuracy: 0.9919 - lr: 5.0000e-04\n",
      "Epoch 21/50\n",
      "735/735 [==============================] - 6s 7ms/step - loss: 0.0347 - binary_accuracy: 0.9903 - val_loss: 0.0357 - val_binary_accuracy: 0.9900 - lr: 5.0000e-04\n",
      "Epoch 22/50\n",
      "735/735 [==============================] - 6s 7ms/step - loss: 0.0352 - binary_accuracy: 0.9901 - val_loss: 0.0310 - val_binary_accuracy: 0.9914 - lr: 5.0000e-04\n",
      "Epoch 23/50\n",
      "735/735 [==============================] - 6s 7ms/step - loss: 0.0335 - binary_accuracy: 0.9906 - val_loss: 0.0328 - val_binary_accuracy: 0.9903 - lr: 5.0000e-04\n",
      "Epoch 24/50\n",
      "735/735 [==============================] - 6s 7ms/step - loss: 0.0345 - binary_accuracy: 0.9903 - val_loss: 0.0321 - val_binary_accuracy: 0.9905 - lr: 5.0000e-04\n",
      "Epoch 25/50\n",
      "735/735 [==============================] - 6s 7ms/step - loss: 0.0350 - binary_accuracy: 0.9902 - val_loss: 0.0349 - val_binary_accuracy: 0.9900 - lr: 5.0000e-04\n",
      "Epoch 26/50\n",
      "735/735 [==============================] - 6s 7ms/step - loss: 0.0355 - binary_accuracy: 0.9900 - val_loss: 0.0331 - val_binary_accuracy: 0.9903 - lr: 5.0000e-04\n",
      "Epoch 27/50\n",
      "735/735 [==============================] - 6s 7ms/step - loss: 0.0362 - binary_accuracy: 0.9899 - val_loss: 0.0341 - val_binary_accuracy: 0.9906 - lr: 5.0000e-04\n",
      "Epoch 28/50\n",
      "735/735 [==============================] - 6s 7ms/step - loss: 0.0347 - binary_accuracy: 0.9903 - val_loss: 0.0289 - val_binary_accuracy: 0.9921 - lr: 5.0000e-04\n",
      "Epoch 29/50\n",
      "735/735 [==============================] - 6s 7ms/step - loss: 0.0348 - binary_accuracy: 0.9902 - val_loss: 0.0310 - val_binary_accuracy: 0.9910 - lr: 5.0000e-04\n",
      "Epoch 30/50\n",
      "735/735 [==============================] - 6s 7ms/step - loss: 0.0345 - binary_accuracy: 0.9903 - val_loss: 0.0380 - val_binary_accuracy: 0.9904 - lr: 5.0000e-04\n",
      "Epoch 31/50\n",
      "735/735 [==============================] - 6s 7ms/step - loss: 0.0350 - binary_accuracy: 0.9900 - val_loss: 0.0358 - val_binary_accuracy: 0.9899 - lr: 5.0000e-04\n",
      "Epoch 32/50\n",
      "735/735 [==============================] - 6s 7ms/step - loss: 0.0335 - binary_accuracy: 0.9905 - val_loss: 0.0313 - val_binary_accuracy: 0.9908 - lr: 5.0000e-04\n",
      "Epoch 33/50\n",
      "735/735 [==============================] - 6s 7ms/step - loss: 0.0331 - binary_accuracy: 0.9905 - val_loss: 0.0323 - val_binary_accuracy: 0.9915 - lr: 5.0000e-04\n",
      "Epoch 34/50\n",
      "735/735 [==============================] - 6s 7ms/step - loss: 0.0358 - binary_accuracy: 0.9898 - val_loss: 0.0317 - val_binary_accuracy: 0.9911 - lr: 5.0000e-04\n",
      "Epoch 35/50\n",
      "735/735 [==============================] - 6s 7ms/step - loss: 0.0353 - binary_accuracy: 0.9904 - val_loss: 0.0372 - val_binary_accuracy: 0.9895 - lr: 5.0000e-04\n",
      "Epoch 36/50\n",
      "735/735 [==============================] - 6s 7ms/step - loss: 0.0340 - binary_accuracy: 0.9903 - val_loss: 0.0345 - val_binary_accuracy: 0.9905 - lr: 5.0000e-04\n",
      "Epoch 37/50\n",
      "735/735 [==============================] - 6s 7ms/step - loss: 0.0349 - binary_accuracy: 0.9903 - val_loss: 0.0323 - val_binary_accuracy: 0.9904 - lr: 5.0000e-04\n",
      "Epoch 38/50\n",
      "734/735 [============================>.] - ETA: 0s - loss: 0.0336 - binary_accuracy: 0.9906\n",
      "Epoch 38: ReduceLROnPlateau reducing learning rate to 0.0002500000118743628.\n",
      "735/735 [==============================] - 6s 7ms/step - loss: 0.0336 - binary_accuracy: 0.9906 - val_loss: 0.0328 - val_binary_accuracy: 0.9907 - lr: 5.0000e-04\n",
      "Epoch 39/50\n",
      "735/735 [==============================] - 6s 7ms/step - loss: 0.0317 - binary_accuracy: 0.9913 - val_loss: 0.0314 - val_binary_accuracy: 0.9906 - lr: 2.5000e-04\n",
      "Epoch 40/50\n",
      "735/735 [==============================] - 6s 7ms/step - loss: 0.0329 - binary_accuracy: 0.9909 - val_loss: 0.0298 - val_binary_accuracy: 0.9916 - lr: 2.5000e-04\n",
      "Epoch 41/50\n",
      "735/735 [==============================] - 6s 7ms/step - loss: 0.0334 - binary_accuracy: 0.9905 - val_loss: 0.0344 - val_binary_accuracy: 0.9901 - lr: 2.5000e-04\n",
      "Epoch 42/50\n",
      "735/735 [==============================] - 6s 6ms/step - loss: 0.0313 - binary_accuracy: 0.9912 - val_loss: 0.0318 - val_binary_accuracy: 0.9912 - lr: 2.5000e-04\n",
      "Epoch 43/50\n",
      "735/735 [==============================] - 6s 7ms/step - loss: 0.0330 - binary_accuracy: 0.9906 - val_loss: 0.0319 - val_binary_accuracy: 0.9911 - lr: 2.5000e-04\n",
      "Epoch 44/50\n",
      "735/735 [==============================] - 6s 7ms/step - loss: 0.0330 - binary_accuracy: 0.9909 - val_loss: 0.0324 - val_binary_accuracy: 0.9911 - lr: 2.5000e-04\n",
      "Epoch 45/50\n",
      "735/735 [==============================] - 6s 7ms/step - loss: 0.0332 - binary_accuracy: 0.9908 - val_loss: 0.0312 - val_binary_accuracy: 0.9914 - lr: 2.5000e-04\n",
      "Epoch 46/50\n",
      "735/735 [==============================] - 6s 7ms/step - loss: 0.0313 - binary_accuracy: 0.9912 - val_loss: 0.0328 - val_binary_accuracy: 0.9903 - lr: 2.5000e-04\n",
      "Epoch 47/50\n",
      "735/735 [==============================] - 6s 7ms/step - loss: 0.0344 - binary_accuracy: 0.9905 - val_loss: 0.0332 - val_binary_accuracy: 0.9909 - lr: 2.5000e-04\n",
      "Epoch 48/50\n",
      "735/735 [==============================] - ETA: 0s - loss: 0.0321 - binary_accuracy: 0.9907Restoring model weights from the end of the best epoch: 28.\n",
      "\n",
      "Epoch 48: ReduceLROnPlateau reducing learning rate to 0.0001250000059371814.\n",
      "735/735 [==============================] - 6s 7ms/step - loss: 0.0321 - binary_accuracy: 0.9907 - val_loss: 0.0319 - val_binary_accuracy: 0.9907 - lr: 2.5000e-04\n",
      "Epoch 48: early stopping\n",
      "735/735 [==============================] - 3s 2ms/step\n",
      "368/368 [==============================] - 1s 2ms/step\n",
      "Epoch 1/50\n",
      "735/735 [==============================] - 18s 9ms/step - loss: 0.0669 - binary_accuracy: 0.9804 - val_loss: 0.0474 - val_binary_accuracy: 0.9864 - lr: 0.0010\n",
      "Epoch 2/50\n",
      "735/735 [==============================] - 7s 8ms/step - loss: 0.0481 - binary_accuracy: 0.9866 - val_loss: 0.0416 - val_binary_accuracy: 0.9883 - lr: 0.0010\n",
      "Epoch 3/50\n",
      "735/735 [==============================] - 7s 8ms/step - loss: 0.0434 - binary_accuracy: 0.9875 - val_loss: 0.0444 - val_binary_accuracy: 0.9878 - lr: 0.0010\n",
      "Epoch 4/50\n",
      "735/735 [==============================] - 7s 8ms/step - loss: 0.0440 - binary_accuracy: 0.9874 - val_loss: 0.0399 - val_binary_accuracy: 0.9883 - lr: 0.0010\n",
      "Epoch 5/50\n",
      "735/735 [==============================] - 7s 7ms/step - loss: 0.0412 - binary_accuracy: 0.9887 - val_loss: 0.0385 - val_binary_accuracy: 0.9902 - lr: 0.0010\n",
      "Epoch 6/50\n",
      "735/735 [==============================] - 7s 8ms/step - loss: 0.0408 - binary_accuracy: 0.9887 - val_loss: 0.0343 - val_binary_accuracy: 0.9898 - lr: 0.0010\n",
      "Epoch 7/50\n",
      "735/735 [==============================] - 7s 7ms/step - loss: 0.0382 - binary_accuracy: 0.9896 - val_loss: 0.0401 - val_binary_accuracy: 0.9903 - lr: 0.0010\n",
      "Epoch 8/50\n",
      "735/735 [==============================] - 7s 8ms/step - loss: 0.0375 - binary_accuracy: 0.9897 - val_loss: 0.0338 - val_binary_accuracy: 0.9900 - lr: 0.0010\n",
      "Epoch 9/50\n",
      "735/735 [==============================] - 7s 8ms/step - loss: 0.0360 - binary_accuracy: 0.9899 - val_loss: 0.0376 - val_binary_accuracy: 0.9895 - lr: 0.0010\n",
      "Epoch 10/50\n",
      "735/735 [==============================] - 7s 8ms/step - loss: 0.0365 - binary_accuracy: 0.9898 - val_loss: 0.0356 - val_binary_accuracy: 0.9897 - lr: 0.0010\n",
      "Epoch 11/50\n",
      "735/735 [==============================] - 7s 8ms/step - loss: 0.0382 - binary_accuracy: 0.9897 - val_loss: 0.0358 - val_binary_accuracy: 0.9901 - lr: 0.0010\n",
      "Epoch 12/50\n",
      "735/735 [==============================] - 7s 8ms/step - loss: 0.0367 - binary_accuracy: 0.9898 - val_loss: 0.0353 - val_binary_accuracy: 0.9894 - lr: 0.0010\n",
      "Epoch 13/50\n",
      "735/735 [==============================] - 7s 8ms/step - loss: 0.0373 - binary_accuracy: 0.9893 - val_loss: 0.0341 - val_binary_accuracy: 0.9906 - lr: 0.0010\n",
      "Epoch 14/50\n",
      "735/735 [==============================] - 7s 8ms/step - loss: 0.0351 - binary_accuracy: 0.9905 - val_loss: 0.0337 - val_binary_accuracy: 0.9903 - lr: 0.0010\n",
      "Epoch 15/50\n",
      "735/735 [==============================] - 7s 7ms/step - loss: 0.0375 - binary_accuracy: 0.9900 - val_loss: 0.0369 - val_binary_accuracy: 0.9890 - lr: 0.0010\n",
      "Epoch 16/50\n",
      "735/735 [==============================] - 7s 7ms/step - loss: 0.0369 - binary_accuracy: 0.9896 - val_loss: 0.0309 - val_binary_accuracy: 0.9907 - lr: 0.0010\n",
      "Epoch 17/50\n",
      "735/735 [==============================] - 6s 7ms/step - loss: 0.0358 - binary_accuracy: 0.9902 - val_loss: 0.0360 - val_binary_accuracy: 0.9901 - lr: 0.0010\n",
      "Epoch 18/50\n",
      "735/735 [==============================] - 7s 8ms/step - loss: 0.0347 - binary_accuracy: 0.9908 - val_loss: 0.0409 - val_binary_accuracy: 0.9879 - lr: 0.0010\n",
      "Epoch 19/50\n",
      "735/735 [==============================] - 7s 7ms/step - loss: 0.0338 - binary_accuracy: 0.9902 - val_loss: 0.0319 - val_binary_accuracy: 0.9912 - lr: 0.0010\n",
      "Epoch 20/50\n",
      "735/735 [==============================] - 7s 7ms/step - loss: 0.0367 - binary_accuracy: 0.9896 - val_loss: 0.0318 - val_binary_accuracy: 0.9911 - lr: 0.0010\n",
      "Epoch 21/50\n",
      "735/735 [==============================] - 6s 7ms/step - loss: 0.0358 - binary_accuracy: 0.9900 - val_loss: 0.0336 - val_binary_accuracy: 0.9908 - lr: 0.0010\n",
      "Epoch 22/50\n",
      "735/735 [==============================] - 7s 7ms/step - loss: 0.0362 - binary_accuracy: 0.9900 - val_loss: 0.0348 - val_binary_accuracy: 0.9900 - lr: 0.0010\n",
      "Epoch 23/50\n",
      "735/735 [==============================] - 6s 7ms/step - loss: 0.0359 - binary_accuracy: 0.9901 - val_loss: 0.0322 - val_binary_accuracy: 0.9906 - lr: 0.0010\n",
      "Epoch 24/50\n",
      "735/735 [==============================] - 7s 7ms/step - loss: 0.0358 - binary_accuracy: 0.9900 - val_loss: 0.0325 - val_binary_accuracy: 0.9914 - lr: 0.0010\n",
      "Epoch 25/50\n",
      "735/735 [==============================] - 6s 7ms/step - loss: 0.0342 - binary_accuracy: 0.9903 - val_loss: 0.0307 - val_binary_accuracy: 0.9920 - lr: 0.0010\n",
      "Epoch 26/50\n",
      "735/735 [==============================] - 7s 8ms/step - loss: 0.0346 - binary_accuracy: 0.9905 - val_loss: 0.0395 - val_binary_accuracy: 0.9889 - lr: 0.0010\n",
      "Epoch 27/50\n",
      "735/735 [==============================] - 6s 7ms/step - loss: 0.0355 - binary_accuracy: 0.9903 - val_loss: 0.0324 - val_binary_accuracy: 0.9913 - lr: 0.0010\n",
      "Epoch 28/50\n",
      "735/735 [==============================] - 7s 8ms/step - loss: 0.0358 - binary_accuracy: 0.9903 - val_loss: 0.0325 - val_binary_accuracy: 0.9912 - lr: 0.0010\n",
      "Epoch 29/50\n",
      "735/735 [==============================] - 7s 8ms/step - loss: 0.0347 - binary_accuracy: 0.9901 - val_loss: 0.0364 - val_binary_accuracy: 0.9903 - lr: 0.0010\n",
      "Epoch 30/50\n",
      "735/735 [==============================] - 7s 8ms/step - loss: 0.0360 - binary_accuracy: 0.9903 - val_loss: 0.0358 - val_binary_accuracy: 0.9895 - lr: 0.0010\n",
      "Epoch 31/50\n",
      "735/735 [==============================] - 7s 7ms/step - loss: 0.0334 - binary_accuracy: 0.9907 - val_loss: 0.0398 - val_binary_accuracy: 0.9903 - lr: 0.0010\n",
      "Epoch 32/50\n",
      "735/735 [==============================] - 7s 8ms/step - loss: 0.0349 - binary_accuracy: 0.9905 - val_loss: 0.0332 - val_binary_accuracy: 0.9915 - lr: 0.0010\n",
      "Epoch 33/50\n",
      "735/735 [==============================] - 7s 8ms/step - loss: 0.0353 - binary_accuracy: 0.9903 - val_loss: 0.0310 - val_binary_accuracy: 0.9915 - lr: 0.0010\n",
      "Epoch 34/50\n",
      "735/735 [==============================] - 7s 8ms/step - loss: 0.0346 - binary_accuracy: 0.9905 - val_loss: 0.0286 - val_binary_accuracy: 0.9920 - lr: 0.0010\n",
      "Epoch 35/50\n",
      "735/735 [==============================] - 7s 8ms/step - loss: 0.0359 - binary_accuracy: 0.9902 - val_loss: 0.0309 - val_binary_accuracy: 0.9912 - lr: 0.0010\n",
      "Epoch 36/50\n",
      "735/735 [==============================] - 7s 8ms/step - loss: 0.0346 - binary_accuracy: 0.9902 - val_loss: 0.0320 - val_binary_accuracy: 0.9910 - lr: 0.0010\n",
      "Epoch 37/50\n",
      "735/735 [==============================] - 7s 8ms/step - loss: 0.0345 - binary_accuracy: 0.9904 - val_loss: 0.0318 - val_binary_accuracy: 0.9910 - lr: 0.0010\n",
      "Epoch 38/50\n",
      "735/735 [==============================] - 7s 8ms/step - loss: 0.0358 - binary_accuracy: 0.9901 - val_loss: 0.0357 - val_binary_accuracy: 0.9904 - lr: 0.0010\n",
      "Epoch 39/50\n",
      "735/735 [==============================] - 7s 8ms/step - loss: 0.0349 - binary_accuracy: 0.9903 - val_loss: 0.0308 - val_binary_accuracy: 0.9914 - lr: 0.0010\n",
      "Epoch 40/50\n",
      "735/735 [==============================] - 7s 8ms/step - loss: 0.0346 - binary_accuracy: 0.9905 - val_loss: 0.0336 - val_binary_accuracy: 0.9904 - lr: 0.0010\n",
      "Epoch 41/50\n",
      "735/735 [==============================] - 7s 7ms/step - loss: 0.0339 - binary_accuracy: 0.9906 - val_loss: 0.0330 - val_binary_accuracy: 0.9912 - lr: 0.0010\n",
      "Epoch 42/50\n",
      "735/735 [==============================] - 7s 8ms/step - loss: 0.0347 - binary_accuracy: 0.9904 - val_loss: 0.0351 - val_binary_accuracy: 0.9900 - lr: 0.0010\n",
      "Epoch 43/50\n",
      "735/735 [==============================] - 7s 7ms/step - loss: 0.0337 - binary_accuracy: 0.9908 - val_loss: 0.0336 - val_binary_accuracy: 0.9907 - lr: 0.0010\n",
      "Epoch 44/50\n",
      "732/735 [============================>.] - ETA: 0s - loss: 0.0344 - binary_accuracy: 0.9908\n",
      "Epoch 44: ReduceLROnPlateau reducing learning rate to 0.0005000000237487257.\n",
      "735/735 [==============================] - 7s 7ms/step - loss: 0.0343 - binary_accuracy: 0.9908 - val_loss: 0.0322 - val_binary_accuracy: 0.9904 - lr: 0.0010\n",
      "Epoch 45/50\n",
      "735/735 [==============================] - 7s 7ms/step - loss: 0.0323 - binary_accuracy: 0.9909 - val_loss: 0.0290 - val_binary_accuracy: 0.9915 - lr: 5.0000e-04\n",
      "Epoch 46/50\n",
      "735/735 [==============================] - 6s 7ms/step - loss: 0.0345 - binary_accuracy: 0.9903 - val_loss: 0.0342 - val_binary_accuracy: 0.9904 - lr: 5.0000e-04\n",
      "Epoch 47/50\n",
      "735/735 [==============================] - 7s 8ms/step - loss: 0.0349 - binary_accuracy: 0.9904 - val_loss: 0.0334 - val_binary_accuracy: 0.9901 - lr: 5.0000e-04\n",
      "Epoch 48/50\n",
      "735/735 [==============================] - 6s 7ms/step - loss: 0.0339 - binary_accuracy: 0.9904 - val_loss: 0.0328 - val_binary_accuracy: 0.9904 - lr: 5.0000e-04\n",
      "Epoch 49/50\n",
      "735/735 [==============================] - 6s 7ms/step - loss: 0.0343 - binary_accuracy: 0.9903 - val_loss: 0.0327 - val_binary_accuracy: 0.9901 - lr: 5.0000e-04\n",
      "Epoch 50/50\n",
      "735/735 [==============================] - 7s 7ms/step - loss: 0.0330 - binary_accuracy: 0.9905 - val_loss: 0.0341 - val_binary_accuracy: 0.9904 - lr: 5.0000e-04\n",
      "735/735 [==============================] - 3s 2ms/step\n",
      "368/368 [==============================] - 1s 2ms/step\n",
      "Epoch 1/50\n",
      "735/735 [==============================] - 16s 8ms/step - loss: 0.0693 - binary_accuracy: 0.9800 - val_loss: 0.0424 - val_binary_accuracy: 0.9878 - lr: 0.0010\n",
      "Epoch 2/50\n",
      "735/735 [==============================] - 6s 7ms/step - loss: 0.0480 - binary_accuracy: 0.9864 - val_loss: 0.0430 - val_binary_accuracy: 0.9874 - lr: 0.0010\n",
      "Epoch 3/50\n",
      "735/735 [==============================] - 6s 7ms/step - loss: 0.0453 - binary_accuracy: 0.9870 - val_loss: 0.0406 - val_binary_accuracy: 0.9881 - lr: 0.0010\n",
      "Epoch 4/50\n",
      "735/735 [==============================] - 6s 7ms/step - loss: 0.0458 - binary_accuracy: 0.9870 - val_loss: 0.0424 - val_binary_accuracy: 0.9888 - lr: 0.0010\n",
      "Epoch 5/50\n",
      "735/735 [==============================] - 6s 6ms/step - loss: 0.0441 - binary_accuracy: 0.9877 - val_loss: 0.0447 - val_binary_accuracy: 0.9872 - lr: 0.0010\n",
      "Epoch 6/50\n",
      "735/735 [==============================] - 6s 7ms/step - loss: 0.0413 - binary_accuracy: 0.9887 - val_loss: 0.0397 - val_binary_accuracy: 0.9887 - lr: 0.0010\n",
      "Epoch 7/50\n",
      "735/735 [==============================] - 6s 6ms/step - loss: 0.0395 - binary_accuracy: 0.9889 - val_loss: 0.0398 - val_binary_accuracy: 0.9888 - lr: 0.0010\n",
      "Epoch 8/50\n",
      "735/735 [==============================] - 6s 7ms/step - loss: 0.0414 - binary_accuracy: 0.9886 - val_loss: 0.0385 - val_binary_accuracy: 0.9894 - lr: 0.0010\n",
      "Epoch 9/50\n",
      "735/735 [==============================] - 6s 7ms/step - loss: 0.0389 - binary_accuracy: 0.9888 - val_loss: 0.0385 - val_binary_accuracy: 0.9901 - lr: 0.0010\n",
      "Epoch 10/50\n",
      "735/735 [==============================] - 6s 7ms/step - loss: 0.0370 - binary_accuracy: 0.9895 - val_loss: 0.0373 - val_binary_accuracy: 0.9905 - lr: 0.0010\n",
      "Epoch 11/50\n",
      "735/735 [==============================] - 6s 7ms/step - loss: 0.0373 - binary_accuracy: 0.9896 - val_loss: 0.0442 - val_binary_accuracy: 0.9890 - lr: 0.0010\n",
      "Epoch 12/50\n",
      "735/735 [==============================] - 6s 7ms/step - loss: 0.0387 - binary_accuracy: 0.9893 - val_loss: 0.0361 - val_binary_accuracy: 0.9894 - lr: 0.0010\n",
      "Epoch 13/50\n",
      "735/735 [==============================] - 6s 7ms/step - loss: 0.0379 - binary_accuracy: 0.9896 - val_loss: 0.0349 - val_binary_accuracy: 0.9902 - lr: 0.0010\n",
      "Epoch 14/50\n",
      "735/735 [==============================] - 6s 7ms/step - loss: 0.0364 - binary_accuracy: 0.9901 - val_loss: 0.0346 - val_binary_accuracy: 0.9902 - lr: 0.0010\n",
      "Epoch 15/50\n",
      "735/735 [==============================] - 6s 7ms/step - loss: 0.0365 - binary_accuracy: 0.9898 - val_loss: 0.0332 - val_binary_accuracy: 0.9904 - lr: 0.0010\n",
      "Epoch 16/50\n",
      "735/735 [==============================] - 7s 7ms/step - loss: 0.0363 - binary_accuracy: 0.9898 - val_loss: 0.0355 - val_binary_accuracy: 0.9894 - lr: 0.0010\n",
      "Epoch 17/50\n",
      "735/735 [==============================] - 6s 7ms/step - loss: 0.0350 - binary_accuracy: 0.9904 - val_loss: 0.0347 - val_binary_accuracy: 0.9902 - lr: 0.0010\n",
      "Epoch 18/50\n",
      "735/735 [==============================] - 6s 7ms/step - loss: 0.0359 - binary_accuracy: 0.9901 - val_loss: 0.0377 - val_binary_accuracy: 0.9899 - lr: 0.0010\n",
      "Epoch 19/50\n",
      "735/735 [==============================] - 6s 7ms/step - loss: 0.0372 - binary_accuracy: 0.9897 - val_loss: 0.0373 - val_binary_accuracy: 0.9899 - lr: 0.0010\n",
      "Epoch 20/50\n",
      "735/735 [==============================] - 6s 7ms/step - loss: 0.0370 - binary_accuracy: 0.9897 - val_loss: 0.0344 - val_binary_accuracy: 0.9909 - lr: 0.0010\n",
      "Epoch 21/50\n",
      "735/735 [==============================] - 6s 7ms/step - loss: 0.0358 - binary_accuracy: 0.9900 - val_loss: 0.0330 - val_binary_accuracy: 0.9910 - lr: 0.0010\n",
      "Epoch 22/50\n",
      "735/735 [==============================] - 6s 7ms/step - loss: 0.0355 - binary_accuracy: 0.9900 - val_loss: 0.0320 - val_binary_accuracy: 0.9912 - lr: 0.0010\n",
      "Epoch 23/50\n",
      "735/735 [==============================] - 6s 7ms/step - loss: 0.0370 - binary_accuracy: 0.9898 - val_loss: 0.0438 - val_binary_accuracy: 0.9895 - lr: 0.0010\n",
      "Epoch 24/50\n",
      "735/735 [==============================] - 6s 6ms/step - loss: 0.0377 - binary_accuracy: 0.9896 - val_loss: 0.0378 - val_binary_accuracy: 0.9898 - lr: 0.0010\n",
      "Epoch 25/50\n",
      "735/735 [==============================] - 6s 7ms/step - loss: 0.0357 - binary_accuracy: 0.9900 - val_loss: 0.0381 - val_binary_accuracy: 0.9892 - lr: 0.0010\n",
      "Epoch 26/50\n",
      "735/735 [==============================] - 6s 7ms/step - loss: 0.0363 - binary_accuracy: 0.9899 - val_loss: 0.0374 - val_binary_accuracy: 0.9903 - lr: 0.0010\n",
      "Epoch 27/50\n",
      "735/735 [==============================] - 6s 7ms/step - loss: 0.0363 - binary_accuracy: 0.9900 - val_loss: 0.0340 - val_binary_accuracy: 0.9913 - lr: 0.0010\n",
      "Epoch 28/50\n",
      "735/735 [==============================] - 6s 7ms/step - loss: 0.0350 - binary_accuracy: 0.9901 - val_loss: 0.0330 - val_binary_accuracy: 0.9899 - lr: 0.0010\n",
      "Epoch 29/50\n",
      "735/735 [==============================] - 6s 7ms/step - loss: 0.0346 - binary_accuracy: 0.9903 - val_loss: 0.0351 - val_binary_accuracy: 0.9900 - lr: 0.0010\n",
      "Epoch 30/50\n",
      "735/735 [==============================] - 6s 7ms/step - loss: 0.0343 - binary_accuracy: 0.9905 - val_loss: 0.0355 - val_binary_accuracy: 0.9899 - lr: 0.0010\n",
      "Epoch 31/50\n",
      "735/735 [==============================] - 7s 7ms/step - loss: 0.0348 - binary_accuracy: 0.9904 - val_loss: 0.0377 - val_binary_accuracy: 0.9904 - lr: 0.0010\n",
      "Epoch 32/50\n",
      "733/735 [============================>.] - ETA: 0s - loss: 0.0349 - binary_accuracy: 0.9905\n",
      "Epoch 32: ReduceLROnPlateau reducing learning rate to 0.0005000000237487257.\n",
      "735/735 [==============================] - 7s 7ms/step - loss: 0.0350 - binary_accuracy: 0.9904 - val_loss: 0.0337 - val_binary_accuracy: 0.9916 - lr: 0.0010\n",
      "Epoch 33/50\n",
      "735/735 [==============================] - 7s 7ms/step - loss: 0.0347 - binary_accuracy: 0.9902 - val_loss: 0.0306 - val_binary_accuracy: 0.9910 - lr: 5.0000e-04\n",
      "Epoch 34/50\n",
      "735/735 [==============================] - 7s 7ms/step - loss: 0.0350 - binary_accuracy: 0.9897 - val_loss: 0.0321 - val_binary_accuracy: 0.9906 - lr: 5.0000e-04\n",
      "Epoch 35/50\n",
      "735/735 [==============================] - 7s 8ms/step - loss: 0.0339 - binary_accuracy: 0.9905 - val_loss: 0.0311 - val_binary_accuracy: 0.9914 - lr: 5.0000e-04\n",
      "Epoch 36/50\n",
      "735/735 [==============================] - 7s 7ms/step - loss: 0.0342 - binary_accuracy: 0.9905 - val_loss: 0.0326 - val_binary_accuracy: 0.9911 - lr: 5.0000e-04\n",
      "Epoch 37/50\n",
      "735/735 [==============================] - 6s 7ms/step - loss: 0.0355 - binary_accuracy: 0.9901 - val_loss: 0.0338 - val_binary_accuracy: 0.9901 - lr: 5.0000e-04\n",
      "Epoch 38/50\n",
      "735/735 [==============================] - 7s 7ms/step - loss: 0.0349 - binary_accuracy: 0.9901 - val_loss: 0.0326 - val_binary_accuracy: 0.9909 - lr: 5.0000e-04\n",
      "Epoch 39/50\n",
      "735/735 [==============================] - 7s 8ms/step - loss: 0.0335 - binary_accuracy: 0.9907 - val_loss: 0.0347 - val_binary_accuracy: 0.9902 - lr: 5.0000e-04\n",
      "Epoch 40/50\n",
      "735/735 [==============================] - 7s 7ms/step - loss: 0.0338 - binary_accuracy: 0.9908 - val_loss: 0.0326 - val_binary_accuracy: 0.9908 - lr: 5.0000e-04\n",
      "Epoch 41/50\n",
      "735/735 [==============================] - 6s 7ms/step - loss: 0.0342 - binary_accuracy: 0.9904 - val_loss: 0.0369 - val_binary_accuracy: 0.9898 - lr: 5.0000e-04\n",
      "Epoch 42/50\n",
      "735/735 [==============================] - 6s 7ms/step - loss: 0.0353 - binary_accuracy: 0.9899 - val_loss: 0.0326 - val_binary_accuracy: 0.9912 - lr: 5.0000e-04\n",
      "Epoch 43/50\n",
      "731/735 [============================>.] - ETA: 0s - loss: 0.0336 - binary_accuracy: 0.9904\n",
      "Epoch 43: ReduceLROnPlateau reducing learning rate to 0.0002500000118743628.\n",
      "735/735 [==============================] - 6s 7ms/step - loss: 0.0335 - binary_accuracy: 0.9904 - val_loss: 0.0363 - val_binary_accuracy: 0.9898 - lr: 5.0000e-04\n",
      "Epoch 44/50\n",
      "735/735 [==============================] - 6s 7ms/step - loss: 0.0352 - binary_accuracy: 0.9902 - val_loss: 0.0294 - val_binary_accuracy: 0.9919 - lr: 2.5000e-04\n",
      "Epoch 45/50\n",
      "735/735 [==============================] - 6s 7ms/step - loss: 0.0328 - binary_accuracy: 0.9906 - val_loss: 0.0338 - val_binary_accuracy: 0.9906 - lr: 2.5000e-04\n",
      "Epoch 46/50\n",
      "735/735 [==============================] - 6s 7ms/step - loss: 0.0330 - binary_accuracy: 0.9907 - val_loss: 0.0327 - val_binary_accuracy: 0.9912 - lr: 2.5000e-04\n",
      "Epoch 47/50\n",
      "735/735 [==============================] - 7s 7ms/step - loss: 0.0336 - binary_accuracy: 0.9901 - val_loss: 0.0328 - val_binary_accuracy: 0.9909 - lr: 2.5000e-04\n",
      "Epoch 48/50\n",
      "735/735 [==============================] - 7s 7ms/step - loss: 0.0336 - binary_accuracy: 0.9908 - val_loss: 0.0312 - val_binary_accuracy: 0.9912 - lr: 2.5000e-04\n",
      "Epoch 49/50\n",
      "735/735 [==============================] - 6s 7ms/step - loss: 0.0330 - binary_accuracy: 0.9909 - val_loss: 0.0353 - val_binary_accuracy: 0.9904 - lr: 2.5000e-04\n",
      "Epoch 50/50\n",
      "735/735 [==============================] - 7s 7ms/step - loss: 0.0343 - binary_accuracy: 0.9904 - val_loss: 0.0318 - val_binary_accuracy: 0.9912 - lr: 2.5000e-04\n",
      "735/735 [==============================] - 4s 3ms/step\n",
      "368/368 [==============================] - 1s 2ms/step\n",
      "Epoch 1/50\n",
      "735/735 [==============================] - 17s 9ms/step - loss: 0.0598 - binary_accuracy: 0.9827 - val_loss: 0.0424 - val_binary_accuracy: 0.9875 - lr: 0.0010\n",
      "Epoch 2/50\n",
      "735/735 [==============================] - 7s 8ms/step - loss: 0.0453 - binary_accuracy: 0.9871 - val_loss: 0.0417 - val_binary_accuracy: 0.9883 - lr: 0.0010\n",
      "Epoch 3/50\n",
      "735/735 [==============================] - 7s 8ms/step - loss: 0.0465 - binary_accuracy: 0.9866 - val_loss: 0.0395 - val_binary_accuracy: 0.9885 - lr: 0.0010\n",
      "Epoch 4/50\n",
      "735/735 [==============================] - 7s 7ms/step - loss: 0.0426 - binary_accuracy: 0.9878 - val_loss: 0.0388 - val_binary_accuracy: 0.9886 - lr: 0.0010\n",
      "Epoch 5/50\n",
      "735/735 [==============================] - 7s 8ms/step - loss: 0.0425 - binary_accuracy: 0.9880 - val_loss: 0.0437 - val_binary_accuracy: 0.9877 - lr: 0.0010\n",
      "Epoch 6/50\n",
      "735/735 [==============================] - 6s 7ms/step - loss: 0.0428 - binary_accuracy: 0.9880 - val_loss: 0.0353 - val_binary_accuracy: 0.9901 - lr: 0.0010\n",
      "Epoch 7/50\n",
      "735/735 [==============================] - 7s 7ms/step - loss: 0.0422 - binary_accuracy: 0.9881 - val_loss: 0.0378 - val_binary_accuracy: 0.9897 - lr: 0.0010\n",
      "Epoch 8/50\n",
      "735/735 [==============================] - 7s 8ms/step - loss: 0.0391 - binary_accuracy: 0.9889 - val_loss: 0.0355 - val_binary_accuracy: 0.9901 - lr: 0.0010\n",
      "Epoch 9/50\n",
      "735/735 [==============================] - 7s 8ms/step - loss: 0.0397 - binary_accuracy: 0.9892 - val_loss: 0.0351 - val_binary_accuracy: 0.9895 - lr: 0.0010\n",
      "Epoch 10/50\n",
      "735/735 [==============================] - 7s 8ms/step - loss: 0.0366 - binary_accuracy: 0.9898 - val_loss: 0.0361 - val_binary_accuracy: 0.9899 - lr: 0.0010\n",
      "Epoch 11/50\n",
      "735/735 [==============================] - 7s 8ms/step - loss: 0.0382 - binary_accuracy: 0.9895 - val_loss: 0.0424 - val_binary_accuracy: 0.9897 - lr: 0.0010\n",
      "Epoch 12/50\n",
      "735/735 [==============================] - 7s 7ms/step - loss: 0.0371 - binary_accuracy: 0.9896 - val_loss: 0.0315 - val_binary_accuracy: 0.9911 - lr: 0.0010\n",
      "Epoch 13/50\n",
      "735/735 [==============================] - 7s 8ms/step - loss: 0.0375 - binary_accuracy: 0.9899 - val_loss: 0.0320 - val_binary_accuracy: 0.9907 - lr: 0.0010\n",
      "Epoch 14/50\n",
      "735/735 [==============================] - 7s 8ms/step - loss: 0.0368 - binary_accuracy: 0.9899 - val_loss: 0.0374 - val_binary_accuracy: 0.9896 - lr: 0.0010\n",
      "Epoch 15/50\n",
      "735/735 [==============================] - 7s 8ms/step - loss: 0.0371 - binary_accuracy: 0.9897 - val_loss: 0.0349 - val_binary_accuracy: 0.9902 - lr: 0.0010\n",
      "Epoch 16/50\n",
      "735/735 [==============================] - 7s 8ms/step - loss: 0.0348 - binary_accuracy: 0.9903 - val_loss: 0.0337 - val_binary_accuracy: 0.9908 - lr: 0.0010\n",
      "Epoch 17/50\n",
      "735/735 [==============================] - 7s 8ms/step - loss: 0.0359 - binary_accuracy: 0.9901 - val_loss: 0.0343 - val_binary_accuracy: 0.9912 - lr: 0.0010\n",
      "Epoch 18/50\n",
      "735/735 [==============================] - 7s 8ms/step - loss: 0.0361 - binary_accuracy: 0.9898 - val_loss: 0.0343 - val_binary_accuracy: 0.9906 - lr: 0.0010\n",
      "Epoch 19/50\n",
      "735/735 [==============================] - 7s 8ms/step - loss: 0.0356 - binary_accuracy: 0.9903 - val_loss: 0.0380 - val_binary_accuracy: 0.9893 - lr: 0.0010\n",
      "Epoch 20/50\n",
      "735/735 [==============================] - 7s 8ms/step - loss: 0.0371 - binary_accuracy: 0.9898 - val_loss: 0.0334 - val_binary_accuracy: 0.9906 - lr: 0.0010\n",
      "Epoch 21/50\n",
      "735/735 [==============================] - 7s 8ms/step - loss: 0.0367 - binary_accuracy: 0.9899 - val_loss: 0.0346 - val_binary_accuracy: 0.9904 - lr: 0.0010\n",
      "Epoch 22/50\n",
      "733/735 [============================>.] - ETA: 0s - loss: 0.0359 - binary_accuracy: 0.9902\n",
      "Epoch 22: ReduceLROnPlateau reducing learning rate to 0.0005000000237487257.\n",
      "735/735 [==============================] - 7s 8ms/step - loss: 0.0359 - binary_accuracy: 0.9902 - val_loss: 0.0345 - val_binary_accuracy: 0.9906 - lr: 0.0010\n",
      "Epoch 23/50\n",
      "735/735 [==============================] - 7s 7ms/step - loss: 0.0352 - binary_accuracy: 0.9903 - val_loss: 0.0322 - val_binary_accuracy: 0.9907 - lr: 5.0000e-04\n",
      "Epoch 24/50\n",
      "735/735 [==============================] - 7s 8ms/step - loss: 0.0359 - binary_accuracy: 0.9899 - val_loss: 0.0366 - val_binary_accuracy: 0.9904 - lr: 5.0000e-04\n",
      "Epoch 25/50\n",
      "735/735 [==============================] - 7s 8ms/step - loss: 0.0360 - binary_accuracy: 0.9901 - val_loss: 0.0365 - val_binary_accuracy: 0.9903 - lr: 5.0000e-04\n",
      "Epoch 26/50\n",
      "735/735 [==============================] - 7s 8ms/step - loss: 0.0358 - binary_accuracy: 0.9899 - val_loss: 0.0338 - val_binary_accuracy: 0.9905 - lr: 5.0000e-04\n",
      "Epoch 27/50\n",
      "735/735 [==============================] - 7s 8ms/step - loss: 0.0345 - binary_accuracy: 0.9905 - val_loss: 0.0325 - val_binary_accuracy: 0.9909 - lr: 5.0000e-04\n",
      "Epoch 28/50\n",
      "735/735 [==============================] - 7s 7ms/step - loss: 0.0349 - binary_accuracy: 0.9903 - val_loss: 0.0333 - val_binary_accuracy: 0.9905 - lr: 5.0000e-04\n",
      "Epoch 29/50\n",
      "735/735 [==============================] - 7s 7ms/step - loss: 0.0346 - binary_accuracy: 0.9904 - val_loss: 0.0323 - val_binary_accuracy: 0.9911 - lr: 5.0000e-04\n",
      "Epoch 30/50\n",
      "735/735 [==============================] - 7s 8ms/step - loss: 0.0347 - binary_accuracy: 0.9902 - val_loss: 0.0333 - val_binary_accuracy: 0.9906 - lr: 5.0000e-04\n",
      "Epoch 31/50\n",
      "735/735 [==============================] - 7s 8ms/step - loss: 0.0353 - binary_accuracy: 0.9905 - val_loss: 0.0354 - val_binary_accuracy: 0.9909 - lr: 5.0000e-04\n",
      "Epoch 32/50\n",
      "735/735 [==============================] - ETA: 0s - loss: 0.0353 - binary_accuracy: 0.9898Restoring model weights from the end of the best epoch: 12.\n",
      "\n",
      "Epoch 32: ReduceLROnPlateau reducing learning rate to 0.0002500000118743628.\n",
      "735/735 [==============================] - 7s 8ms/step - loss: 0.0353 - binary_accuracy: 0.9898 - val_loss: 0.0334 - val_binary_accuracy: 0.9909 - lr: 5.0000e-04\n",
      "Epoch 32: early stopping\n",
      "735/735 [==============================] - 3s 2ms/step\n",
      "368/368 [==============================] - 1s 2ms/step\n"
     ]
    },
    {
     "data": {
      "text/html": [
       "Waiting for W&B process to finish... <strong style=\"color:green\">(success).</strong>"
      ],
      "text/plain": [
       "<IPython.core.display.HTML object>"
      ]
     },
     "metadata": {},
     "output_type": "display_data"
    },
    {
     "data": {
      "text/html": [
       "<style>\n",
       "    table.wandb td:nth-child(1) { padding: 0 10px; text-align: left ; width: auto;} td:nth-child(2) {text-align: left ; width: 100%}\n",
       "    .wandb-row { display: flex; flex-direction: row; flex-wrap: wrap; justify-content: flex-start; width: 100% }\n",
       "    .wandb-col { display: flex; flex-direction: column; flex-basis: 100%; flex: 1; padding: 10px; }\n",
       "    </style>\n",
       "<div class=\"wandb-row\"><div class=\"wandb-col\"><h3>Run history:</h3><br/><table class=\"wandb\"><tr><td>epoch/binary_accuracy</td><td>▁▃▆▇▇▇▆█▇▄▇▆▇▇▇▇█▁▆▇▆▇▇▇█▇▄▆▆▇▇▆██▂▅▆▆▆▆</td></tr><tr><td>epoch/epoch</td><td>▁▂▂▃▄▅▆▇█▁▂▃▄▅▅▆▇▁▂▃▄▅▅▆▇█▂▂▃▄▅▆▇▇▁▂▃▄▅▅</td></tr><tr><td>epoch/learning_rate</td><td>████▃▃▃▃▃███▃▃▃▁▁███████▃▃█████▃▃▁████▃▁</td></tr><tr><td>epoch/loss</td><td>█▆▄▂▂▃▃▁▂▅▃▃▂▂▂▂▁█▃▂▃▂▂▃▂▁▅▃▃▃▂▂▂▁▇▄▃▃▃▂</td></tr><tr><td>epoch/lr</td><td>█████▃▃▃▃███▃▃▃▃▁████████▃█████▃▃▁████▃▃</td></tr><tr><td>epoch/val_binary_accuracy</td><td>▂▁▆▅▅▆▇▆▇▄▅▅▇█▆▆▇▃▅▅▇▃▇▆▆▆▃▆▄▇▅▆▆▇▃▅▄▆▆▆</td></tr><tr><td>epoch/val_loss</td><td>▇█▃▄▃▃▂▃▂▇▄▄▂▁▂▃▃▇▃▃▂▆▃▄▃▄▆▅▄▃▃▃▃▃▇▄▅▃▃▃</td></tr></table><br/></div><div class=\"wandb-col\"><h3>Run summary:</h3><br/><table class=\"wandb\"><tr><td>epoch/binary_accuracy</td><td>0.98975</td></tr><tr><td>epoch/epoch</td><td>31</td></tr><tr><td>epoch/learning_rate</td><td>0.00025</td></tr><tr><td>epoch/loss</td><td>0.03533</td></tr><tr><td>epoch/lr</td><td>0.0005</td></tr><tr><td>epoch/val_binary_accuracy</td><td>0.99086</td></tr><tr><td>epoch/val_loss</td><td>0.03335</td></tr></table><br/></div></div>"
      ],
      "text/plain": [
       "<IPython.core.display.HTML object>"
      ]
     },
     "metadata": {},
     "output_type": "display_data"
    },
    {
     "data": {
      "text/html": [
       " View run <strong style=\"color:#cdcd00\">NN</strong> at: <a href='https://wandb.ai/g-broughton/S3E10/runs/kq8k495z' target=\"_blank\">https://wandb.ai/g-broughton/S3E10/runs/kq8k495z</a><br/>Synced 7 W&B file(s), 0 media file(s), 0 artifact file(s) and 0 other file(s)"
      ],
      "text/plain": [
       "<IPython.core.display.HTML object>"
      ]
     },
     "metadata": {},
     "output_type": "display_data"
    },
    {
     "data": {
      "text/html": [
       "Find logs at: <code>./wandb/run-20230320_191135-kq8k495z/logs</code>"
      ],
      "text/plain": [
       "<IPython.core.display.HTML object>"
      ]
     },
     "metadata": {},
     "output_type": "display_data"
    }
   ],
   "source": [
    "\n",
    "k_fold = RepeatedStratifiedKFold(n_splits=CFG.NFOLDS, n_repeats=CFG.REPEATS, random_state=CFG.SEED)\n",
    "\n",
    "params = {\n",
    "    'folds': CFG.NFOLDS,\n",
    "    'repeats': CFG.REPEATS,\n",
    "    'batch_size': CFG.BATCH_SIZE,\n",
    "    'learning_rate': CFG.LR,\n",
    "}\n",
    "wandb.init(project='S3E10', group='NN', name='NN', config=params, tags=['CV5'])\n",
    "\n",
    "train_log_loss = []\n",
    "oof_log_loss = []\n",
    "models = []\n",
    "\n",
    "ds = tf.data.Dataset.from_tensor_slices((X, y)).shuffle(len(y)*2)\n",
    "ds1 = ds.shard(5, 0)\n",
    "ds2 = ds.shard(5, 1)\n",
    "ds3 = ds.shard(5, 2)\n",
    "ds4 = ds.shard(5, 3)\n",
    "ds5 = ds.shard(5, 4)\n",
    "\n",
    "arr = [ds1, ds2, ds3, ds4, ds5]\n",
    "\n",
    "for ds in arr:\n",
    "    ensemble = NN(test)\n",
    "    ensemble.compile(\n",
    "        optimizer=tf.keras.optimizers.Adam(learning_rate=CFG.LR),\n",
    "        loss='binary_crossentropy',\n",
    "        metrics=['binary_accuracy']\n",
    "    )\n",
    "    \n",
    "    val_ds = ds.batch(64)\n",
    "    dslist = [d for d in arr if d is not ds]\n",
    "    train_ds = dslist[0].concatenate(dslist[1]).concatenate(dslist[2]).concatenate(dslist[3])\n",
    "    train_ds = train_ds.shuffle(len(y)*2).batch(128)\n",
    "\n",
    "    history = ensemble.fit(\n",
    "        train_ds,\n",
    "        epochs=CFG.EPOCHS, callbacks=callbacks, \n",
    "        validation_data=val_ds, \n",
    "        use_multiprocessing=True\n",
    "    )\n",
    "\n",
    "    train_preds = ensemble.predict(train_ds)\n",
    "    # train_loss = log_loss(y_train, train_preds)\n",
    "    train_log_loss.append(train_preds)\n",
    "\n",
    "    oof_preds = ensemble.predict(val_ds)\n",
    "    # oof_loss = log_loss(y_val, oof_preds)\n",
    "    oof_log_loss.append(oof_preds)\n",
    "\n",
    "    models.append(ensemble)\n",
    "wandb.finish()\n"
   ]
  },
  {
   "cell_type": "code",
   "execution_count": 84,
   "metadata": {},
   "outputs": [
    {
     "name": "stdout",
     "output_type": "stream",
     "text": [
      "2450/2450 [==============================] - 5s 2ms/step\n",
      "2450/2450 [==============================] - 4s 2ms/step\n",
      "2450/2450 [==============================] - 5s 2ms/step\n",
      "2450/2450 [==============================] - 6s 2ms/step\n",
      "2450/2450 [==============================] - 5s 2ms/step\n"
     ]
    }
   ],
   "source": [
    "preds = np.sum([model.predict(test) / 5 for model in models])"
   ]
  },
  {
   "cell_type": "code",
   "execution_count": 88,
   "metadata": {},
   "outputs": [],
   "source": [
    "preds = sum(preds)"
   ]
  },
  {
   "cell_type": "code",
   "execution_count": 89,
   "metadata": {},
   "outputs": [],
   "source": [
    "submission = pd.read_csv(os.path.join(CFG.DATA_PATH, 'sample_submission.csv'))\n",
    "submission['Class'] = preds\n",
    "submission.to_csv(\n",
    "    os.path.join(CFG.BASE_PATH, 'submissions', f'NN_{datetime.datetime.strftime(datetime.datetime.now(), \"%m-%d_%H-%M\")}.csv'),\n",
    "    index=False)"
   ]
  },
  {
   "cell_type": "code",
   "execution_count": null,
   "metadata": {},
   "outputs": [],
   "source": []
  }
 ],
 "metadata": {
  "kernelspec": {
   "display_name": "kaggle",
   "language": "python",
   "name": "python3"
  },
  "language_info": {
   "codemirror_mode": {
    "name": "ipython",
    "version": 3
   },
   "file_extension": ".py",
   "mimetype": "text/x-python",
   "name": "python",
   "nbconvert_exporter": "python",
   "pygments_lexer": "ipython3",
   "version": "3.10.9"
  },
  "orig_nbformat": 4
 },
 "nbformat": 4,
 "nbformat_minor": 2
}
