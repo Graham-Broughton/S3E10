{
 "cells": [
  {
   "cell_type": "code",
   "execution_count": 1,
   "metadata": {},
   "outputs": [],
   "source": [
    "%load_ext autoreload\n",
    "%autoreload 2"
   ]
  },
  {
   "cell_type": "code",
   "execution_count": 2,
   "metadata": {},
   "outputs": [
    {
     "name": "stderr",
     "output_type": "stream",
     "text": [
      "2023-03-20 15:57:19.251853: I tensorflow/core/platform/cpu_feature_guard.cc:193] This TensorFlow binary is optimized with oneAPI Deep Neural Network Library (oneDNN) to use the following CPU instructions in performance-critical operations:  SSE4.1 SSE4.2 AVX AVX2 FMA\n",
      "To enable them in other operations, rebuild TensorFlow with the appropriate compiler flags.\n"
     ]
    }
   ],
   "source": [
    "import pandas as pd\n",
    "import numpy as np\n",
    "import matplotlib.pyplot as plt\n",
    "import seaborn as sns\n",
    "%matplotlib inline\n",
    "\n",
    "import tensorflow as tf\n",
    "import wandb\n",
    "from wandb.keras import WandbMetricsLogger\n",
    "\n",
    "import os\n",
    "import sys\n",
    "import datetime\n",
    "\n",
    "from sklearn.model_selection import RepeatedStratifiedKFold\n",
    "from sklearn.metrics import log_loss\n",
    "\n",
    "import warnings; warnings.filterwarnings('ignore')\n",
    "\n",
    "sys.path.append('..')\n",
    "from config import CFG\n",
    "from src.model.include_concat import NN\n",
    "CFG = CFG()\n",
    "pd.options.display.float_format = '{:,.2f}'.format\n",
    "pd.set_option('display.max_columns', 30)\n",
    "pd.set_option('display.max_rows', 100)"
   ]
  },
  {
   "cell_type": "code",
   "execution_count": 16,
   "metadata": {},
   "outputs": [],
   "source": [
    "from colorama import Style, Fore\n",
    "red = Style.BRIGHT + Fore.RED\n",
    "blu = Style.BRIGHT + Fore.BLUE\n",
    "mgt = Style.BRIGHT + Fore.MAGENTA\n",
    "grn = Style.BRIGHT + Fore.GREEN\n",
    "gld = Style.BRIGHT + Fore.YELLOW\n",
    "res = Style.RESET_ALL\n",
    "\n",
    "rc = {\n",
    "    \"axes.facecolor\": \"#FFFEF8\",\n",
    "    \"figure.facecolor\": \"#FFFEF8\",\n",
    "    \"axes.edgecolor\": \"#000000\",\n",
    "    \"grid.color\": \"#EBEBE7\" + \"30\",\n",
    "    \"font.family\": \"serif\",\n",
    "    \"axes.labelcolor\": \"#000000\",\n",
    "    \"xtick.color\": \"#000000\",\n",
    "    \"ytick.color\": \"#000000\",\n",
    "    \"grid.alpha\": 0.4\n",
    "}\n",
    "sns.set(rc=rc)\n",
    "palette = ['#302c36', '#037d97', '#E4591E', '#C09741',\n",
    "           '#EC5B6D', '#90A6B1', '#6ca957', '#D8E3E2']"
   ]
  },
  {
   "cell_type": "code",
   "execution_count": 17,
   "metadata": {},
   "outputs": [],
   "source": [
    "def log_(column):\n",
    "    return np.log(-min(column) + 1 + column)"
   ]
  },
  {
   "cell_type": "code",
   "execution_count": 18,
   "metadata": {},
   "outputs": [],
   "source": [
    "orig = pd.read_csv(os.path.join(CFG.RAW_DATA, 'Pulsar.csv'))\n",
    "train = pd.read_csv(os.path.join(CFG.RAW_DATA, 'train.csv')).drop(columns='id')\n",
    "test = pd.read_csv(os.path.join(CFG.RAW_DATA, 'test.csv')).drop(columns='id')\n",
    "\n",
    "train[['Skewness', 'Skewness_DMSNR_Curve']] = train.apply({'Skewness': log_, 'Skewness_DMSNR_Curve': log_})\n",
    "test[['Skewness', 'Skewness_DMSNR_Curve']] = test.apply({'Skewness': log_, 'Skewness_DMSNR_Curve': log_})"
   ]
  },
  {
   "cell_type": "code",
   "execution_count": 22,
   "metadata": {},
   "outputs": [],
   "source": [
    "X = train.drop('Class', axis=1)\n",
    "y = train['Class']"
   ]
  },
  {
   "cell_type": "code",
   "execution_count": 20,
   "metadata": {},
   "outputs": [],
   "source": [
    "callbacks = [\n",
    "    tf.keras.callbacks.EarlyStopping(\n",
    "        monitor='val_loss', patience=20, mode='min', restore_best_weights=True, verbose=2\n",
    "    ),\n",
    "    tf.keras.callbacks.ReduceLROnPlateau(\n",
    "        monitor='val_loss', factor=0.5, patience=10, mode='min', restore_best_weights=True, min_lr=1e-12, verbose=2\n",
    "    ),\n",
    "    WandbMetricsLogger()\n",
    "]"
   ]
  },
  {
   "cell_type": "code",
   "execution_count": 25,
   "metadata": {},
   "outputs": [
    {
     "data": {
      "text/html": [
       "Finishing last run (ID:czy6e4ut) before initializing another..."
      ],
      "text/plain": [
       "<IPython.core.display.HTML object>"
      ]
     },
     "metadata": {},
     "output_type": "display_data"
    },
    {
     "data": {
      "text/html": [
       "Waiting for W&B process to finish... <strong style=\"color:green\">(success).</strong>"
      ],
      "text/plain": [
       "<IPython.core.display.HTML object>"
      ]
     },
     "metadata": {},
     "output_type": "display_data"
    },
    {
     "data": {
      "application/vnd.jupyter.widget-view+json": {
       "model_id": "fcb193bf5a464ba9bcf59900d803dc37",
       "version_major": 2,
       "version_minor": 0
      },
      "text/plain": [
       "VBox(children=(Label(value='3.068 MB of 3.068 MB uploaded (0.000 MB deduped)\\r'), FloatProgress(value=1.0, max…"
      ]
     },
     "metadata": {},
     "output_type": "display_data"
    },
    {
     "data": {
      "text/html": [
       "<style>\n",
       "    table.wandb td:nth-child(1) { padding: 0 10px; text-align: left ; width: auto;} td:nth-child(2) {text-align: left ; width: 100%}\n",
       "    .wandb-row { display: flex; flex-direction: row; flex-wrap: wrap; justify-content: flex-start; width: 100% }\n",
       "    .wandb-col { display: flex; flex-direction: column; flex-basis: 100%; flex: 1; padding: 10px; }\n",
       "    </style>\n",
       "<div class=\"wandb-row\"><div class=\"wandb-col\"><h3>Run history:</h3><br/><table class=\"wandb\"><tr><td>epoch/binary_accuracy</td><td>▁▆▇▇█</td></tr><tr><td>epoch/epoch</td><td>▁▃▅▆█</td></tr><tr><td>epoch/learning_rate</td><td>▁▁▁▁▁</td></tr><tr><td>epoch/loss</td><td>█▃▂▂▁</td></tr><tr><td>epoch/lr</td><td>▁▁▁▁▁</td></tr><tr><td>epoch/val_binary_accuracy</td><td>▁▄▅▅█</td></tr><tr><td>epoch/val_loss</td><td>█▄▃▄▁</td></tr></table><br/></div><div class=\"wandb-col\"><h3>Run summary:</h3><br/><table class=\"wandb\"><tr><td>epoch/binary_accuracy</td><td>0.98825</td></tr><tr><td>epoch/epoch</td><td>4</td></tr><tr><td>epoch/learning_rate</td><td>0.001</td></tr><tr><td>epoch/loss</td><td>0.04384</td></tr><tr><td>epoch/lr</td><td>0.001</td></tr><tr><td>epoch/val_binary_accuracy</td><td>0.99023</td></tr><tr><td>epoch/val_loss</td><td>0.03489</td></tr></table><br/></div></div>"
      ],
      "text/plain": [
       "<IPython.core.display.HTML object>"
      ]
     },
     "metadata": {},
     "output_type": "display_data"
    },
    {
     "data": {
      "text/html": [
       " View run <strong style=\"color:#cdcd00\">NNtest</strong> at: <a href='https://wandb.ai/g-broughton/S3E10/runs/czy6e4ut' target=\"_blank\">https://wandb.ai/g-broughton/S3E10/runs/czy6e4ut</a><br/>Synced 7 W&B file(s), 0 media file(s), 0 artifact file(s) and 0 other file(s)"
      ],
      "text/plain": [
       "<IPython.core.display.HTML object>"
      ]
     },
     "metadata": {},
     "output_type": "display_data"
    },
    {
     "data": {
      "text/html": [
       "Find logs at: <code>./wandb/run-20230320_152106-czy6e4ut/logs</code>"
      ],
      "text/plain": [
       "<IPython.core.display.HTML object>"
      ]
     },
     "metadata": {},
     "output_type": "display_data"
    },
    {
     "data": {
      "text/html": [
       "Successfully finished last run (ID:czy6e4ut). Initializing new run:<br/>"
      ],
      "text/plain": [
       "<IPython.core.display.HTML object>"
      ]
     },
     "metadata": {},
     "output_type": "display_data"
    },
    {
     "data": {
      "application/vnd.jupyter.widget-view+json": {
       "model_id": "3a85c7fbb6464e3295b3ff169c22f4e7",
       "version_major": 2,
       "version_minor": 0
      },
      "text/plain": [
       "VBox(children=(Label(value='Waiting for wandb.init()...\\r'), FloatProgress(value=0.016668913266645782, max=1.0…"
      ]
     },
     "metadata": {},
     "output_type": "display_data"
    },
    {
     "data": {
      "text/html": [
       "Tracking run with wandb version 0.14.0"
      ],
      "text/plain": [
       "<IPython.core.display.HTML object>"
      ]
     },
     "metadata": {},
     "output_type": "display_data"
    },
    {
     "data": {
      "text/html": [
       "Run data is saved locally in <code>/home/broug/Desktop/S3E10/notebooks/wandb/run-20230320_152550-h59q3gsv</code>"
      ],
      "text/plain": [
       "<IPython.core.display.HTML object>"
      ]
     },
     "metadata": {},
     "output_type": "display_data"
    },
    {
     "data": {
      "text/html": [
       "Syncing run <strong><a href='https://wandb.ai/g-broughton/S3E10/runs/h59q3gsv' target=\"_blank\">NN</a></strong> to <a href='https://wandb.ai/g-broughton/S3E10' target=\"_blank\">Weights & Biases</a> (<a href='https://wandb.me/run' target=\"_blank\">docs</a>)<br/>"
      ],
      "text/plain": [
       "<IPython.core.display.HTML object>"
      ]
     },
     "metadata": {},
     "output_type": "display_data"
    },
    {
     "data": {
      "text/html": [
       " View project at <a href='https://wandb.ai/g-broughton/S3E10' target=\"_blank\">https://wandb.ai/g-broughton/S3E10</a>"
      ],
      "text/plain": [
       "<IPython.core.display.HTML object>"
      ]
     },
     "metadata": {},
     "output_type": "display_data"
    },
    {
     "data": {
      "text/html": [
       " View run at <a href='https://wandb.ai/g-broughton/S3E10/runs/h59q3gsv' target=\"_blank\">https://wandb.ai/g-broughton/S3E10/runs/h59q3gsv</a>"
      ],
      "text/plain": [
       "<IPython.core.display.HTML object>"
      ]
     },
     "metadata": {},
     "output_type": "display_data"
    },
    {
     "name": "stdout",
     "output_type": "stream",
     "text": [
      "Epoch 1/50\n",
      "4899/4899 [==============================] - 49s 8ms/step - loss: 0.0666 - binary_accuracy: 0.9806 - val_loss: 0.0475 - val_binary_accuracy: 0.9885 - lr: 0.0010\n",
      "Epoch 2/50\n",
      "4899/4899 [==============================] - 38s 8ms/step - loss: 0.0523 - binary_accuracy: 0.9859 - val_loss: 0.0417 - val_binary_accuracy: 0.9883 - lr: 0.0010\n",
      "Epoch 3/50\n",
      "4899/4899 [==============================] - 38s 8ms/step - loss: 0.0482 - binary_accuracy: 0.9868 - val_loss: 0.0385 - val_binary_accuracy: 0.9890 - lr: 0.0010\n",
      "Epoch 4/50\n",
      "4899/4899 [==============================] - 38s 8ms/step - loss: 0.0445 - binary_accuracy: 0.9876 - val_loss: 0.0365 - val_binary_accuracy: 0.9904 - lr: 0.0010\n",
      "Epoch 5/50\n",
      "4899/4899 [==============================] - 38s 8ms/step - loss: 0.0427 - binary_accuracy: 0.9886 - val_loss: 0.0363 - val_binary_accuracy: 0.9900 - lr: 0.0010\n",
      "Epoch 6/50\n",
      "4899/4899 [==============================] - 38s 8ms/step - loss: 0.0427 - binary_accuracy: 0.9887 - val_loss: 0.0357 - val_binary_accuracy: 0.9905 - lr: 0.0010\n",
      "Epoch 7/50\n",
      "4899/4899 [==============================] - 38s 8ms/step - loss: 0.0416 - binary_accuracy: 0.9889 - val_loss: 0.0385 - val_binary_accuracy: 0.9897 - lr: 0.0010\n",
      "Epoch 8/50\n",
      "4899/4899 [==============================] - 37s 8ms/step - loss: 0.0403 - binary_accuracy: 0.9896 - val_loss: 0.0346 - val_binary_accuracy: 0.9905 - lr: 0.0010\n",
      "Epoch 9/50\n",
      "4899/4899 [==============================] - 38s 8ms/step - loss: 0.0407 - binary_accuracy: 0.9893 - val_loss: 0.0362 - val_binary_accuracy: 0.9901 - lr: 0.0010\n",
      "Epoch 10/50\n",
      "4899/4899 [==============================] - 39s 8ms/step - loss: 0.0401 - binary_accuracy: 0.9893 - val_loss: 0.0351 - val_binary_accuracy: 0.9909 - lr: 0.0010\n",
      "Epoch 11/50\n",
      "4899/4899 [==============================] - 38s 8ms/step - loss: 0.0408 - binary_accuracy: 0.9893 - val_loss: 0.0367 - val_binary_accuracy: 0.9907 - lr: 0.0010\n",
      "Epoch 12/50\n",
      "4899/4899 [==============================] - 38s 8ms/step - loss: 0.0402 - binary_accuracy: 0.9895 - val_loss: 0.0353 - val_binary_accuracy: 0.9905 - lr: 0.0010\n",
      "Epoch 13/50\n",
      "4899/4899 [==============================] - 37s 8ms/step - loss: 0.0403 - binary_accuracy: 0.9893 - val_loss: 0.0375 - val_binary_accuracy: 0.9902 - lr: 0.0010\n",
      "Epoch 14/50\n",
      "4899/4899 [==============================] - 38s 8ms/step - loss: 0.0399 - binary_accuracy: 0.9894 - val_loss: 0.0326 - val_binary_accuracy: 0.9910 - lr: 0.0010\n",
      "Epoch 15/50\n",
      "4899/4899 [==============================] - 37s 8ms/step - loss: 0.0389 - binary_accuracy: 0.9894 - val_loss: 0.0327 - val_binary_accuracy: 0.9909 - lr: 0.0010\n",
      "Epoch 16/50\n",
      "4899/4899 [==============================] - 37s 8ms/step - loss: 0.0405 - binary_accuracy: 0.9890 - val_loss: 0.0338 - val_binary_accuracy: 0.9907 - lr: 0.0010\n",
      "Epoch 17/50\n",
      "4899/4899 [==============================] - 38s 8ms/step - loss: 0.0398 - binary_accuracy: 0.9893 - val_loss: 0.0345 - val_binary_accuracy: 0.9903 - lr: 0.0010\n",
      "Epoch 18/50\n",
      "4899/4899 [==============================] - 38s 8ms/step - loss: 0.0395 - binary_accuracy: 0.9893 - val_loss: 0.0410 - val_binary_accuracy: 0.9892 - lr: 0.0010\n",
      "Epoch 19/50\n",
      "4899/4899 [==============================] - 39s 8ms/step - loss: 0.0399 - binary_accuracy: 0.9893 - val_loss: 0.0390 - val_binary_accuracy: 0.9898 - lr: 0.0010\n",
      "Epoch 20/50\n",
      "4899/4899 [==============================] - 36s 7ms/step - loss: 0.0397 - binary_accuracy: 0.9894 - val_loss: 0.0365 - val_binary_accuracy: 0.9898 - lr: 0.0010\n",
      "Epoch 21/50\n",
      "4899/4899 [==============================] - 40s 8ms/step - loss: 0.0394 - binary_accuracy: 0.9893 - val_loss: 0.0382 - val_binary_accuracy: 0.9893 - lr: 0.0010\n",
      "Epoch 22/50\n",
      "4897/4899 [============================>.] - ETA: 0s - loss: 0.0393 - binary_accuracy: 0.9892"
     ]
    }
   ],
   "source": [
    "ensemble = NN(test)\n",
    "ensemble.compile(\n",
    "    optimizer=tf.keras.optimizers.Adam(learning_rate=CFG.LR),\n",
    "    loss='binary_crossentropy',\n",
    "    metrics=['binary_accuracy']\n",
    ")\n",
    "k_fold = RepeatedStratifiedKFold(n_splits=CFG.NFOLDS, n_repeats=CFG.REPEATS, random_state=CFG.SEED)\n",
    "\n",
    "params = {\n",
    "    'folds': CFG.NFOLDS,\n",
    "    'repeats': CFG.REPEATS,\n",
    "    'batch_size': CFG.BATCH_SIZE,\n",
    "    'learning_rate': CFG.LR,\n",
    "}\n",
    "wandb.init(project='S3E10', group='NN', name='NN', config=params)\n",
    "\n",
    "train_log_loss = []\n",
    "oof_log_loss = []\n",
    "models = []\n",
    "for train_idx, val_idx in k_fold.split(X, y):\n",
    "    X_train, X_val = X.iloc[train_idx], X.iloc[val_idx]\n",
    "    y_train, y_val = y.iloc[train_idx], y.iloc[val_idx]\n",
    "\n",
    "    history = ensemble.fit(\n",
    "        X_train, y_train, \n",
    "        batch_size=CFG.BATCH_SIZE, \n",
    "        epochs=CFG.EPOCHS, callbacks=callbacks, \n",
    "        validation_data=(X_val, y_val),\n",
    "        use_multiprocessing=True\n",
    "    )\n",
    "\n",
    "    train_preds = ensemble.predict(X_train)\n",
    "    train_loss = log_loss(y_train, train_preds)\n",
    "    train_log_loss.append(train_loss)\n",
    "\n",
    "    oof_preds = ensemble.predict(X_val)\n",
    "    oof_loss = log_loss(y_val, oof_preds)\n",
    "    oof_log_loss.append(oof_loss)\n",
    "\n",
    "    models.append(ensemble)\n",
    "wandb.finish()"
   ]
  },
  {
   "cell_type": "code",
   "execution_count": null,
   "metadata": {},
   "outputs": [],
   "source": []
  }
 ],
 "metadata": {
  "kernelspec": {
   "display_name": "kaggle",
   "language": "python",
   "name": "python3"
  },
  "language_info": {
   "codemirror_mode": {
    "name": "ipython",
    "version": 3
   },
   "file_extension": ".py",
   "mimetype": "text/x-python",
   "name": "python",
   "nbconvert_exporter": "python",
   "pygments_lexer": "ipython3",
   "version": "3.10.9"
  },
  "orig_nbformat": 4
 },
 "nbformat": 4,
 "nbformat_minor": 2
}
