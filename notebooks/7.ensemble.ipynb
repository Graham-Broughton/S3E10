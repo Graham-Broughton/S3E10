{
 "cells": [
  {
   "cell_type": "code",
   "execution_count": 1,
   "metadata": {},
   "outputs": [],
   "source": [
    "import pandas as pd\n",
    "import numpy as np\n",
    "import matplotlib.pyplot as plt\n",
    "import seaborn as sns\n",
    "%matplotlib inline\n",
    "\n",
    "# import optuna\n",
    "\n",
    "from sklearn.preprocessing import StandardScaler, RobustScaler\n",
    "from sklearn.model_selection import RepeatedStratifiedKFold\n",
    "from sklearn.metrics import mean_squared_error, log_loss\n",
    "\n",
    "import os\n",
    "import sys\n",
    "import datetime\n",
    "\n",
    "import wandb\n",
    "\n",
    "import warnings; warnings.filterwarnings('ignore')\n",
    "\n",
    "sys.path.append('..')\n",
    "from config import CFG\n",
    "CFG = CFG()\n",
    "pd.options.display.float_format = '{:,.2f}'.format\n",
    "pd.set_option('display.max_columns', CFG.NCOLS)\n",
    "pd.set_option('display.max_rows', CFG.NROWS)"
   ]
  },
  {
   "cell_type": "code",
   "execution_count": 2,
   "metadata": {},
   "outputs": [],
   "source": [
    "sub1 = pd.read_csv('../submissions/submission1.csv')\n",
    "sub2 = pd.read_csv('../' + os.path.join(\"submissions\", \"submission2.csv\"))\n",
    "sub3 = pd.read_csv(r'../submissions/submission3.csv')\n",
    "sub4 = pd.read_csv('../submissions/submission4.csv')\n",
    "sub5 = pd.read_csv('../submissions/XGB_LGBM_2.csv')\n",
    "sub6 = pd.read_csv('../submissions/submission_flaml_0.03077.csv')\n",
    "sub7 = pd.read_csv('../submissions/NN_03-20_19-57.csv')"
   ]
  },
  {
   "cell_type": "code",
   "execution_count": 3,
   "metadata": {},
   "outputs": [],
   "source": [
    "params = {\n",
    "    'a': 90,\n",
    "    'b': 80,\n",
    "    'c': 70,\n",
    "    'd': 60,\n",
    "    'e': 30,\n",
    "    'f': 60,\n",
    "    'g': 20\n",
    "}\n",
    "\n",
    "subs = {\n",
    "    'sub1': sub1,\n",
    "    'sub2': sub2,\n",
    "    'sub3': sub3,\n",
    "    'sub4': sub4,\n",
    "    'sub5': sub5,\n",
    "    'sub6': sub6,\n",
    "    'sub7': sub7\n",
    "}\n",
    "\n",
    "sub = sum(\n",
    "    (x * y).Class for x, y in list(zip(subs.values(), params.values()))\n",
    ") / sum(params.values())\n",
    "\n",
    "sub1['Class'] = sub\n",
    "sub1.to_csv('../submissions/ensemble6.csv', index=False)"
   ]
  },
  {
   "cell_type": "code",
   "execution_count": 33,
   "metadata": {},
   "outputs": [],
   "source": []
  }
 ],
 "metadata": {
  "kernelspec": {
   "display_name": "kaggle",
   "language": "python",
   "name": "python3"
  },
  "language_info": {
   "codemirror_mode": {
    "name": "ipython",
    "version": 3
   },
   "file_extension": ".py",
   "mimetype": "text/x-python",
   "name": "python",
   "nbconvert_exporter": "python",
   "pygments_lexer": "ipython3",
   "version": "3.10.9"
  },
  "orig_nbformat": 4,
  "vscode": {
   "interpreter": {
    "hash": "07cfc8070c5a79c41155e74296e4f716a27d1be9b4894942716240d8645be99c"
   }
  }
 },
 "nbformat": 4,
 "nbformat_minor": 2
}
